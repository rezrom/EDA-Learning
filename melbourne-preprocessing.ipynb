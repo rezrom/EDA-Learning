{
 "cells": [
  {
   "cell_type": "markdown",
   "id": "08ee86b5-e187-4da9-b4ae-ede34d5b0e3e",
   "metadata": {},
   "source": [
    "## MELBOURNE HOUSING"
   ]
  },
  {
   "cell_type": "markdown",
   "id": "6fa4979b-4c1c-45e8-8ddd-bf2be01c156e",
   "metadata": {},
   "source": [
    "Sumber Data : https://drive.google.com/file/d/1ptfLP18cAUGs7ZwAx1CzwGIIki0CTiBu/view?usp=sharing\n",
    "\n",
    "Melbourne is currently experiencing a housing bubble, (some experts say it may burst soon)."
   ]
  },
  {
   "cell_type": "markdown",
   "id": "e6ec4be4-ce4d-460f-b665-3c63cf02ddf4",
   "metadata": {},
   "source": [
    "### FEATURES DESCRIPTION"
   ]
  },
  {
   "cell_type": "markdown",
   "id": "b2dcbc6f-5742-4a06-9060-418f1098af38",
   "metadata": {},
   "source": [
    "**Suburb**: Suburb\n",
    "\n",
    "**Address**: Address\n",
    "\n",
    "**Rooms**: Number of rooms\n",
    "\n",
    "**Price**: Price in Australian dollars\n",
    "\n",
    "**Method:**\n",
    "- S - property sold;\n",
    "- SP - property sold prior;\n",
    "- PI - property passed in;\n",
    "- PN - sold prior not disclosed;\n",
    "- SN - sold not disclosed;\n",
    "- NB - no bid;\n",
    "- VB - vendor bid;\n",
    "- W - withdrawn prior to auction;\n",
    "- SA - sold after auction;\n",
    "- SS - sold after auction price not disclosed.\n",
    "- N/A - price or highest bid not available.\n",
    "\n",
    "**Type:**\n",
    "- br - bedroom(s);\n",
    "- h - house,cottage,villa, semi,terrace;\n",
    "- u - unit, duplex;\n",
    "- t - townhouse;\n",
    "- dev site - development site;\n",
    "- o res - other residential.\n",
    "\n",
    "**SellerG**: Real Estate Agent\n",
    "\n",
    "**Date**: Date sold\n",
    "\n",
    "**Distance**: Distance from CBD in Kilometres\n",
    "\n",
    "**Regionname**: General Region (West, North West, North, North east …etc)\n",
    "\n",
    "**Propertycount**: Number of properties that exist in the suburb.\n",
    "\n",
    "**Bedroom2** : Scraped # of Bedrooms (from different source)\n",
    "\n",
    "**Bathroom**: Number of Bathrooms\n",
    "\n",
    "**Car**: Number of carspots\n",
    "\n",
    "**Landsize**: Land Size in Metres\n",
    "\n",
    "**BuildingArea**: Building Size in Metres\n",
    "\n",
    "**YearBuilt**: Year the house was built\n",
    "\n",
    "**CouncilArea**: Governing council for the area\n",
    "\n",
    "**Lattitude**: Self explanitory\n",
    "\n",
    "**Longtitude**: Self explanitory"
   ]
  },
  {
   "cell_type": "markdown",
   "id": "c8c9f141-7dc6-468f-8548-45259b738748",
   "metadata": {
    "tags": []
   },
   "source": [
    "### IMPORT LIBRARIES"
   ]
  },
  {
   "cell_type": "code",
   "execution_count": 15,
   "id": "568d6636-f7d5-4953-87c2-0da678f5eee4",
   "metadata": {},
   "outputs": [],
   "source": [
    "# import library\n",
    "import numpy as np\n",
    "import pandas as pd\n",
    "import matplotlib.pyplot as plt\n",
    "import seaborn as sns\n",
    "from scipy import stats\n",
    "\n",
    "import warnings\n",
    "warnings.filterwarnings(\"ignore\")"
   ]
  },
  {
   "cell_type": "markdown",
   "id": "871f4f50-e977-4fd1-b3e1-92986ba5046e",
   "metadata": {},
   "source": [
    "### DATA QUALITY CHECKING"
   ]
  },
  {
   "cell_type": "code",
   "execution_count": 16,
   "id": "85fdd6f1-3d5a-419a-8f9d-bf3d83a0c039",
   "metadata": {},
   "outputs": [],
   "source": [
    "# load data\n",
    "df = pd.read_csv(\"Melbourne_housing_FULL.csv\")"
   ]
  },
  {
   "cell_type": "code",
   "execution_count": 17,
   "id": "c3bbf066-6006-4e72-8cfa-851353ad96b6",
   "metadata": {},
   "outputs": [
    {
     "data": {
      "text/html": [
       "<div>\n",
       "<style scoped>\n",
       "    .dataframe tbody tr th:only-of-type {\n",
       "        vertical-align: middle;\n",
       "    }\n",
       "\n",
       "    .dataframe tbody tr th {\n",
       "        vertical-align: top;\n",
       "    }\n",
       "\n",
       "    .dataframe thead th {\n",
       "        text-align: right;\n",
       "    }\n",
       "</style>\n",
       "<table border=\"1\" class=\"dataframe\">\n",
       "  <thead>\n",
       "    <tr style=\"text-align: right;\">\n",
       "      <th></th>\n",
       "      <th>Suburb</th>\n",
       "      <th>Address</th>\n",
       "      <th>Rooms</th>\n",
       "      <th>Type</th>\n",
       "      <th>Price</th>\n",
       "      <th>Method</th>\n",
       "      <th>SellerG</th>\n",
       "      <th>Date</th>\n",
       "      <th>Distance</th>\n",
       "      <th>Postcode</th>\n",
       "      <th>...</th>\n",
       "      <th>Bathroom</th>\n",
       "      <th>Car</th>\n",
       "      <th>Landsize</th>\n",
       "      <th>BuildingArea</th>\n",
       "      <th>YearBuilt</th>\n",
       "      <th>CouncilArea</th>\n",
       "      <th>Lattitude</th>\n",
       "      <th>Longtitude</th>\n",
       "      <th>Regionname</th>\n",
       "      <th>Propertycount</th>\n",
       "    </tr>\n",
       "  </thead>\n",
       "  <tbody>\n",
       "    <tr>\n",
       "      <th>0</th>\n",
       "      <td>Abbotsford</td>\n",
       "      <td>68 Studley St</td>\n",
       "      <td>2</td>\n",
       "      <td>h</td>\n",
       "      <td>NaN</td>\n",
       "      <td>SS</td>\n",
       "      <td>Jellis</td>\n",
       "      <td>3/09/2016</td>\n",
       "      <td>2.5</td>\n",
       "      <td>3067.0</td>\n",
       "      <td>...</td>\n",
       "      <td>1.0</td>\n",
       "      <td>1.0</td>\n",
       "      <td>126.0</td>\n",
       "      <td>NaN</td>\n",
       "      <td>NaN</td>\n",
       "      <td>Yarra City Council</td>\n",
       "      <td>-37.8014</td>\n",
       "      <td>144.9958</td>\n",
       "      <td>Northern Metropolitan</td>\n",
       "      <td>4019.0</td>\n",
       "    </tr>\n",
       "    <tr>\n",
       "      <th>1</th>\n",
       "      <td>Abbotsford</td>\n",
       "      <td>85 Turner St</td>\n",
       "      <td>2</td>\n",
       "      <td>h</td>\n",
       "      <td>1480000.0</td>\n",
       "      <td>S</td>\n",
       "      <td>Biggin</td>\n",
       "      <td>3/12/2016</td>\n",
       "      <td>2.5</td>\n",
       "      <td>3067.0</td>\n",
       "      <td>...</td>\n",
       "      <td>1.0</td>\n",
       "      <td>1.0</td>\n",
       "      <td>202.0</td>\n",
       "      <td>NaN</td>\n",
       "      <td>NaN</td>\n",
       "      <td>Yarra City Council</td>\n",
       "      <td>-37.7996</td>\n",
       "      <td>144.9984</td>\n",
       "      <td>Northern Metropolitan</td>\n",
       "      <td>4019.0</td>\n",
       "    </tr>\n",
       "    <tr>\n",
       "      <th>2</th>\n",
       "      <td>Abbotsford</td>\n",
       "      <td>25 Bloomburg St</td>\n",
       "      <td>2</td>\n",
       "      <td>h</td>\n",
       "      <td>1035000.0</td>\n",
       "      <td>S</td>\n",
       "      <td>Biggin</td>\n",
       "      <td>4/02/2016</td>\n",
       "      <td>2.5</td>\n",
       "      <td>3067.0</td>\n",
       "      <td>...</td>\n",
       "      <td>1.0</td>\n",
       "      <td>0.0</td>\n",
       "      <td>156.0</td>\n",
       "      <td>79.0</td>\n",
       "      <td>1900.0</td>\n",
       "      <td>Yarra City Council</td>\n",
       "      <td>-37.8079</td>\n",
       "      <td>144.9934</td>\n",
       "      <td>Northern Metropolitan</td>\n",
       "      <td>4019.0</td>\n",
       "    </tr>\n",
       "    <tr>\n",
       "      <th>3</th>\n",
       "      <td>Abbotsford</td>\n",
       "      <td>18/659 Victoria St</td>\n",
       "      <td>3</td>\n",
       "      <td>u</td>\n",
       "      <td>NaN</td>\n",
       "      <td>VB</td>\n",
       "      <td>Rounds</td>\n",
       "      <td>4/02/2016</td>\n",
       "      <td>2.5</td>\n",
       "      <td>3067.0</td>\n",
       "      <td>...</td>\n",
       "      <td>2.0</td>\n",
       "      <td>1.0</td>\n",
       "      <td>0.0</td>\n",
       "      <td>NaN</td>\n",
       "      <td>NaN</td>\n",
       "      <td>Yarra City Council</td>\n",
       "      <td>-37.8114</td>\n",
       "      <td>145.0116</td>\n",
       "      <td>Northern Metropolitan</td>\n",
       "      <td>4019.0</td>\n",
       "    </tr>\n",
       "    <tr>\n",
       "      <th>4</th>\n",
       "      <td>Abbotsford</td>\n",
       "      <td>5 Charles St</td>\n",
       "      <td>3</td>\n",
       "      <td>h</td>\n",
       "      <td>1465000.0</td>\n",
       "      <td>SP</td>\n",
       "      <td>Biggin</td>\n",
       "      <td>4/03/2017</td>\n",
       "      <td>2.5</td>\n",
       "      <td>3067.0</td>\n",
       "      <td>...</td>\n",
       "      <td>2.0</td>\n",
       "      <td>0.0</td>\n",
       "      <td>134.0</td>\n",
       "      <td>150.0</td>\n",
       "      <td>1900.0</td>\n",
       "      <td>Yarra City Council</td>\n",
       "      <td>-37.8093</td>\n",
       "      <td>144.9944</td>\n",
       "      <td>Northern Metropolitan</td>\n",
       "      <td>4019.0</td>\n",
       "    </tr>\n",
       "  </tbody>\n",
       "</table>\n",
       "<p>5 rows × 21 columns</p>\n",
       "</div>"
      ],
      "text/plain": [
       "       Suburb             Address  Rooms Type      Price Method SellerG  \\\n",
       "0  Abbotsford       68 Studley St      2    h        NaN     SS  Jellis   \n",
       "1  Abbotsford        85 Turner St      2    h  1480000.0      S  Biggin   \n",
       "2  Abbotsford     25 Bloomburg St      2    h  1035000.0      S  Biggin   \n",
       "3  Abbotsford  18/659 Victoria St      3    u        NaN     VB  Rounds   \n",
       "4  Abbotsford        5 Charles St      3    h  1465000.0     SP  Biggin   \n",
       "\n",
       "        Date  Distance  Postcode  ...  Bathroom  Car  Landsize  BuildingArea  \\\n",
       "0  3/09/2016       2.5    3067.0  ...       1.0  1.0     126.0           NaN   \n",
       "1  3/12/2016       2.5    3067.0  ...       1.0  1.0     202.0           NaN   \n",
       "2  4/02/2016       2.5    3067.0  ...       1.0  0.0     156.0          79.0   \n",
       "3  4/02/2016       2.5    3067.0  ...       2.0  1.0       0.0           NaN   \n",
       "4  4/03/2017       2.5    3067.0  ...       2.0  0.0     134.0         150.0   \n",
       "\n",
       "   YearBuilt         CouncilArea Lattitude  Longtitude             Regionname  \\\n",
       "0        NaN  Yarra City Council  -37.8014    144.9958  Northern Metropolitan   \n",
       "1        NaN  Yarra City Council  -37.7996    144.9984  Northern Metropolitan   \n",
       "2     1900.0  Yarra City Council  -37.8079    144.9934  Northern Metropolitan   \n",
       "3        NaN  Yarra City Council  -37.8114    145.0116  Northern Metropolitan   \n",
       "4     1900.0  Yarra City Council  -37.8093    144.9944  Northern Metropolitan   \n",
       "\n",
       "  Propertycount  \n",
       "0        4019.0  \n",
       "1        4019.0  \n",
       "2        4019.0  \n",
       "3        4019.0  \n",
       "4        4019.0  \n",
       "\n",
       "[5 rows x 21 columns]"
      ]
     },
     "execution_count": 17,
     "metadata": {},
     "output_type": "execute_result"
    }
   ],
   "source": [
    "# check head\n",
    "df.head()"
   ]
  },
  {
   "cell_type": "code",
   "execution_count": 18,
   "id": "1a940ca3-2970-44a6-ac4a-b266250037d3",
   "metadata": {},
   "outputs": [
    {
     "data": {
      "text/html": [
       "<div>\n",
       "<style scoped>\n",
       "    .dataframe tbody tr th:only-of-type {\n",
       "        vertical-align: middle;\n",
       "    }\n",
       "\n",
       "    .dataframe tbody tr th {\n",
       "        vertical-align: top;\n",
       "    }\n",
       "\n",
       "    .dataframe thead th {\n",
       "        text-align: right;\n",
       "    }\n",
       "</style>\n",
       "<table border=\"1\" class=\"dataframe\">\n",
       "  <thead>\n",
       "    <tr style=\"text-align: right;\">\n",
       "      <th></th>\n",
       "      <th>Suburb</th>\n",
       "      <th>Address</th>\n",
       "      <th>Rooms</th>\n",
       "      <th>Type</th>\n",
       "      <th>Price</th>\n",
       "      <th>Method</th>\n",
       "      <th>SellerG</th>\n",
       "      <th>Date</th>\n",
       "      <th>Distance</th>\n",
       "      <th>Postcode</th>\n",
       "      <th>...</th>\n",
       "      <th>Bathroom</th>\n",
       "      <th>Car</th>\n",
       "      <th>Landsize</th>\n",
       "      <th>BuildingArea</th>\n",
       "      <th>YearBuilt</th>\n",
       "      <th>CouncilArea</th>\n",
       "      <th>Lattitude</th>\n",
       "      <th>Longtitude</th>\n",
       "      <th>Regionname</th>\n",
       "      <th>Propertycount</th>\n",
       "    </tr>\n",
       "  </thead>\n",
       "  <tbody>\n",
       "    <tr>\n",
       "      <th>34852</th>\n",
       "      <td>Yarraville</td>\n",
       "      <td>13 Burns St</td>\n",
       "      <td>4</td>\n",
       "      <td>h</td>\n",
       "      <td>1480000.0</td>\n",
       "      <td>PI</td>\n",
       "      <td>Jas</td>\n",
       "      <td>24/02/2018</td>\n",
       "      <td>6.3</td>\n",
       "      <td>3013.0</td>\n",
       "      <td>...</td>\n",
       "      <td>1.0</td>\n",
       "      <td>3.0</td>\n",
       "      <td>593.0</td>\n",
       "      <td>NaN</td>\n",
       "      <td>NaN</td>\n",
       "      <td>Maribyrnong City Council</td>\n",
       "      <td>-37.81053</td>\n",
       "      <td>144.88467</td>\n",
       "      <td>Western Metropolitan</td>\n",
       "      <td>6543.0</td>\n",
       "    </tr>\n",
       "    <tr>\n",
       "      <th>34853</th>\n",
       "      <td>Yarraville</td>\n",
       "      <td>29A Murray St</td>\n",
       "      <td>2</td>\n",
       "      <td>h</td>\n",
       "      <td>888000.0</td>\n",
       "      <td>SP</td>\n",
       "      <td>Sweeney</td>\n",
       "      <td>24/02/2018</td>\n",
       "      <td>6.3</td>\n",
       "      <td>3013.0</td>\n",
       "      <td>...</td>\n",
       "      <td>2.0</td>\n",
       "      <td>1.0</td>\n",
       "      <td>98.0</td>\n",
       "      <td>104.0</td>\n",
       "      <td>2018.0</td>\n",
       "      <td>Maribyrnong City Council</td>\n",
       "      <td>-37.81551</td>\n",
       "      <td>144.88826</td>\n",
       "      <td>Western Metropolitan</td>\n",
       "      <td>6543.0</td>\n",
       "    </tr>\n",
       "    <tr>\n",
       "      <th>34854</th>\n",
       "      <td>Yarraville</td>\n",
       "      <td>147A Severn St</td>\n",
       "      <td>2</td>\n",
       "      <td>t</td>\n",
       "      <td>705000.0</td>\n",
       "      <td>S</td>\n",
       "      <td>Jas</td>\n",
       "      <td>24/02/2018</td>\n",
       "      <td>6.3</td>\n",
       "      <td>3013.0</td>\n",
       "      <td>...</td>\n",
       "      <td>1.0</td>\n",
       "      <td>2.0</td>\n",
       "      <td>220.0</td>\n",
       "      <td>120.0</td>\n",
       "      <td>2000.0</td>\n",
       "      <td>Maribyrnong City Council</td>\n",
       "      <td>-37.82286</td>\n",
       "      <td>144.87856</td>\n",
       "      <td>Western Metropolitan</td>\n",
       "      <td>6543.0</td>\n",
       "    </tr>\n",
       "    <tr>\n",
       "      <th>34855</th>\n",
       "      <td>Yarraville</td>\n",
       "      <td>12/37 Stephen St</td>\n",
       "      <td>3</td>\n",
       "      <td>h</td>\n",
       "      <td>1140000.0</td>\n",
       "      <td>SP</td>\n",
       "      <td>hockingstuart</td>\n",
       "      <td>24/02/2018</td>\n",
       "      <td>6.3</td>\n",
       "      <td>3013.0</td>\n",
       "      <td>...</td>\n",
       "      <td>NaN</td>\n",
       "      <td>NaN</td>\n",
       "      <td>NaN</td>\n",
       "      <td>NaN</td>\n",
       "      <td>NaN</td>\n",
       "      <td>Maribyrnong City Council</td>\n",
       "      <td>NaN</td>\n",
       "      <td>NaN</td>\n",
       "      <td>Western Metropolitan</td>\n",
       "      <td>6543.0</td>\n",
       "    </tr>\n",
       "    <tr>\n",
       "      <th>34856</th>\n",
       "      <td>Yarraville</td>\n",
       "      <td>3 Tarrengower St</td>\n",
       "      <td>2</td>\n",
       "      <td>h</td>\n",
       "      <td>1020000.0</td>\n",
       "      <td>PI</td>\n",
       "      <td>RW</td>\n",
       "      <td>24/02/2018</td>\n",
       "      <td>6.3</td>\n",
       "      <td>3013.0</td>\n",
       "      <td>...</td>\n",
       "      <td>1.0</td>\n",
       "      <td>0.0</td>\n",
       "      <td>250.0</td>\n",
       "      <td>103.0</td>\n",
       "      <td>1930.0</td>\n",
       "      <td>Maribyrnong City Council</td>\n",
       "      <td>-37.81810</td>\n",
       "      <td>144.89351</td>\n",
       "      <td>Western Metropolitan</td>\n",
       "      <td>6543.0</td>\n",
       "    </tr>\n",
       "  </tbody>\n",
       "</table>\n",
       "<p>5 rows × 21 columns</p>\n",
       "</div>"
      ],
      "text/plain": [
       "           Suburb           Address  Rooms Type      Price Method  \\\n",
       "34852  Yarraville       13 Burns St      4    h  1480000.0     PI   \n",
       "34853  Yarraville     29A Murray St      2    h   888000.0     SP   \n",
       "34854  Yarraville    147A Severn St      2    t   705000.0      S   \n",
       "34855  Yarraville  12/37 Stephen St      3    h  1140000.0     SP   \n",
       "34856  Yarraville  3 Tarrengower St      2    h  1020000.0     PI   \n",
       "\n",
       "             SellerG        Date  Distance  Postcode  ...  Bathroom  Car  \\\n",
       "34852            Jas  24/02/2018       6.3    3013.0  ...       1.0  3.0   \n",
       "34853        Sweeney  24/02/2018       6.3    3013.0  ...       2.0  1.0   \n",
       "34854            Jas  24/02/2018       6.3    3013.0  ...       1.0  2.0   \n",
       "34855  hockingstuart  24/02/2018       6.3    3013.0  ...       NaN  NaN   \n",
       "34856             RW  24/02/2018       6.3    3013.0  ...       1.0  0.0   \n",
       "\n",
       "       Landsize  BuildingArea  YearBuilt               CouncilArea Lattitude  \\\n",
       "34852     593.0           NaN        NaN  Maribyrnong City Council -37.81053   \n",
       "34853      98.0         104.0     2018.0  Maribyrnong City Council -37.81551   \n",
       "34854     220.0         120.0     2000.0  Maribyrnong City Council -37.82286   \n",
       "34855       NaN           NaN        NaN  Maribyrnong City Council       NaN   \n",
       "34856     250.0         103.0     1930.0  Maribyrnong City Council -37.81810   \n",
       "\n",
       "       Longtitude            Regionname Propertycount  \n",
       "34852   144.88467  Western Metropolitan        6543.0  \n",
       "34853   144.88826  Western Metropolitan        6543.0  \n",
       "34854   144.87856  Western Metropolitan        6543.0  \n",
       "34855         NaN  Western Metropolitan        6543.0  \n",
       "34856   144.89351  Western Metropolitan        6543.0  \n",
       "\n",
       "[5 rows x 21 columns]"
      ]
     },
     "execution_count": 18,
     "metadata": {},
     "output_type": "execute_result"
    }
   ],
   "source": [
    "# check tail\n",
    "df.tail()"
   ]
  },
  {
   "cell_type": "code",
   "execution_count": 19,
   "id": "ff46a20b-ece1-47a8-98d0-a3251edda2a5",
   "metadata": {},
   "outputs": [
    {
     "data": {
      "text/plain": [
       "(34857, 21)"
      ]
     },
     "execution_count": 19,
     "metadata": {},
     "output_type": "execute_result"
    }
   ],
   "source": [
    "# check shape\n",
    "df.shape"
   ]
  },
  {
   "cell_type": "code",
   "execution_count": 20,
   "id": "ac2efffd-bb11-4da1-8d7c-455bbe91102b",
   "metadata": {},
   "outputs": [
    {
     "name": "stdout",
     "output_type": "stream",
     "text": [
      "<class 'pandas.core.frame.DataFrame'>\n",
      "RangeIndex: 34857 entries, 0 to 34856\n",
      "Data columns (total 21 columns):\n",
      " #   Column         Non-Null Count  Dtype  \n",
      "---  ------         --------------  -----  \n",
      " 0   Suburb         34857 non-null  object \n",
      " 1   Address        34857 non-null  object \n",
      " 2   Rooms          34857 non-null  int64  \n",
      " 3   Type           34857 non-null  object \n",
      " 4   Price          27247 non-null  float64\n",
      " 5   Method         34857 non-null  object \n",
      " 6   SellerG        34857 non-null  object \n",
      " 7   Date           34857 non-null  object \n",
      " 8   Distance       34856 non-null  float64\n",
      " 9   Postcode       34856 non-null  float64\n",
      " 10  Bedroom2       26640 non-null  float64\n",
      " 11  Bathroom       26631 non-null  float64\n",
      " 12  Car            26129 non-null  float64\n",
      " 13  Landsize       23047 non-null  float64\n",
      " 14  BuildingArea   13742 non-null  float64\n",
      " 15  YearBuilt      15551 non-null  float64\n",
      " 16  CouncilArea    34854 non-null  object \n",
      " 17  Lattitude      26881 non-null  float64\n",
      " 18  Longtitude     26881 non-null  float64\n",
      " 19  Regionname     34854 non-null  object \n",
      " 20  Propertycount  34854 non-null  float64\n",
      "dtypes: float64(12), int64(1), object(8)\n",
      "memory usage: 5.6+ MB\n"
     ]
    }
   ],
   "source": [
    "# check info\n",
    "df.info()"
   ]
  },
  {
   "cell_type": "code",
   "execution_count": 21,
   "id": "9f77fc93-35fb-4b01-bb2d-028d3cd3921f",
   "metadata": {},
   "outputs": [],
   "source": [
    "df = df.drop(columns=[\"BuildingArea\", \"YearBuilt\", \"Lattitude\", \"Longtitude\", \"Suburb\", \"Address\", \"SellerG\", \"Date\"])"
   ]
  },
  {
   "cell_type": "code",
   "execution_count": 22,
   "id": "6bf60ddd-f1af-4538-880f-d77706db32c7",
   "metadata": {},
   "outputs": [
    {
     "data": {
      "text/html": [
       "<div>\n",
       "<style scoped>\n",
       "    .dataframe tbody tr th:only-of-type {\n",
       "        vertical-align: middle;\n",
       "    }\n",
       "\n",
       "    .dataframe tbody tr th {\n",
       "        vertical-align: top;\n",
       "    }\n",
       "\n",
       "    .dataframe thead th {\n",
       "        text-align: right;\n",
       "    }\n",
       "</style>\n",
       "<table border=\"1\" class=\"dataframe\">\n",
       "  <thead>\n",
       "    <tr style=\"text-align: right;\">\n",
       "      <th></th>\n",
       "      <th>column</th>\n",
       "      <th>null values</th>\n",
       "      <th>unique number</th>\n",
       "      <th>values</th>\n",
       "    </tr>\n",
       "  </thead>\n",
       "  <tbody>\n",
       "    <tr>\n",
       "      <th>0</th>\n",
       "      <td>Rooms</td>\n",
       "      <td>0</td>\n",
       "      <td>12</td>\n",
       "      <td>[2, 3, 4, 1, 5, 6, 7, 8, 10, 9, 12, 16]</td>\n",
       "    </tr>\n",
       "    <tr>\n",
       "      <th>1</th>\n",
       "      <td>Type</td>\n",
       "      <td>0</td>\n",
       "      <td>3</td>\n",
       "      <td>[h, u, t]</td>\n",
       "    </tr>\n",
       "    <tr>\n",
       "      <th>2</th>\n",
       "      <td>Price</td>\n",
       "      <td>7610</td>\n",
       "      <td>2871</td>\n",
       "      <td>[nan, 1480000.0, 1035000.0, 1465000.0, 850000....</td>\n",
       "    </tr>\n",
       "    <tr>\n",
       "      <th>3</th>\n",
       "      <td>Method</td>\n",
       "      <td>0</td>\n",
       "      <td>9</td>\n",
       "      <td>[SS, S, VB, SP, PI, SN, W, PN, SA]</td>\n",
       "    </tr>\n",
       "    <tr>\n",
       "      <th>4</th>\n",
       "      <td>Distance</td>\n",
       "      <td>1</td>\n",
       "      <td>215</td>\n",
       "      <td>[2.5, 13.5, 3.3, 6.4, 13.8, 11.1, 6.3, 5.9, 11...</td>\n",
       "    </tr>\n",
       "    <tr>\n",
       "      <th>5</th>\n",
       "      <td>Postcode</td>\n",
       "      <td>1</td>\n",
       "      <td>211</td>\n",
       "      <td>[3067.0, 3042.0, 3206.0, 3078.0, 3018.0, 3025....</td>\n",
       "    </tr>\n",
       "    <tr>\n",
       "      <th>6</th>\n",
       "      <td>Bedroom2</td>\n",
       "      <td>8217</td>\n",
       "      <td>15</td>\n",
       "      <td>[2.0, 3.0, 4.0, 6.0, nan, 1.0, 5.0, 7.0, 0.0, ...</td>\n",
       "    </tr>\n",
       "    <tr>\n",
       "      <th>7</th>\n",
       "      <td>Bathroom</td>\n",
       "      <td>8226</td>\n",
       "      <td>11</td>\n",
       "      <td>[1.0, 2.0, nan, 3.0, 7.0, 4.0, 0.0, 5.0, 6.0, ...</td>\n",
       "    </tr>\n",
       "    <tr>\n",
       "      <th>8</th>\n",
       "      <td>Car</td>\n",
       "      <td>8728</td>\n",
       "      <td>15</td>\n",
       "      <td>[1.0, 0.0, 2.0, nan, 6.0, 5.0, 4.0, 3.0, 8.0, ...</td>\n",
       "    </tr>\n",
       "    <tr>\n",
       "      <th>9</th>\n",
       "      <td>Landsize</td>\n",
       "      <td>11810</td>\n",
       "      <td>1684</td>\n",
       "      <td>[126.0, 202.0, 156.0, 0.0, 134.0, 94.0, 120.0,...</td>\n",
       "    </tr>\n",
       "    <tr>\n",
       "      <th>10</th>\n",
       "      <td>CouncilArea</td>\n",
       "      <td>3</td>\n",
       "      <td>33</td>\n",
       "      <td>[Yarra City Council, Moonee Valley City Counci...</td>\n",
       "    </tr>\n",
       "    <tr>\n",
       "      <th>11</th>\n",
       "      <td>Regionname</td>\n",
       "      <td>3</td>\n",
       "      <td>8</td>\n",
       "      <td>[Northern Metropolitan, Western Metropolitan, ...</td>\n",
       "    </tr>\n",
       "    <tr>\n",
       "      <th>12</th>\n",
       "      <td>Propertycount</td>\n",
       "      <td>3</td>\n",
       "      <td>342</td>\n",
       "      <td>[4019.0, 3464.0, 3280.0, 2211.0, 5301.0, 5132....</td>\n",
       "    </tr>\n",
       "  </tbody>\n",
       "</table>\n",
       "</div>"
      ],
      "text/plain": [
       "           column  null values  unique number  \\\n",
       "0           Rooms            0             12   \n",
       "1            Type            0              3   \n",
       "2           Price         7610           2871   \n",
       "3          Method            0              9   \n",
       "4        Distance            1            215   \n",
       "5        Postcode            1            211   \n",
       "6        Bedroom2         8217             15   \n",
       "7        Bathroom         8226             11   \n",
       "8             Car         8728             15   \n",
       "9        Landsize        11810           1684   \n",
       "10    CouncilArea            3             33   \n",
       "11     Regionname            3              8   \n",
       "12  Propertycount            3            342   \n",
       "\n",
       "                                               values  \n",
       "0             [2, 3, 4, 1, 5, 6, 7, 8, 10, 9, 12, 16]  \n",
       "1                                           [h, u, t]  \n",
       "2   [nan, 1480000.0, 1035000.0, 1465000.0, 850000....  \n",
       "3                  [SS, S, VB, SP, PI, SN, W, PN, SA]  \n",
       "4   [2.5, 13.5, 3.3, 6.4, 13.8, 11.1, 6.3, 5.9, 11...  \n",
       "5   [3067.0, 3042.0, 3206.0, 3078.0, 3018.0, 3025....  \n",
       "6   [2.0, 3.0, 4.0, 6.0, nan, 1.0, 5.0, 7.0, 0.0, ...  \n",
       "7   [1.0, 2.0, nan, 3.0, 7.0, 4.0, 0.0, 5.0, 6.0, ...  \n",
       "8   [1.0, 0.0, 2.0, nan, 6.0, 5.0, 4.0, 3.0, 8.0, ...  \n",
       "9   [126.0, 202.0, 156.0, 0.0, 134.0, 94.0, 120.0,...  \n",
       "10  [Yarra City Council, Moonee Valley City Counci...  \n",
       "11  [Northern Metropolitan, Western Metropolitan, ...  \n",
       "12  [4019.0, 3464.0, 3280.0, 2211.0, 5301.0, 5132....  "
      ]
     },
     "execution_count": 22,
     "metadata": {},
     "output_type": "execute_result"
    }
   ],
   "source": [
    "# check values of columns\n",
    "df1 = []\n",
    "for i in df.columns:\n",
    "    df1.append([i, df[i].isna().sum(), df[i].nunique(), df[i].drop_duplicates().values])\n",
    "\n",
    "df2 = pd.DataFrame(df1, columns=[\"column\", \"null values\", \"unique number\", \"values\"])\n",
    "df2"
   ]
  },
  {
   "cell_type": "markdown",
   "id": "89e37ff3-238b-4dd3-86ce-a4946f763126",
   "metadata": {
    "tags": []
   },
   "source": [
    "## DATA PREPROCESSING"
   ]
  },
  {
   "cell_type": "code",
   "execution_count": null,
   "id": "bc52956b-338b-4c15-850c-bf7293a12c63",
   "metadata": {},
   "outputs": [],
   "source": []
  },
  {
   "cell_type": "markdown",
   "id": "247dea39-6869-4ccf-aaa5-1fade226eab6",
   "metadata": {},
   "source": [
    "### MISSING VALUES IDENTIFICATION"
   ]
  },
  {
   "cell_type": "code",
   "execution_count": 23,
   "id": "e382df45-ee4b-423b-a704-9eef143f8cbe",
   "metadata": {},
   "outputs": [
    {
     "data": {
      "text/plain": [
       "Rooms                0\n",
       "Type                 0\n",
       "Price             7610\n",
       "Method               0\n",
       "Distance             1\n",
       "Postcode             1\n",
       "Bedroom2          8217\n",
       "Bathroom          8226\n",
       "Car               8728\n",
       "Landsize         11810\n",
       "CouncilArea          3\n",
       "Regionname           3\n",
       "Propertycount        3\n",
       "dtype: int64"
      ]
     },
     "execution_count": 23,
     "metadata": {},
     "output_type": "execute_result"
    }
   ],
   "source": [
    "# check missing values\n",
    "df.isna().sum()"
   ]
  },
  {
   "cell_type": "markdown",
   "id": "815f99d0-c850-43dc-b8cc-eee9f8d9b0f6",
   "metadata": {},
   "source": [
    "### MISSING VALUES HANDLING"
   ]
  },
  {
   "cell_type": "markdown",
   "id": "48d191df-1c69-4180-b869-7ea7bcd7e7eb",
   "metadata": {
    "tags": []
   },
   "source": [
    "#### PRICE"
   ]
  },
  {
   "cell_type": "code",
   "execution_count": 24,
   "id": "8f68f6a1-bed5-4c1d-a62e-f79276b01a99",
   "metadata": {},
   "outputs": [
    {
     "name": "stdout",
     "output_type": "stream",
     "text": [
      "Jumlah missing value : 7610\n",
      "Presentase missing value : 21.83 %\n"
     ]
    }
   ],
   "source": [
    "print(\"Jumlah missing value :\", df[\"Price\"].isna().sum())\n",
    "print(\"Presentase missing value :\", round(df[\"Price\"].isna().sum()/len(df)*100, 2), \"%\")"
   ]
  },
  {
   "cell_type": "code",
   "execution_count": 25,
   "id": "2ec997ce-9263-4ae0-8b56-309277608d08",
   "metadata": {},
   "outputs": [],
   "source": [
    "df_null = df[df[\"Price\"].isna()]\n",
    "df_not_null = df[df[\"Price\"].notna()]"
   ]
  },
  {
   "cell_type": "code",
   "execution_count": 26,
   "id": "5a42476b-3a11-417d-b4f8-a50eefcfece4",
   "metadata": {},
   "outputs": [
    {
     "data": {
      "image/png": "[encoded data removed]",
      "text/plain": [
       "<Figure size 720x432 with 1 Axes>"
      ]
     },
     "metadata": {
      "needs_background": "light"
     },
     "output_type": "display_data"
    }
   ],
   "source": [
    "plt.figure(figsize=(10,6))\n",
    "sns.distplot(df[\"Price\"])\n",
    "plt.axvline(df[\"Price\"].mean(), color=\"red\")\n",
    "plt.axvline(df[\"Price\"].median(), color=\"green\")\n",
    "plt.show()"
   ]
  },
  {
   "cell_type": "code",
   "execution_count": 28,
   "id": "bb1b35bc-3993-4e3b-a9ea-f74b7175ce68",
   "metadata": {
    "tags": []
   },
   "outputs": [
    {
     "data": {
      "text/html": [
       "<div>\n",
       "<style scoped>\n",
       "    .dataframe tbody tr th:only-of-type {\n",
       "        vertical-align: middle;\n",
       "    }\n",
       "\n",
       "    .dataframe tbody tr th {\n",
       "        vertical-align: top;\n",
       "    }\n",
       "\n",
       "    .dataframe thead th {\n",
       "        text-align: right;\n",
       "    }\n",
       "</style>\n",
       "<table border=\"1\" class=\"dataframe\">\n",
       "  <thead>\n",
       "    <tr style=\"text-align: right;\">\n",
       "      <th></th>\n",
       "      <th>Type</th>\n",
       "      <th>Rooms</th>\n",
       "      <th>Price</th>\n",
       "    </tr>\n",
       "  </thead>\n",
       "  <tbody>\n",
       "    <tr>\n",
       "      <th>0</th>\n",
       "      <td>h</td>\n",
       "      <td>1</td>\n",
       "      <td>807500.0</td>\n",
       "    </tr>\n",
       "    <tr>\n",
       "      <th>1</th>\n",
       "      <td>h</td>\n",
       "      <td>2</td>\n",
       "      <td>941000.0</td>\n",
       "    </tr>\n",
       "    <tr>\n",
       "      <th>2</th>\n",
       "      <td>h</td>\n",
       "      <td>3</td>\n",
       "      <td>928000.0</td>\n",
       "    </tr>\n",
       "    <tr>\n",
       "      <th>3</th>\n",
       "      <td>h</td>\n",
       "      <td>4</td>\n",
       "      <td>1210000.0</td>\n",
       "    </tr>\n",
       "    <tr>\n",
       "      <th>4</th>\n",
       "      <td>h</td>\n",
       "      <td>5</td>\n",
       "      <td>1560000.0</td>\n",
       "    </tr>\n",
       "    <tr>\n",
       "      <th>5</th>\n",
       "      <td>h</td>\n",
       "      <td>6</td>\n",
       "      <td>1663000.0</td>\n",
       "    </tr>\n",
       "    <tr>\n",
       "      <th>6</th>\n",
       "      <td>h</td>\n",
       "      <td>7</td>\n",
       "      <td>1350000.0</td>\n",
       "    </tr>\n",
       "    <tr>\n",
       "      <th>7</th>\n",
       "      <td>h</td>\n",
       "      <td>8</td>\n",
       "      <td>1277500.0</td>\n",
       "    </tr>\n",
       "    <tr>\n",
       "      <th>8</th>\n",
       "      <td>h</td>\n",
       "      <td>9</td>\n",
       "      <td>1380000.0</td>\n",
       "    </tr>\n",
       "    <tr>\n",
       "      <th>9</th>\n",
       "      <td>h</td>\n",
       "      <td>10</td>\n",
       "      <td>2115000.0</td>\n",
       "    </tr>\n",
       "    <tr>\n",
       "      <th>10</th>\n",
       "      <td>h</td>\n",
       "      <td>12</td>\n",
       "      <td>2705000.0</td>\n",
       "    </tr>\n",
       "    <tr>\n",
       "      <th>11</th>\n",
       "      <td>h</td>\n",
       "      <td>16</td>\n",
       "      <td>5000000.0</td>\n",
       "    </tr>\n",
       "    <tr>\n",
       "      <th>12</th>\n",
       "      <td>t</td>\n",
       "      <td>1</td>\n",
       "      <td>532500.0</td>\n",
       "    </tr>\n",
       "    <tr>\n",
       "      <th>13</th>\n",
       "      <td>t</td>\n",
       "      <td>2</td>\n",
       "      <td>669250.0</td>\n",
       "    </tr>\n",
       "    <tr>\n",
       "      <th>14</th>\n",
       "      <td>t</td>\n",
       "      <td>3</td>\n",
       "      <td>875000.0</td>\n",
       "    </tr>\n",
       "    <tr>\n",
       "      <th>15</th>\n",
       "      <td>t</td>\n",
       "      <td>4</td>\n",
       "      <td>1200000.0</td>\n",
       "    </tr>\n",
       "    <tr>\n",
       "      <th>16</th>\n",
       "      <td>t</td>\n",
       "      <td>5</td>\n",
       "      <td>1100000.0</td>\n",
       "    </tr>\n",
       "    <tr>\n",
       "      <th>17</th>\n",
       "      <td>u</td>\n",
       "      <td>1</td>\n",
       "      <td>385000.0</td>\n",
       "    </tr>\n",
       "    <tr>\n",
       "      <th>18</th>\n",
       "      <td>u</td>\n",
       "      <td>2</td>\n",
       "      <td>590000.0</td>\n",
       "    </tr>\n",
       "    <tr>\n",
       "      <th>19</th>\n",
       "      <td>u</td>\n",
       "      <td>3</td>\n",
       "      <td>777000.0</td>\n",
       "    </tr>\n",
       "    <tr>\n",
       "      <th>20</th>\n",
       "      <td>u</td>\n",
       "      <td>4</td>\n",
       "      <td>895000.0</td>\n",
       "    </tr>\n",
       "    <tr>\n",
       "      <th>21</th>\n",
       "      <td>u</td>\n",
       "      <td>6</td>\n",
       "      <td>520000.0</td>\n",
       "    </tr>\n",
       "    <tr>\n",
       "      <th>22</th>\n",
       "      <td>u</td>\n",
       "      <td>8</td>\n",
       "      <td>2730000.0</td>\n",
       "    </tr>\n",
       "  </tbody>\n",
       "</table>\n",
       "</div>"
      ],
      "text/plain": [
       "   Type  Rooms      Price\n",
       "0     h      1   807500.0\n",
       "1     h      2   941000.0\n",
       "2     h      3   928000.0\n",
       "3     h      4  1210000.0\n",
       "4     h      5  1560000.0\n",
       "5     h      6  1663000.0\n",
       "6     h      7  1350000.0\n",
       "7     h      8  1277500.0\n",
       "8     h      9  1380000.0\n",
       "9     h     10  2115000.0\n",
       "10    h     12  2705000.0\n",
       "11    h     16  5000000.0\n",
       "12    t      1   532500.0\n",
       "13    t      2   669250.0\n",
       "14    t      3   875000.0\n",
       "15    t      4  1200000.0\n",
       "16    t      5  1100000.0\n",
       "17    u      1   385000.0\n",
       "18    u      2   590000.0\n",
       "19    u      3   777000.0\n",
       "20    u      4   895000.0\n",
       "21    u      6   520000.0\n",
       "22    u      8  2730000.0"
      ]
     },
     "execution_count": 28,
     "metadata": {},
     "output_type": "execute_result"
    }
   ],
   "source": [
    "df_not_null.groupby([\"Type\", \"Rooms\"], as_index=False)[\"Price\"].median()"
   ]
  },
  {
   "cell_type": "code",
   "execution_count": 29,
   "id": "21cbe5a4-1239-4b8c-b52a-5bd1a837b73e",
   "metadata": {},
   "outputs": [],
   "source": [
    "price = []\n",
    "\n",
    "for Type, Rooms in zip(df_null[\"Type\"], df_null[\"Rooms\"]):\n",
    "    if Type == \"h\":\n",
    "        if Rooms == 1:\n",
    "            price.append(807500)\n",
    "        elif Rooms == 2:\n",
    "            price.append(941000)\n",
    "        elif Rooms == 3:\n",
    "            price.append(928000)\n",
    "        elif Rooms == 4:\n",
    "            price.append(1210000)\n",
    "        elif Rooms == 5:\n",
    "            price.append(1560000)\n",
    "        elif Rooms == 6:\n",
    "            price.append(1663000)\n",
    "        elif Rooms == 7:\n",
    "            price.append(1350000)\n",
    "        elif Rooms == 8:\n",
    "            price.append(1277500)\n",
    "        elif Rooms == 9:\n",
    "            price.append(1380000)\n",
    "        elif Rooms == 10:\n",
    "            price.append(2115000)\n",
    "        elif Rooms == 12:\n",
    "            price.append(2705000)\n",
    "        else:\n",
    "            price.append(5000000)\n",
    "    elif Type == \"t\":\n",
    "        if Rooms == 1:\n",
    "            price.append(532500)\n",
    "        elif Rooms == 2:\n",
    "            price.append(669250)\n",
    "        elif Rooms == 3:\n",
    "            price.append(875000)\n",
    "        elif Rooms == 4:\n",
    "            price.append(1200000)\n",
    "        else:\n",
    "            price.append(1100000)\n",
    "    else:\n",
    "        if Rooms == 1:\n",
    "            price.append(385000)\n",
    "        elif Rooms == 2:\n",
    "            price.append(590000)\n",
    "        elif Rooms == 3:\n",
    "            price.append(777000)\n",
    "        elif Rooms == 4:\n",
    "            price.append(895000)\n",
    "        elif Rooms == 6:\n",
    "            price.append(520000)\n",
    "        else:\n",
    "            price.append(2730000)"
   ]
  },
  {
   "cell_type": "code",
   "execution_count": 30,
   "id": "463f37bb-e18d-4686-a363-4e0d24ab0f8c",
   "metadata": {},
   "outputs": [],
   "source": [
    "df_null[\"Price\"]=price"
   ]
  },
  {
   "cell_type": "code",
   "execution_count": 31,
   "id": "80ba4573-8ad0-4732-a7ff-a9abbfa79f5d",
   "metadata": {},
   "outputs": [],
   "source": [
    "df = pd.concat([df_not_null, df_null])"
   ]
  },
  {
   "cell_type": "code",
   "execution_count": 32,
   "id": "4fc49393-f780-4a77-91da-7aace68d4314",
   "metadata": {},
   "outputs": [
    {
     "data": {
      "text/plain": [
       "Rooms                0\n",
       "Type                 0\n",
       "Price                0\n",
       "Method               0\n",
       "Distance             1\n",
       "Postcode             1\n",
       "Bedroom2          8217\n",
       "Bathroom          8226\n",
       "Car               8728\n",
       "Landsize         11810\n",
       "CouncilArea          3\n",
       "Regionname           3\n",
       "Propertycount        3\n",
       "dtype: int64"
      ]
     },
     "execution_count": 32,
     "metadata": {},
     "output_type": "execute_result"
    }
   ],
   "source": [
    "df.isna().sum()"
   ]
  },
  {
   "cell_type": "markdown",
   "id": "e3accdfd-50af-4e2f-8100-73663293f307",
   "metadata": {
    "tags": []
   },
   "source": [
    "#### BEDROOM2"
   ]
  },
  {
   "cell_type": "code",
   "execution_count": 33,
   "id": "1d9d1b08-98a2-461e-b105-ac6607ac7146",
   "metadata": {},
   "outputs": [
    {
     "name": "stdout",
     "output_type": "stream",
     "text": [
      "Jumlah missing value : 8217\n",
      "Presentase missing value : 23.57 %\n"
     ]
    }
   ],
   "source": [
    "print(\"Jumlah missing value :\", df[\"Bedroom2\"].isna().sum())\n",
    "print(\"Presentase missing value :\", round(df[\"Bedroom2\"].isna().sum()/len(df)*100, 2), \"%\")"
   ]
  },
  {
   "cell_type": "code",
   "execution_count": 34,
   "id": "e76e8c2b-cec0-4271-bdeb-ff0467d10657",
   "metadata": {},
   "outputs": [],
   "source": [
    "df_null = df[df[\"Bedroom2\"].isna()]\n",
    "df_not_null = df[df[\"Bedroom2\"].notna()]"
   ]
  },
  {
   "cell_type": "code",
   "execution_count": 35,
   "id": "72b5d14f-941a-40da-8218-0f3a3b52b292",
   "metadata": {},
   "outputs": [
    {
     "data": {
      "image/png": "[encoded data removed]",
      "text/plain": [
       "<Figure size 720x432 with 1 Axes>"
      ]
     },
     "metadata": {
      "needs_background": "light"
     },
     "output_type": "display_data"
    }
   ],
   "source": [
    "plt.figure(figsize=(10,6))\n",
    "sns.distplot(df[\"Bedroom2\"])\n",
    "plt.axvline(df[\"Bedroom2\"].mean(), color=\"red\")\n",
    "plt.axvline(df[\"Bedroom2\"].median(), color=\"green\")\n",
    "plt.show()"
   ]
  },
  {
   "cell_type": "code",
   "execution_count": 36,
   "id": "a5885bc0-b90a-4aec-b78e-584e0d9f568d",
   "metadata": {
    "tags": []
   },
   "outputs": [
    {
     "data": {
      "text/html": [
       "<div>\n",
       "<style scoped>\n",
       "    .dataframe tbody tr th:only-of-type {\n",
       "        vertical-align: middle;\n",
       "    }\n",
       "\n",
       "    .dataframe tbody tr th {\n",
       "        vertical-align: top;\n",
       "    }\n",
       "\n",
       "    .dataframe thead th {\n",
       "        text-align: right;\n",
       "    }\n",
       "</style>\n",
       "<table border=\"1\" class=\"dataframe\">\n",
       "  <thead>\n",
       "    <tr style=\"text-align: right;\">\n",
       "      <th></th>\n",
       "      <th>Type</th>\n",
       "      <th>Rooms</th>\n",
       "      <th>Bedroom2</th>\n",
       "    </tr>\n",
       "  </thead>\n",
       "  <tbody>\n",
       "    <tr>\n",
       "      <th>0</th>\n",
       "      <td>h</td>\n",
       "      <td>1</td>\n",
       "      <td>1.0</td>\n",
       "    </tr>\n",
       "    <tr>\n",
       "      <th>1</th>\n",
       "      <td>h</td>\n",
       "      <td>2</td>\n",
       "      <td>2.0</td>\n",
       "    </tr>\n",
       "    <tr>\n",
       "      <th>2</th>\n",
       "      <td>h</td>\n",
       "      <td>3</td>\n",
       "      <td>3.0</td>\n",
       "    </tr>\n",
       "    <tr>\n",
       "      <th>3</th>\n",
       "      <td>h</td>\n",
       "      <td>4</td>\n",
       "      <td>4.0</td>\n",
       "    </tr>\n",
       "    <tr>\n",
       "      <th>4</th>\n",
       "      <td>h</td>\n",
       "      <td>5</td>\n",
       "      <td>5.0</td>\n",
       "    </tr>\n",
       "    <tr>\n",
       "      <th>5</th>\n",
       "      <td>h</td>\n",
       "      <td>6</td>\n",
       "      <td>6.0</td>\n",
       "    </tr>\n",
       "    <tr>\n",
       "      <th>6</th>\n",
       "      <td>h</td>\n",
       "      <td>7</td>\n",
       "      <td>7.0</td>\n",
       "    </tr>\n",
       "    <tr>\n",
       "      <th>7</th>\n",
       "      <td>h</td>\n",
       "      <td>8</td>\n",
       "      <td>8.0</td>\n",
       "    </tr>\n",
       "    <tr>\n",
       "      <th>8</th>\n",
       "      <td>h</td>\n",
       "      <td>9</td>\n",
       "      <td>5.0</td>\n",
       "    </tr>\n",
       "    <tr>\n",
       "      <th>9</th>\n",
       "      <td>h</td>\n",
       "      <td>10</td>\n",
       "      <td>10.0</td>\n",
       "    </tr>\n",
       "    <tr>\n",
       "      <th>10</th>\n",
       "      <td>h</td>\n",
       "      <td>12</td>\n",
       "      <td>12.0</td>\n",
       "    </tr>\n",
       "    <tr>\n",
       "      <th>11</th>\n",
       "      <td>h</td>\n",
       "      <td>16</td>\n",
       "      <td>16.0</td>\n",
       "    </tr>\n",
       "    <tr>\n",
       "      <th>12</th>\n",
       "      <td>t</td>\n",
       "      <td>1</td>\n",
       "      <td>1.0</td>\n",
       "    </tr>\n",
       "    <tr>\n",
       "      <th>13</th>\n",
       "      <td>t</td>\n",
       "      <td>2</td>\n",
       "      <td>2.0</td>\n",
       "    </tr>\n",
       "    <tr>\n",
       "      <th>14</th>\n",
       "      <td>t</td>\n",
       "      <td>3</td>\n",
       "      <td>3.0</td>\n",
       "    </tr>\n",
       "    <tr>\n",
       "      <th>15</th>\n",
       "      <td>t</td>\n",
       "      <td>4</td>\n",
       "      <td>4.0</td>\n",
       "    </tr>\n",
       "    <tr>\n",
       "      <th>16</th>\n",
       "      <td>t</td>\n",
       "      <td>5</td>\n",
       "      <td>5.0</td>\n",
       "    </tr>\n",
       "    <tr>\n",
       "      <th>17</th>\n",
       "      <td>t</td>\n",
       "      <td>8</td>\n",
       "      <td>8.0</td>\n",
       "    </tr>\n",
       "    <tr>\n",
       "      <th>18</th>\n",
       "      <td>u</td>\n",
       "      <td>1</td>\n",
       "      <td>1.0</td>\n",
       "    </tr>\n",
       "    <tr>\n",
       "      <th>19</th>\n",
       "      <td>u</td>\n",
       "      <td>2</td>\n",
       "      <td>2.0</td>\n",
       "    </tr>\n",
       "    <tr>\n",
       "      <th>20</th>\n",
       "      <td>u</td>\n",
       "      <td>3</td>\n",
       "      <td>3.0</td>\n",
       "    </tr>\n",
       "    <tr>\n",
       "      <th>21</th>\n",
       "      <td>u</td>\n",
       "      <td>4</td>\n",
       "      <td>4.0</td>\n",
       "    </tr>\n",
       "    <tr>\n",
       "      <th>22</th>\n",
       "      <td>u</td>\n",
       "      <td>5</td>\n",
       "      <td>5.0</td>\n",
       "    </tr>\n",
       "    <tr>\n",
       "      <th>23</th>\n",
       "      <td>u</td>\n",
       "      <td>6</td>\n",
       "      <td>4.0</td>\n",
       "    </tr>\n",
       "    <tr>\n",
       "      <th>24</th>\n",
       "      <td>u</td>\n",
       "      <td>8</td>\n",
       "      <td>4.0</td>\n",
       "    </tr>\n",
       "  </tbody>\n",
       "</table>\n",
       "</div>"
      ],
      "text/plain": [
       "   Type  Rooms  Bedroom2\n",
       "0     h      1       1.0\n",
       "1     h      2       2.0\n",
       "2     h      3       3.0\n",
       "3     h      4       4.0\n",
       "4     h      5       5.0\n",
       "5     h      6       6.0\n",
       "6     h      7       7.0\n",
       "7     h      8       8.0\n",
       "8     h      9       5.0\n",
       "9     h     10      10.0\n",
       "10    h     12      12.0\n",
       "11    h     16      16.0\n",
       "12    t      1       1.0\n",
       "13    t      2       2.0\n",
       "14    t      3       3.0\n",
       "15    t      4       4.0\n",
       "16    t      5       5.0\n",
       "17    t      8       8.0\n",
       "18    u      1       1.0\n",
       "19    u      2       2.0\n",
       "20    u      3       3.0\n",
       "21    u      4       4.0\n",
       "22    u      5       5.0\n",
       "23    u      6       4.0\n",
       "24    u      8       4.0"
      ]
     },
     "execution_count": 36,
     "metadata": {},
     "output_type": "execute_result"
    }
   ],
   "source": [
    "df_not_null.groupby([\"Type\", \"Rooms\"], as_index=False)[\"Bedroom2\"].median()"
   ]
  },
  {
   "cell_type": "code",
   "execution_count": 37,
   "id": "82fe16bf-91a8-40ee-a6a7-653c2655c3d1",
   "metadata": {},
   "outputs": [],
   "source": [
    "bed = []\n",
    "\n",
    "for Type, Rooms in zip(df_null[\"Type\"], df_null[\"Rooms\"]):\n",
    "    if Type == \"h\":\n",
    "        if Rooms == 1:\n",
    "            bed.append(1)\n",
    "        elif Rooms == 2:\n",
    "            bed.append(2)\n",
    "        elif Rooms == 3:\n",
    "            bed.append(3)\n",
    "        elif Rooms == 4:\n",
    "            bed.append(4)\n",
    "        elif Rooms == 5:\n",
    "            bed.append(5)\n",
    "        elif Rooms == 6:\n",
    "            bed.append(6)\n",
    "        elif Rooms == 7:\n",
    "            bed.append(7)\n",
    "        elif Rooms == 8:\n",
    "            bed.append(8)\n",
    "        elif Rooms == 9:\n",
    "            bed.append(5)\n",
    "        elif Rooms == 10:\n",
    "            bed.append(10)\n",
    "        elif Rooms == 12:\n",
    "            bed.append(12)\n",
    "        else:\n",
    "            bed.append(16)\n",
    "    elif Type == \"t\":\n",
    "        if Rooms == 1:\n",
    "            bed.append(1)\n",
    "        elif Rooms == 2:\n",
    "            bed.append(2)\n",
    "        elif Rooms == 3:\n",
    "            bed.append(3)\n",
    "        elif Rooms == 4:\n",
    "            bed.append(4)\n",
    "        elif Rooms == 5:\n",
    "            bed.append(5)\n",
    "        else:\n",
    "            bed.append(8)\n",
    "    else:\n",
    "        if Rooms == 1:\n",
    "            bed.append(1)\n",
    "        elif Rooms == 2:\n",
    "            bed.append(2)\n",
    "        elif Rooms == 3:\n",
    "            bed.append(3)\n",
    "        elif Rooms == 4:\n",
    "            bed.append(4)\n",
    "        elif Rooms == 5:\n",
    "            bed.append(5)\n",
    "        elif Rooms == 6:\n",
    "            bed.append(4)\n",
    "        else:\n",
    "            bed.append(4)"
   ]
  },
  {
   "cell_type": "code",
   "execution_count": 38,
   "id": "b73a3bb9-b829-4e9b-9607-d6ec491722ce",
   "metadata": {},
   "outputs": [],
   "source": [
    "df_null[\"Bedroom2\"]=bed"
   ]
  },
  {
   "cell_type": "code",
   "execution_count": 39,
   "id": "787cd6b4-432a-4988-b860-ad64a8519150",
   "metadata": {},
   "outputs": [],
   "source": [
    "df = pd.concat([df_not_null, df_null])"
   ]
  },
  {
   "cell_type": "code",
   "execution_count": 40,
   "id": "55cbc24e-7de1-45cb-aa0e-de217cf58898",
   "metadata": {},
   "outputs": [
    {
     "data": {
      "text/plain": [
       "Rooms                0\n",
       "Type                 0\n",
       "Price                0\n",
       "Method               0\n",
       "Distance             1\n",
       "Postcode             1\n",
       "Bedroom2             0\n",
       "Bathroom          8226\n",
       "Car               8728\n",
       "Landsize         11810\n",
       "CouncilArea          3\n",
       "Regionname           3\n",
       "Propertycount        3\n",
       "dtype: int64"
      ]
     },
     "execution_count": 40,
     "metadata": {},
     "output_type": "execute_result"
    }
   ],
   "source": [
    "df.isna().sum()"
   ]
  },
  {
   "cell_type": "markdown",
   "id": "068168f3-a411-4a3d-9be9-aa787f2428c0",
   "metadata": {},
   "source": [
    "#### BATHROOM"
   ]
  },
  {
   "cell_type": "code",
   "execution_count": 41,
   "id": "094617eb-574c-4ae9-93c3-445fd7bf97b6",
   "metadata": {},
   "outputs": [
    {
     "name": "stdout",
     "output_type": "stream",
     "text": [
      "Jumlah missing value : 8226\n",
      "Presentase missing value : 23.6 %\n"
     ]
    }
   ],
   "source": [
    "print(\"Jumlah missing value :\", df[\"Bathroom\"].isna().sum())\n",
    "print(\"Presentase missing value :\", round(df[\"Bathroom\"].isna().sum()/len(df)*100, 2), \"%\")"
   ]
  },
  {
   "cell_type": "code",
   "execution_count": 42,
   "id": "ddf9e729-d98a-44e2-9ebf-bc70a6ad3b46",
   "metadata": {},
   "outputs": [],
   "source": [
    "df_null = df[df[\"Bathroom\"].isna()]\n",
    "df_not_null = df[df[\"Bathroom\"].notna()]"
   ]
  },
  {
   "cell_type": "code",
   "execution_count": 43,
   "id": "bc552409-7a78-426c-bfc7-494426d715ae",
   "metadata": {},
   "outputs": [
    {
     "data": {
      "image/png": "[encoded data removed]",
      "text/plain": [
       "<Figure size 720x432 with 1 Axes>"
      ]
     },
     "metadata": {
      "needs_background": "light"
     },
     "output_type": "display_data"
    }
   ],
   "source": [
    "plt.figure(figsize=(10,6))\n",
    "sns.distplot(df[\"Bathroom\"])\n",
    "plt.axvline(df[\"Bathroom\"].mean(), color=\"red\")\n",
    "plt.axvline(df[\"Bathroom\"].median(), color=\"green\")\n",
    "plt.show()"
   ]
  },
  {
   "cell_type": "code",
   "execution_count": 44,
   "id": "8f9062df-02c1-42df-ab3b-302886ab54fd",
   "metadata": {
    "tags": []
   },
   "outputs": [
    {
     "data": {
      "text/html": [
       "<div>\n",
       "<style scoped>\n",
       "    .dataframe tbody tr th:only-of-type {\n",
       "        vertical-align: middle;\n",
       "    }\n",
       "\n",
       "    .dataframe tbody tr th {\n",
       "        vertical-align: top;\n",
       "    }\n",
       "\n",
       "    .dataframe thead th {\n",
       "        text-align: right;\n",
       "    }\n",
       "</style>\n",
       "<table border=\"1\" class=\"dataframe\">\n",
       "  <thead>\n",
       "    <tr style=\"text-align: right;\">\n",
       "      <th></th>\n",
       "      <th>Rooms</th>\n",
       "      <th>Bathroom</th>\n",
       "    </tr>\n",
       "  </thead>\n",
       "  <tbody>\n",
       "    <tr>\n",
       "      <th>0</th>\n",
       "      <td>1</td>\n",
       "      <td>1.0</td>\n",
       "    </tr>\n",
       "    <tr>\n",
       "      <th>1</th>\n",
       "      <td>2</td>\n",
       "      <td>1.0</td>\n",
       "    </tr>\n",
       "    <tr>\n",
       "      <th>2</th>\n",
       "      <td>3</td>\n",
       "      <td>1.0</td>\n",
       "    </tr>\n",
       "    <tr>\n",
       "      <th>3</th>\n",
       "      <td>4</td>\n",
       "      <td>2.0</td>\n",
       "    </tr>\n",
       "    <tr>\n",
       "      <th>4</th>\n",
       "      <td>5</td>\n",
       "      <td>3.0</td>\n",
       "    </tr>\n",
       "    <tr>\n",
       "      <th>5</th>\n",
       "      <td>6</td>\n",
       "      <td>3.0</td>\n",
       "    </tr>\n",
       "    <tr>\n",
       "      <th>6</th>\n",
       "      <td>7</td>\n",
       "      <td>3.0</td>\n",
       "    </tr>\n",
       "    <tr>\n",
       "      <th>7</th>\n",
       "      <td>8</td>\n",
       "      <td>3.0</td>\n",
       "    </tr>\n",
       "    <tr>\n",
       "      <th>8</th>\n",
       "      <td>9</td>\n",
       "      <td>2.5</td>\n",
       "    </tr>\n",
       "    <tr>\n",
       "      <th>9</th>\n",
       "      <td>10</td>\n",
       "      <td>3.0</td>\n",
       "    </tr>\n",
       "    <tr>\n",
       "      <th>10</th>\n",
       "      <td>12</td>\n",
       "      <td>5.0</td>\n",
       "    </tr>\n",
       "    <tr>\n",
       "      <th>11</th>\n",
       "      <td>16</td>\n",
       "      <td>8.0</td>\n",
       "    </tr>\n",
       "  </tbody>\n",
       "</table>\n",
       "</div>"
      ],
      "text/plain": [
       "    Rooms  Bathroom\n",
       "0       1       1.0\n",
       "1       2       1.0\n",
       "2       3       1.0\n",
       "3       4       2.0\n",
       "4       5       3.0\n",
       "5       6       3.0\n",
       "6       7       3.0\n",
       "7       8       3.0\n",
       "8       9       2.5\n",
       "9      10       3.0\n",
       "10     12       5.0\n",
       "11     16       8.0"
      ]
     },
     "execution_count": 44,
     "metadata": {},
     "output_type": "execute_result"
    }
   ],
   "source": [
    "df_not_null.groupby([\"Rooms\"], as_index=False)[\"Bathroom\"].median()"
   ]
  },
  {
   "cell_type": "code",
   "execution_count": 45,
   "id": "644bfebb-9716-48aa-9944-abc699b9cddf",
   "metadata": {},
   "outputs": [],
   "source": [
    "bath = []\n",
    "\n",
    "for Rooms in (df_null[\"Rooms\"]):\n",
    "    if Rooms in [1,2,3] == True:\n",
    "        bath.append(1)\n",
    "    elif Rooms == 4:\n",
    "        bath.append(2)\n",
    "    elif Rooms in [5,6,7,8,9,10] == True:\n",
    "        bath.append(3)\n",
    "    elif Rooms == 12:\n",
    "        bath.append(5)\n",
    "    else:\n",
    "        bath.append(8)"
   ]
  },
  {
   "cell_type": "code",
   "execution_count": 46,
   "id": "bc5d5dc5-96ee-4897-b82a-701f0a3cadf1",
   "metadata": {},
   "outputs": [],
   "source": [
    "df_null[\"Bathroom\"]=bath"
   ]
  },
  {
   "cell_type": "code",
   "execution_count": 47,
   "id": "ea7e2c66-6e55-4fb4-840f-c766cbcd2ba1",
   "metadata": {},
   "outputs": [],
   "source": [
    "df = pd.concat([df_not_null, df_null])"
   ]
  },
  {
   "cell_type": "code",
   "execution_count": 48,
   "id": "3baa3f02-ec23-4e7c-ab1e-2ccd2ec8f4dc",
   "metadata": {},
   "outputs": [
    {
     "data": {
      "text/plain": [
       "Rooms                0\n",
       "Type                 0\n",
       "Price                0\n",
       "Method               0\n",
       "Distance             1\n",
       "Postcode             1\n",
       "Bedroom2             0\n",
       "Bathroom             0\n",
       "Car               8728\n",
       "Landsize         11810\n",
       "CouncilArea          3\n",
       "Regionname           3\n",
       "Propertycount        3\n",
       "dtype: int64"
      ]
     },
     "execution_count": 48,
     "metadata": {},
     "output_type": "execute_result"
    }
   ],
   "source": [
    "df.isna().sum()"
   ]
  },
  {
   "cell_type": "markdown",
   "id": "3c2da993-7ff2-4f8d-916c-78cfbdf2774e",
   "metadata": {},
   "source": [
    "#### CAR"
   ]
  },
  {
   "cell_type": "code",
   "execution_count": 49,
   "id": "4725225b-4dd6-4381-943d-1c285d30d4e7",
   "metadata": {},
   "outputs": [
    {
     "name": "stdout",
     "output_type": "stream",
     "text": [
      "Jumlah missing value : 8728\n",
      "Presentase missing value : 25.04 %\n"
     ]
    }
   ],
   "source": [
    "print(\"Jumlah missing value :\", df[\"Car\"].isna().sum())\n",
    "print(\"Presentase missing value :\", round(df[\"Car\"].isna().sum()/len(df)*100, 2), \"%\")"
   ]
  },
  {
   "cell_type": "code",
   "execution_count": 50,
   "id": "e485c160-8f69-4e7a-94e8-cf803724457c",
   "metadata": {},
   "outputs": [],
   "source": [
    "df_null = df[df[\"Car\"].isna()]\n",
    "df_not_null = df[df[\"Car\"].notna()]"
   ]
  },
  {
   "cell_type": "code",
   "execution_count": 51,
   "id": "3f441da9-a373-4d97-959b-711d12660dbc",
   "metadata": {},
   "outputs": [
    {
     "data": {
      "image/png": "[encoded data removed]",
      "text/plain": [
       "<Figure size 720x432 with 1 Axes>"
      ]
     },
     "metadata": {
      "needs_background": "light"
     },
     "output_type": "display_data"
    }
   ],
   "source": [
    "plt.figure(figsize=(10,6))\n",
    "sns.distplot(df[\"Car\"])\n",
    "plt.axvline(df[\"Car\"].mean(), color=\"red\")\n",
    "plt.axvline(df[\"Car\"].median(), color=\"green\")\n",
    "plt.show()"
   ]
  },
  {
   "cell_type": "code",
   "execution_count": 52,
   "id": "d70c91b3-110e-41e7-9b82-3cf840a3a39e",
   "metadata": {
    "tags": []
   },
   "outputs": [
    {
     "data": {
      "text/html": [
       "<div>\n",
       "<style scoped>\n",
       "    .dataframe tbody tr th:only-of-type {\n",
       "        vertical-align: middle;\n",
       "    }\n",
       "\n",
       "    .dataframe tbody tr th {\n",
       "        vertical-align: top;\n",
       "    }\n",
       "\n",
       "    .dataframe thead th {\n",
       "        text-align: right;\n",
       "    }\n",
       "</style>\n",
       "<table border=\"1\" class=\"dataframe\">\n",
       "  <thead>\n",
       "    <tr style=\"text-align: right;\">\n",
       "      <th></th>\n",
       "      <th>Type</th>\n",
       "      <th>Rooms</th>\n",
       "      <th>Car</th>\n",
       "    </tr>\n",
       "  </thead>\n",
       "  <tbody>\n",
       "    <tr>\n",
       "      <th>0</th>\n",
       "      <td>h</td>\n",
       "      <td>1</td>\n",
       "      <td>1.0</td>\n",
       "    </tr>\n",
       "    <tr>\n",
       "      <th>1</th>\n",
       "      <td>h</td>\n",
       "      <td>2</td>\n",
       "      <td>1.0</td>\n",
       "    </tr>\n",
       "    <tr>\n",
       "      <th>2</th>\n",
       "      <td>h</td>\n",
       "      <td>3</td>\n",
       "      <td>2.0</td>\n",
       "    </tr>\n",
       "    <tr>\n",
       "      <th>3</th>\n",
       "      <td>h</td>\n",
       "      <td>4</td>\n",
       "      <td>2.0</td>\n",
       "    </tr>\n",
       "    <tr>\n",
       "      <th>4</th>\n",
       "      <td>h</td>\n",
       "      <td>5</td>\n",
       "      <td>2.0</td>\n",
       "    </tr>\n",
       "    <tr>\n",
       "      <th>5</th>\n",
       "      <td>h</td>\n",
       "      <td>6</td>\n",
       "      <td>2.0</td>\n",
       "    </tr>\n",
       "    <tr>\n",
       "      <th>6</th>\n",
       "      <td>h</td>\n",
       "      <td>7</td>\n",
       "      <td>2.0</td>\n",
       "    </tr>\n",
       "    <tr>\n",
       "      <th>7</th>\n",
       "      <td>h</td>\n",
       "      <td>8</td>\n",
       "      <td>4.0</td>\n",
       "    </tr>\n",
       "    <tr>\n",
       "      <th>8</th>\n",
       "      <td>h</td>\n",
       "      <td>9</td>\n",
       "      <td>5.0</td>\n",
       "    </tr>\n",
       "    <tr>\n",
       "      <th>9</th>\n",
       "      <td>h</td>\n",
       "      <td>10</td>\n",
       "      <td>2.0</td>\n",
       "    </tr>\n",
       "    <tr>\n",
       "      <th>10</th>\n",
       "      <td>h</td>\n",
       "      <td>12</td>\n",
       "      <td>3.0</td>\n",
       "    </tr>\n",
       "    <tr>\n",
       "      <th>11</th>\n",
       "      <td>h</td>\n",
       "      <td>16</td>\n",
       "      <td>8.0</td>\n",
       "    </tr>\n",
       "    <tr>\n",
       "      <th>12</th>\n",
       "      <td>t</td>\n",
       "      <td>1</td>\n",
       "      <td>1.0</td>\n",
       "    </tr>\n",
       "    <tr>\n",
       "      <th>13</th>\n",
       "      <td>t</td>\n",
       "      <td>2</td>\n",
       "      <td>1.0</td>\n",
       "    </tr>\n",
       "    <tr>\n",
       "      <th>14</th>\n",
       "      <td>t</td>\n",
       "      <td>3</td>\n",
       "      <td>2.0</td>\n",
       "    </tr>\n",
       "    <tr>\n",
       "      <th>15</th>\n",
       "      <td>t</td>\n",
       "      <td>4</td>\n",
       "      <td>2.0</td>\n",
       "    </tr>\n",
       "    <tr>\n",
       "      <th>16</th>\n",
       "      <td>t</td>\n",
       "      <td>5</td>\n",
       "      <td>2.0</td>\n",
       "    </tr>\n",
       "    <tr>\n",
       "      <th>17</th>\n",
       "      <td>t</td>\n",
       "      <td>8</td>\n",
       "      <td>3.0</td>\n",
       "    </tr>\n",
       "    <tr>\n",
       "      <th>18</th>\n",
       "      <td>u</td>\n",
       "      <td>1</td>\n",
       "      <td>1.0</td>\n",
       "    </tr>\n",
       "    <tr>\n",
       "      <th>19</th>\n",
       "      <td>u</td>\n",
       "      <td>2</td>\n",
       "      <td>1.0</td>\n",
       "    </tr>\n",
       "    <tr>\n",
       "      <th>20</th>\n",
       "      <td>u</td>\n",
       "      <td>3</td>\n",
       "      <td>1.0</td>\n",
       "    </tr>\n",
       "    <tr>\n",
       "      <th>21</th>\n",
       "      <td>u</td>\n",
       "      <td>4</td>\n",
       "      <td>2.0</td>\n",
       "    </tr>\n",
       "    <tr>\n",
       "      <th>22</th>\n",
       "      <td>u</td>\n",
       "      <td>5</td>\n",
       "      <td>2.0</td>\n",
       "    </tr>\n",
       "    <tr>\n",
       "      <th>23</th>\n",
       "      <td>u</td>\n",
       "      <td>6</td>\n",
       "      <td>1.0</td>\n",
       "    </tr>\n",
       "    <tr>\n",
       "      <th>24</th>\n",
       "      <td>u</td>\n",
       "      <td>8</td>\n",
       "      <td>4.0</td>\n",
       "    </tr>\n",
       "  </tbody>\n",
       "</table>\n",
       "</div>"
      ],
      "text/plain": [
       "   Type  Rooms  Car\n",
       "0     h      1  1.0\n",
       "1     h      2  1.0\n",
       "2     h      3  2.0\n",
       "3     h      4  2.0\n",
       "4     h      5  2.0\n",
       "5     h      6  2.0\n",
       "6     h      7  2.0\n",
       "7     h      8  4.0\n",
       "8     h      9  5.0\n",
       "9     h     10  2.0\n",
       "10    h     12  3.0\n",
       "11    h     16  8.0\n",
       "12    t      1  1.0\n",
       "13    t      2  1.0\n",
       "14    t      3  2.0\n",
       "15    t      4  2.0\n",
       "16    t      5  2.0\n",
       "17    t      8  3.0\n",
       "18    u      1  1.0\n",
       "19    u      2  1.0\n",
       "20    u      3  1.0\n",
       "21    u      4  2.0\n",
       "22    u      5  2.0\n",
       "23    u      6  1.0\n",
       "24    u      8  4.0"
      ]
     },
     "execution_count": 52,
     "metadata": {},
     "output_type": "execute_result"
    }
   ],
   "source": [
    "df_not_null.groupby([\"Type\", \"Rooms\"], as_index=False)[\"Car\"].median()"
   ]
  },
  {
   "cell_type": "code",
   "execution_count": 53,
   "id": "c33cfee8-8df4-4f7c-8add-6f9265f0c9e4",
   "metadata": {},
   "outputs": [],
   "source": [
    "car = []\n",
    "\n",
    "for Type, Rooms in zip(df_null[\"Type\"], df_null[\"Rooms\"]):\n",
    "    if Type == \"h\":\n",
    "        if Rooms in [1,2] == True:\n",
    "            car.append(1)\n",
    "        elif Rooms in [3,4,5,6,7,10] == True:\n",
    "            car.append(2)\n",
    "        elif Rooms == 8:\n",
    "            car.append(4)\n",
    "        elif Rooms == 9:\n",
    "            car.append(5)\n",
    "        elif Rooms == 12:\n",
    "            car.append(3)\n",
    "        else:\n",
    "            car.append(8)\n",
    "    elif Type == \"t\":\n",
    "        if Rooms in [1,2] == True:\n",
    "            car.append(1)\n",
    "        elif Rooms in [3,4,5] == True:\n",
    "            car.append(2)\n",
    "        else:\n",
    "            car.append(3)\n",
    "    else:\n",
    "        if Rooms in [1,2,3,6] == True:\n",
    "            car.append(1)\n",
    "        elif Rooms in [4,5] == True:\n",
    "            car.append(2)\n",
    "        else:\n",
    "            car.append(8)"
   ]
  },
  {
   "cell_type": "code",
   "execution_count": 54,
   "id": "cf796117-b21c-4351-b8c2-a9293b072739",
   "metadata": {},
   "outputs": [],
   "source": [
    "df_null[\"Car\"]=car"
   ]
  },
  {
   "cell_type": "code",
   "execution_count": 55,
   "id": "c0d402d1-abf6-4626-a353-efcdf9ff2faa",
   "metadata": {},
   "outputs": [],
   "source": [
    "df = pd.concat([df_not_null, df_null])"
   ]
  },
  {
   "cell_type": "code",
   "execution_count": 56,
   "id": "bae18dfe-74c4-47d7-bdba-03b57bfb36a0",
   "metadata": {},
   "outputs": [
    {
     "data": {
      "text/plain": [
       "Rooms                0\n",
       "Type                 0\n",
       "Price                0\n",
       "Method               0\n",
       "Distance             1\n",
       "Postcode             1\n",
       "Bedroom2             0\n",
       "Bathroom             0\n",
       "Car                  0\n",
       "Landsize         11810\n",
       "CouncilArea          3\n",
       "Regionname           3\n",
       "Propertycount        3\n",
       "dtype: int64"
      ]
     },
     "execution_count": 56,
     "metadata": {},
     "output_type": "execute_result"
    }
   ],
   "source": [
    "df.isna().sum()"
   ]
  },
  {
   "cell_type": "markdown",
   "id": "d94e266d-7892-4a50-9cbb-0acfc5799c52",
   "metadata": {},
   "source": [
    "#### LANDSIZE"
   ]
  },
  {
   "cell_type": "code",
   "execution_count": 57,
   "id": "bb5679da-8171-4feb-a9ef-ffe7c58d00f1",
   "metadata": {},
   "outputs": [
    {
     "name": "stdout",
     "output_type": "stream",
     "text": [
      "Jumlah missing value : 11810\n",
      "Presentase missing value : 33.88 %\n"
     ]
    }
   ],
   "source": [
    "print(\"Jumlah missing value :\", df[\"Landsize\"].isna().sum())\n",
    "print(\"Presentase missing value :\", round(df[\"Landsize\"].isna().sum()/len(df)*100, 2), \"%\")"
   ]
  },
  {
   "cell_type": "code",
   "execution_count": 58,
   "id": "6326d623-3e9d-4351-bf65-490055c0dc2c",
   "metadata": {},
   "outputs": [],
   "source": [
    "df_null = df[df[\"Landsize\"].isna()]\n",
    "df_not_null = df[df[\"Landsize\"].notna()]"
   ]
  },
  {
   "cell_type": "code",
   "execution_count": 59,
   "id": "6a70fd67-2efd-4c2a-a5a3-bdc78fa401fa",
   "metadata": {},
   "outputs": [
    {
     "data": {
      "image/png": "[encoded data removed]",
      "text/plain": [
       "<Figure size 720x432 with 1 Axes>"
      ]
     },
     "metadata": {
      "needs_background": "light"
     },
     "output_type": "display_data"
    }
   ],
   "source": [
    "plt.figure(figsize=(10,6))\n",
    "sns.distplot(df[\"Landsize\"])\n",
    "plt.axvline(df[\"Landsize\"].mean(), color=\"red\")\n",
    "plt.axvline(df[\"Landsize\"].median(), color=\"green\")\n",
    "plt.show()"
   ]
  },
  {
   "cell_type": "code",
   "execution_count": 60,
   "id": "9bfe58ca-cbde-4e00-b0f2-99ba67746574",
   "metadata": {
    "tags": []
   },
   "outputs": [
    {
     "data": {
      "text/html": [
       "<div>\n",
       "<style scoped>\n",
       "    .dataframe tbody tr th:only-of-type {\n",
       "        vertical-align: middle;\n",
       "    }\n",
       "\n",
       "    .dataframe tbody tr th {\n",
       "        vertical-align: top;\n",
       "    }\n",
       "\n",
       "    .dataframe thead th {\n",
       "        text-align: right;\n",
       "    }\n",
       "</style>\n",
       "<table border=\"1\" class=\"dataframe\">\n",
       "  <thead>\n",
       "    <tr style=\"text-align: right;\">\n",
       "      <th></th>\n",
       "      <th>Type</th>\n",
       "      <th>Car</th>\n",
       "      <th>Landsize</th>\n",
       "    </tr>\n",
       "  </thead>\n",
       "  <tbody>\n",
       "    <tr>\n",
       "      <th>0</th>\n",
       "      <td>h</td>\n",
       "      <td>0.0</td>\n",
       "      <td>235.0</td>\n",
       "    </tr>\n",
       "    <tr>\n",
       "      <th>1</th>\n",
       "      <td>h</td>\n",
       "      <td>1.0</td>\n",
       "      <td>447.0</td>\n",
       "    </tr>\n",
       "    <tr>\n",
       "      <th>2</th>\n",
       "      <td>h</td>\n",
       "      <td>2.0</td>\n",
       "      <td>604.0</td>\n",
       "    </tr>\n",
       "    <tr>\n",
       "      <th>3</th>\n",
       "      <td>h</td>\n",
       "      <td>3.0</td>\n",
       "      <td>639.0</td>\n",
       "    </tr>\n",
       "    <tr>\n",
       "      <th>4</th>\n",
       "      <td>h</td>\n",
       "      <td>4.0</td>\n",
       "      <td>669.0</td>\n",
       "    </tr>\n",
       "    <tr>\n",
       "      <th>5</th>\n",
       "      <td>h</td>\n",
       "      <td>5.0</td>\n",
       "      <td>671.0</td>\n",
       "    </tr>\n",
       "    <tr>\n",
       "      <th>6</th>\n",
       "      <td>h</td>\n",
       "      <td>6.0</td>\n",
       "      <td>704.5</td>\n",
       "    </tr>\n",
       "    <tr>\n",
       "      <th>7</th>\n",
       "      <td>h</td>\n",
       "      <td>7.0</td>\n",
       "      <td>650.5</td>\n",
       "    </tr>\n",
       "    <tr>\n",
       "      <th>8</th>\n",
       "      <td>h</td>\n",
       "      <td>8.0</td>\n",
       "      <td>232.5</td>\n",
       "    </tr>\n",
       "    <tr>\n",
       "      <th>9</th>\n",
       "      <td>h</td>\n",
       "      <td>9.0</td>\n",
       "      <td>721.0</td>\n",
       "    </tr>\n",
       "    <tr>\n",
       "      <th>10</th>\n",
       "      <td>h</td>\n",
       "      <td>10.0</td>\n",
       "      <td>993.0</td>\n",
       "    </tr>\n",
       "    <tr>\n",
       "      <th>11</th>\n",
       "      <td>h</td>\n",
       "      <td>11.0</td>\n",
       "      <td>853.5</td>\n",
       "    </tr>\n",
       "    <tr>\n",
       "      <th>12</th>\n",
       "      <td>h</td>\n",
       "      <td>12.0</td>\n",
       "      <td>835.0</td>\n",
       "    </tr>\n",
       "    <tr>\n",
       "      <th>13</th>\n",
       "      <td>h</td>\n",
       "      <td>18.0</td>\n",
       "      <td>1250.0</td>\n",
       "    </tr>\n",
       "    <tr>\n",
       "      <th>14</th>\n",
       "      <td>h</td>\n",
       "      <td>26.0</td>\n",
       "      <td>267.0</td>\n",
       "    </tr>\n",
       "    <tr>\n",
       "      <th>15</th>\n",
       "      <td>t</td>\n",
       "      <td>0.0</td>\n",
       "      <td>132.0</td>\n",
       "    </tr>\n",
       "    <tr>\n",
       "      <th>16</th>\n",
       "      <td>t</td>\n",
       "      <td>1.0</td>\n",
       "      <td>156.0</td>\n",
       "    </tr>\n",
       "    <tr>\n",
       "      <th>17</th>\n",
       "      <td>t</td>\n",
       "      <td>2.0</td>\n",
       "      <td>242.0</td>\n",
       "    </tr>\n",
       "    <tr>\n",
       "      <th>18</th>\n",
       "      <td>t</td>\n",
       "      <td>3.0</td>\n",
       "      <td>281.0</td>\n",
       "    </tr>\n",
       "    <tr>\n",
       "      <th>19</th>\n",
       "      <td>t</td>\n",
       "      <td>4.0</td>\n",
       "      <td>313.0</td>\n",
       "    </tr>\n",
       "    <tr>\n",
       "      <th>20</th>\n",
       "      <td>u</td>\n",
       "      <td>0.0</td>\n",
       "      <td>0.0</td>\n",
       "    </tr>\n",
       "    <tr>\n",
       "      <th>21</th>\n",
       "      <td>u</td>\n",
       "      <td>1.0</td>\n",
       "      <td>0.0</td>\n",
       "    </tr>\n",
       "    <tr>\n",
       "      <th>22</th>\n",
       "      <td>u</td>\n",
       "      <td>2.0</td>\n",
       "      <td>180.0</td>\n",
       "    </tr>\n",
       "    <tr>\n",
       "      <th>23</th>\n",
       "      <td>u</td>\n",
       "      <td>3.0</td>\n",
       "      <td>180.0</td>\n",
       "    </tr>\n",
       "    <tr>\n",
       "      <th>24</th>\n",
       "      <td>u</td>\n",
       "      <td>4.0</td>\n",
       "      <td>287.0</td>\n",
       "    </tr>\n",
       "    <tr>\n",
       "      <th>25</th>\n",
       "      <td>u</td>\n",
       "      <td>6.0</td>\n",
       "      <td>335.0</td>\n",
       "    </tr>\n",
       "    <tr>\n",
       "      <th>26</th>\n",
       "      <td>u</td>\n",
       "      <td>7.0</td>\n",
       "      <td>420.0</td>\n",
       "    </tr>\n",
       "    <tr>\n",
       "      <th>27</th>\n",
       "      <td>u</td>\n",
       "      <td>8.0</td>\n",
       "      <td>309.0</td>\n",
       "    </tr>\n",
       "  </tbody>\n",
       "</table>\n",
       "</div>"
      ],
      "text/plain": [
       "   Type   Car  Landsize\n",
       "0     h   0.0     235.0\n",
       "1     h   1.0     447.0\n",
       "2     h   2.0     604.0\n",
       "3     h   3.0     639.0\n",
       "4     h   4.0     669.0\n",
       "5     h   5.0     671.0\n",
       "6     h   6.0     704.5\n",
       "7     h   7.0     650.5\n",
       "8     h   8.0     232.5\n",
       "9     h   9.0     721.0\n",
       "10    h  10.0     993.0\n",
       "11    h  11.0     853.5\n",
       "12    h  12.0     835.0\n",
       "13    h  18.0    1250.0\n",
       "14    h  26.0     267.0\n",
       "15    t   0.0     132.0\n",
       "16    t   1.0     156.0\n",
       "17    t   2.0     242.0\n",
       "18    t   3.0     281.0\n",
       "19    t   4.0     313.0\n",
       "20    u   0.0       0.0\n",
       "21    u   1.0       0.0\n",
       "22    u   2.0     180.0\n",
       "23    u   3.0     180.0\n",
       "24    u   4.0     287.0\n",
       "25    u   6.0     335.0\n",
       "26    u   7.0     420.0\n",
       "27    u   8.0     309.0"
      ]
     },
     "execution_count": 60,
     "metadata": {},
     "output_type": "execute_result"
    }
   ],
   "source": [
    "df_not_null.groupby([\"Type\", \"Car\"], as_index=False)[\"Landsize\"].median()"
   ]
  },
  {
   "cell_type": "code",
   "execution_count": 61,
   "id": "11f40230-ee58-4164-9303-f857fb4fcb65",
   "metadata": {},
   "outputs": [],
   "source": [
    "ls = []\n",
    "\n",
    "for Type, Car in zip(df_null[\"Type\"], df_null[\"Car\"]):\n",
    "    if Type == \"h\":\n",
    "        if Car == 0:\n",
    "            ls.append(235)\n",
    "        elif Car == 1:\n",
    "            ls.append(447)\n",
    "        elif Car == 2:\n",
    "            ls.append(604)\n",
    "        elif Car == 3:\n",
    "            ls.append(639)\n",
    "        elif Car == 4:\n",
    "            ls.append(669)\n",
    "        elif Car == 5:\n",
    "            ls.append(671)\n",
    "        elif Car == 6:\n",
    "            ls.append(704.5)\n",
    "        elif Car == 7:\n",
    "            ls.append(650.5)\n",
    "        elif Car == 8:\n",
    "            ls.append(232.5)\n",
    "        elif Car == 9:\n",
    "            ls.append(721)\n",
    "        elif Car == 10:\n",
    "            ls.append(993)\n",
    "        elif Car == 11:\n",
    "            ls.append(853.5)\n",
    "        elif Car == 12:\n",
    "            ls.append(835)\n",
    "        elif Car == 18:\n",
    "            ls.append(1250)\n",
    "        else:\n",
    "            ls.append(267)\n",
    "    elif Type == \"t\":\n",
    "        if Car == 0:\n",
    "            ls.append(132)\n",
    "        elif Car == 1:\n",
    "            ls.append(156)\n",
    "        elif Car == 2:\n",
    "            ls.append(242)\n",
    "        elif Car == 3:\n",
    "            ls.append(281)\n",
    "        else:\n",
    "            ls.append(313)\n",
    "    else:\n",
    "        if Car in [0,1] == True:\n",
    "            ls.append(0)\n",
    "        elif Car in [2,3] == True:\n",
    "            ls.append(180)\n",
    "        elif Car == 4:\n",
    "            ls.append(287)\n",
    "        elif Car == 6:\n",
    "            ls.append(335)\n",
    "        elif Car == 7:\n",
    "            ls.append(420)\n",
    "        else:\n",
    "            ls.append(309)"
   ]
  },
  {
   "cell_type": "code",
   "execution_count": 62,
   "id": "02acf100-65fc-41ff-bfc2-0d948137c00a",
   "metadata": {},
   "outputs": [],
   "source": [
    "df_null[\"Landsize\"]=ls"
   ]
  },
  {
   "cell_type": "code",
   "execution_count": 63,
   "id": "4a27aa61-f3ab-4589-9ac9-31e320ebad06",
   "metadata": {},
   "outputs": [],
   "source": [
    "df = pd.concat([df_not_null, df_null])"
   ]
  },
  {
   "cell_type": "code",
   "execution_count": 64,
   "id": "f84714f7-f3fa-4582-b0ec-651f59ec82b3",
   "metadata": {},
   "outputs": [
    {
     "data": {
      "text/plain": [
       "Rooms            0\n",
       "Type             0\n",
       "Price            0\n",
       "Method           0\n",
       "Distance         1\n",
       "Postcode         1\n",
       "Bedroom2         0\n",
       "Bathroom         0\n",
       "Car              0\n",
       "Landsize         0\n",
       "CouncilArea      3\n",
       "Regionname       3\n",
       "Propertycount    3\n",
       "dtype: int64"
      ]
     },
     "execution_count": 64,
     "metadata": {},
     "output_type": "execute_result"
    }
   ],
   "source": [
    "df.isna().sum()"
   ]
  },
  {
   "cell_type": "markdown",
   "id": "193ba7b8-9fef-4ea6-80da-4186d1dbf999",
   "metadata": {},
   "source": [
    "#### BUILDING AREA"
   ]
  },
  {
   "cell_type": "code",
   "execution_count": 65,
   "id": "11079204-95ac-4a35-b5ed-43e3b129d9aa",
   "metadata": {},
   "outputs": [
    {
     "ename": "KeyError",
     "evalue": "'BuildingArea'",
     "output_type": "error",
     "traceback": [
      "\u001b[1;31m---------------------------------------------------------------------------\u001b[0m",
      "\u001b[1;31mKeyError\u001b[0m                                  Traceback (most recent call last)",
      "File \u001b[1;32m~\\anaconda3\\lib\\site-packages\\pandas\\core\\indexes\\base.py:3621\u001b[0m, in \u001b[0;36mIndex.get_loc\u001b[1;34m(self, key, method, tolerance)\u001b[0m\n\u001b[0;32m   3620\u001b[0m \u001b[38;5;28;01mtry\u001b[39;00m:\n\u001b[1;32m-> 3621\u001b[0m     \u001b[38;5;28;01mreturn\u001b[39;00m \u001b[38;5;28;43mself\u001b[39;49m\u001b[38;5;241;43m.\u001b[39;49m\u001b[43m_engine\u001b[49m\u001b[38;5;241;43m.\u001b[39;49m\u001b[43mget_loc\u001b[49m\u001b[43m(\u001b[49m\u001b[43mcasted_key\u001b[49m\u001b[43m)\u001b[49m\n\u001b[0;32m   3622\u001b[0m \u001b[38;5;28;01mexcept\u001b[39;00m \u001b[38;5;167;01mKeyError\u001b[39;00m \u001b[38;5;28;01mas\u001b[39;00m err:\n",
      "File \u001b[1;32m~\\anaconda3\\lib\\site-packages\\pandas\\_libs\\index.pyx:136\u001b[0m, in \u001b[0;36mpandas._libs.index.IndexEngine.get_loc\u001b[1;34m()\u001b[0m\n",
      "File \u001b[1;32m~\\anaconda3\\lib\\site-packages\\pandas\\_libs\\index.pyx:163\u001b[0m, in \u001b[0;36mpandas._libs.index.IndexEngine.get_loc\u001b[1;34m()\u001b[0m\n",
      "File \u001b[1;32mpandas\\_libs\\hashtable_class_helper.pxi:5198\u001b[0m, in \u001b[0;36mpandas._libs.hashtable.PyObjectHashTable.get_item\u001b[1;34m()\u001b[0m\n",
      "File \u001b[1;32mpandas\\_libs\\hashtable_class_helper.pxi:5206\u001b[0m, in \u001b[0;36mpandas._libs.hashtable.PyObjectHashTable.get_item\u001b[1;34m()\u001b[0m\n",
      "\u001b[1;31mKeyError\u001b[0m: 'BuildingArea'",
      "\nThe above exception was the direct cause of the following exception:\n",
      "\u001b[1;31mKeyError\u001b[0m                                  Traceback (most recent call last)",
      "Input \u001b[1;32mIn [65]\u001b[0m, in \u001b[0;36m<cell line: 1>\u001b[1;34m()\u001b[0m\n\u001b[1;32m----> 1\u001b[0m \u001b[38;5;28mprint\u001b[39m(\u001b[38;5;124m\"\u001b[39m\u001b[38;5;124mJumlah missing value :\u001b[39m\u001b[38;5;124m\"\u001b[39m, \u001b[43mdf\u001b[49m\u001b[43m[\u001b[49m\u001b[38;5;124;43m\"\u001b[39;49m\u001b[38;5;124;43mBuildingArea\u001b[39;49m\u001b[38;5;124;43m\"\u001b[39;49m\u001b[43m]\u001b[49m\u001b[38;5;241m.\u001b[39misna()\u001b[38;5;241m.\u001b[39msum())\n\u001b[0;32m      2\u001b[0m \u001b[38;5;28mprint\u001b[39m(\u001b[38;5;124m\"\u001b[39m\u001b[38;5;124mPresentase missing value :\u001b[39m\u001b[38;5;124m\"\u001b[39m, \u001b[38;5;28mround\u001b[39m(df[\u001b[38;5;124m\"\u001b[39m\u001b[38;5;124mBuildingArea\u001b[39m\u001b[38;5;124m\"\u001b[39m]\u001b[38;5;241m.\u001b[39misna()\u001b[38;5;241m.\u001b[39msum()\u001b[38;5;241m/\u001b[39m\u001b[38;5;28mlen\u001b[39m(df)\u001b[38;5;241m*\u001b[39m\u001b[38;5;241m100\u001b[39m, \u001b[38;5;241m2\u001b[39m), \u001b[38;5;124m\"\u001b[39m\u001b[38;5;124m%\u001b[39m\u001b[38;5;124m\"\u001b[39m)\n",
      "File \u001b[1;32m~\\anaconda3\\lib\\site-packages\\pandas\\core\\frame.py:3505\u001b[0m, in \u001b[0;36mDataFrame.__getitem__\u001b[1;34m(self, key)\u001b[0m\n\u001b[0;32m   3503\u001b[0m \u001b[38;5;28;01mif\u001b[39;00m \u001b[38;5;28mself\u001b[39m\u001b[38;5;241m.\u001b[39mcolumns\u001b[38;5;241m.\u001b[39mnlevels \u001b[38;5;241m>\u001b[39m \u001b[38;5;241m1\u001b[39m:\n\u001b[0;32m   3504\u001b[0m     \u001b[38;5;28;01mreturn\u001b[39;00m \u001b[38;5;28mself\u001b[39m\u001b[38;5;241m.\u001b[39m_getitem_multilevel(key)\n\u001b[1;32m-> 3505\u001b[0m indexer \u001b[38;5;241m=\u001b[39m \u001b[38;5;28;43mself\u001b[39;49m\u001b[38;5;241;43m.\u001b[39;49m\u001b[43mcolumns\u001b[49m\u001b[38;5;241;43m.\u001b[39;49m\u001b[43mget_loc\u001b[49m\u001b[43m(\u001b[49m\u001b[43mkey\u001b[49m\u001b[43m)\u001b[49m\n\u001b[0;32m   3506\u001b[0m \u001b[38;5;28;01mif\u001b[39;00m is_integer(indexer):\n\u001b[0;32m   3507\u001b[0m     indexer \u001b[38;5;241m=\u001b[39m [indexer]\n",
      "File \u001b[1;32m~\\anaconda3\\lib\\site-packages\\pandas\\core\\indexes\\base.py:3623\u001b[0m, in \u001b[0;36mIndex.get_loc\u001b[1;34m(self, key, method, tolerance)\u001b[0m\n\u001b[0;32m   3621\u001b[0m     \u001b[38;5;28;01mreturn\u001b[39;00m \u001b[38;5;28mself\u001b[39m\u001b[38;5;241m.\u001b[39m_engine\u001b[38;5;241m.\u001b[39mget_loc(casted_key)\n\u001b[0;32m   3622\u001b[0m \u001b[38;5;28;01mexcept\u001b[39;00m \u001b[38;5;167;01mKeyError\u001b[39;00m \u001b[38;5;28;01mas\u001b[39;00m err:\n\u001b[1;32m-> 3623\u001b[0m     \u001b[38;5;28;01mraise\u001b[39;00m \u001b[38;5;167;01mKeyError\u001b[39;00m(key) \u001b[38;5;28;01mfrom\u001b[39;00m \u001b[38;5;21;01merr\u001b[39;00m\n\u001b[0;32m   3624\u001b[0m \u001b[38;5;28;01mexcept\u001b[39;00m \u001b[38;5;167;01mTypeError\u001b[39;00m:\n\u001b[0;32m   3625\u001b[0m     \u001b[38;5;66;03m# If we have a listlike key, _check_indexing_error will raise\u001b[39;00m\n\u001b[0;32m   3626\u001b[0m     \u001b[38;5;66;03m#  InvalidIndexError. Otherwise we fall through and re-raise\u001b[39;00m\n\u001b[0;32m   3627\u001b[0m     \u001b[38;5;66;03m#  the TypeError.\u001b[39;00m\n\u001b[0;32m   3628\u001b[0m     \u001b[38;5;28mself\u001b[39m\u001b[38;5;241m.\u001b[39m_check_indexing_error(key)\n",
      "\u001b[1;31mKeyError\u001b[0m: 'BuildingArea'"
     ]
    }
   ],
   "source": [
    "print(\"Jumlah missing value :\", df[\"BuildingArea\"].isna().sum())\n",
    "print(\"Presentase missing value :\", round(df[\"BuildingArea\"].isna().sum()/len(df)*100, 2), \"%\")"
   ]
  },
  {
   "cell_type": "code",
   "execution_count": null,
   "id": "b325eed7-abea-4793-b594-a9aac317f295",
   "metadata": {},
   "outputs": [],
   "source": [
    "df = df.drop(columns=[\"BuildingArea\"])"
   ]
  },
  {
   "cell_type": "markdown",
   "id": "df1301f1-1402-4274-8bf7-b824f8698edf",
   "metadata": {},
   "source": [
    "#### YEAR BUILT"
   ]
  },
  {
   "cell_type": "code",
   "execution_count": 66,
   "id": "156eace9-44d0-44ef-b9e4-2b63f191fc3d",
   "metadata": {},
   "outputs": [
    {
     "ename": "KeyError",
     "evalue": "'YearBuilt'",
     "output_type": "error",
     "traceback": [
      "\u001b[1;31m---------------------------------------------------------------------------\u001b[0m",
      "\u001b[1;31mKeyError\u001b[0m                                  Traceback (most recent call last)",
      "File \u001b[1;32m~\\anaconda3\\lib\\site-packages\\pandas\\core\\indexes\\base.py:3621\u001b[0m, in \u001b[0;36mIndex.get_loc\u001b[1;34m(self, key, method, tolerance)\u001b[0m\n\u001b[0;32m   3620\u001b[0m \u001b[38;5;28;01mtry\u001b[39;00m:\n\u001b[1;32m-> 3621\u001b[0m     \u001b[38;5;28;01mreturn\u001b[39;00m \u001b[38;5;28;43mself\u001b[39;49m\u001b[38;5;241;43m.\u001b[39;49m\u001b[43m_engine\u001b[49m\u001b[38;5;241;43m.\u001b[39;49m\u001b[43mget_loc\u001b[49m\u001b[43m(\u001b[49m\u001b[43mcasted_key\u001b[49m\u001b[43m)\u001b[49m\n\u001b[0;32m   3622\u001b[0m \u001b[38;5;28;01mexcept\u001b[39;00m \u001b[38;5;167;01mKeyError\u001b[39;00m \u001b[38;5;28;01mas\u001b[39;00m err:\n",
      "File \u001b[1;32m~\\anaconda3\\lib\\site-packages\\pandas\\_libs\\index.pyx:136\u001b[0m, in \u001b[0;36mpandas._libs.index.IndexEngine.get_loc\u001b[1;34m()\u001b[0m\n",
      "File \u001b[1;32m~\\anaconda3\\lib\\site-packages\\pandas\\_libs\\index.pyx:163\u001b[0m, in \u001b[0;36mpandas._libs.index.IndexEngine.get_loc\u001b[1;34m()\u001b[0m\n",
      "File \u001b[1;32mpandas\\_libs\\hashtable_class_helper.pxi:5198\u001b[0m, in \u001b[0;36mpandas._libs.hashtable.PyObjectHashTable.get_item\u001b[1;34m()\u001b[0m\n",
      "File \u001b[1;32mpandas\\_libs\\hashtable_class_helper.pxi:5206\u001b[0m, in \u001b[0;36mpandas._libs.hashtable.PyObjectHashTable.get_item\u001b[1;34m()\u001b[0m\n",
      "\u001b[1;31mKeyError\u001b[0m: 'YearBuilt'",
      "\nThe above exception was the direct cause of the following exception:\n",
      "\u001b[1;31mKeyError\u001b[0m                                  Traceback (most recent call last)",
      "Input \u001b[1;32mIn [66]\u001b[0m, in \u001b[0;36m<cell line: 1>\u001b[1;34m()\u001b[0m\n\u001b[1;32m----> 1\u001b[0m \u001b[38;5;28mprint\u001b[39m(\u001b[38;5;124m\"\u001b[39m\u001b[38;5;124mJumlah missing value :\u001b[39m\u001b[38;5;124m\"\u001b[39m, \u001b[43mdf\u001b[49m\u001b[43m[\u001b[49m\u001b[38;5;124;43m\"\u001b[39;49m\u001b[38;5;124;43mYearBuilt\u001b[39;49m\u001b[38;5;124;43m\"\u001b[39;49m\u001b[43m]\u001b[49m\u001b[38;5;241m.\u001b[39misna()\u001b[38;5;241m.\u001b[39msum())\n\u001b[0;32m      2\u001b[0m \u001b[38;5;28mprint\u001b[39m(\u001b[38;5;124m\"\u001b[39m\u001b[38;5;124mPresentase missing value :\u001b[39m\u001b[38;5;124m\"\u001b[39m, \u001b[38;5;28mround\u001b[39m(df[\u001b[38;5;124m\"\u001b[39m\u001b[38;5;124mYearBuilt\u001b[39m\u001b[38;5;124m\"\u001b[39m]\u001b[38;5;241m.\u001b[39misna()\u001b[38;5;241m.\u001b[39msum()\u001b[38;5;241m/\u001b[39m\u001b[38;5;28mlen\u001b[39m(df)\u001b[38;5;241m*\u001b[39m\u001b[38;5;241m100\u001b[39m, \u001b[38;5;241m2\u001b[39m), \u001b[38;5;124m\"\u001b[39m\u001b[38;5;124m%\u001b[39m\u001b[38;5;124m\"\u001b[39m)\n",
      "File \u001b[1;32m~\\anaconda3\\lib\\site-packages\\pandas\\core\\frame.py:3505\u001b[0m, in \u001b[0;36mDataFrame.__getitem__\u001b[1;34m(self, key)\u001b[0m\n\u001b[0;32m   3503\u001b[0m \u001b[38;5;28;01mif\u001b[39;00m \u001b[38;5;28mself\u001b[39m\u001b[38;5;241m.\u001b[39mcolumns\u001b[38;5;241m.\u001b[39mnlevels \u001b[38;5;241m>\u001b[39m \u001b[38;5;241m1\u001b[39m:\n\u001b[0;32m   3504\u001b[0m     \u001b[38;5;28;01mreturn\u001b[39;00m \u001b[38;5;28mself\u001b[39m\u001b[38;5;241m.\u001b[39m_getitem_multilevel(key)\n\u001b[1;32m-> 3505\u001b[0m indexer \u001b[38;5;241m=\u001b[39m \u001b[38;5;28;43mself\u001b[39;49m\u001b[38;5;241;43m.\u001b[39;49m\u001b[43mcolumns\u001b[49m\u001b[38;5;241;43m.\u001b[39;49m\u001b[43mget_loc\u001b[49m\u001b[43m(\u001b[49m\u001b[43mkey\u001b[49m\u001b[43m)\u001b[49m\n\u001b[0;32m   3506\u001b[0m \u001b[38;5;28;01mif\u001b[39;00m is_integer(indexer):\n\u001b[0;32m   3507\u001b[0m     indexer \u001b[38;5;241m=\u001b[39m [indexer]\n",
      "File \u001b[1;32m~\\anaconda3\\lib\\site-packages\\pandas\\core\\indexes\\base.py:3623\u001b[0m, in \u001b[0;36mIndex.get_loc\u001b[1;34m(self, key, method, tolerance)\u001b[0m\n\u001b[0;32m   3621\u001b[0m     \u001b[38;5;28;01mreturn\u001b[39;00m \u001b[38;5;28mself\u001b[39m\u001b[38;5;241m.\u001b[39m_engine\u001b[38;5;241m.\u001b[39mget_loc(casted_key)\n\u001b[0;32m   3622\u001b[0m \u001b[38;5;28;01mexcept\u001b[39;00m \u001b[38;5;167;01mKeyError\u001b[39;00m \u001b[38;5;28;01mas\u001b[39;00m err:\n\u001b[1;32m-> 3623\u001b[0m     \u001b[38;5;28;01mraise\u001b[39;00m \u001b[38;5;167;01mKeyError\u001b[39;00m(key) \u001b[38;5;28;01mfrom\u001b[39;00m \u001b[38;5;21;01merr\u001b[39;00m\n\u001b[0;32m   3624\u001b[0m \u001b[38;5;28;01mexcept\u001b[39;00m \u001b[38;5;167;01mTypeError\u001b[39;00m:\n\u001b[0;32m   3625\u001b[0m     \u001b[38;5;66;03m# If we have a listlike key, _check_indexing_error will raise\u001b[39;00m\n\u001b[0;32m   3626\u001b[0m     \u001b[38;5;66;03m#  InvalidIndexError. Otherwise we fall through and re-raise\u001b[39;00m\n\u001b[0;32m   3627\u001b[0m     \u001b[38;5;66;03m#  the TypeError.\u001b[39;00m\n\u001b[0;32m   3628\u001b[0m     \u001b[38;5;28mself\u001b[39m\u001b[38;5;241m.\u001b[39m_check_indexing_error(key)\n",
      "\u001b[1;31mKeyError\u001b[0m: 'YearBuilt'"
     ]
    }
   ],
   "source": [
    "print(\"Jumlah missing value :\", df[\"YearBuilt\"].isna().sum())\n",
    "print(\"Presentase missing value :\", round(df[\"YearBuilt\"].isna().sum()/len(df)*100, 2), \"%\")"
   ]
  },
  {
   "cell_type": "code",
   "execution_count": 54,
   "id": "bda62444-43dd-4b43-bfde-d32405fa73a1",
   "metadata": {},
   "outputs": [],
   "source": [
    "df = df.drop(columns=[\"YearBuilt\"])"
   ]
  },
  {
   "cell_type": "markdown",
   "id": "555970ce-ea9a-4752-8282-f0da420fd1ab",
   "metadata": {},
   "source": [
    "**LATTITUDE & LONGTITUDE**"
   ]
  },
  {
   "cell_type": "code",
   "execution_count": 67,
   "id": "05c36dd4-6ecc-4134-a875-b18c90b5206f",
   "metadata": {},
   "outputs": [
    {
     "ename": "KeyError",
     "evalue": "\"['Lattitude', 'Longtitude'] not found in axis\"",
     "output_type": "error",
     "traceback": [
      "\u001b[1;31m---------------------------------------------------------------------------\u001b[0m",
      "\u001b[1;31mKeyError\u001b[0m                                  Traceback (most recent call last)",
      "Input \u001b[1;32mIn [67]\u001b[0m, in \u001b[0;36m<cell line: 1>\u001b[1;34m()\u001b[0m\n\u001b[1;32m----> 1\u001b[0m df \u001b[38;5;241m=\u001b[39m \u001b[43mdf\u001b[49m\u001b[38;5;241;43m.\u001b[39;49m\u001b[43mdrop\u001b[49m\u001b[43m(\u001b[49m\u001b[43mcolumns\u001b[49m\u001b[38;5;241;43m=\u001b[39;49m\u001b[43m[\u001b[49m\u001b[38;5;124;43m\"\u001b[39;49m\u001b[38;5;124;43mLattitude\u001b[39;49m\u001b[38;5;124;43m\"\u001b[39;49m\u001b[43m,\u001b[49m\u001b[43m \u001b[49m\u001b[38;5;124;43m\"\u001b[39;49m\u001b[38;5;124;43mLongtitude\u001b[39;49m\u001b[38;5;124;43m\"\u001b[39;49m\u001b[43m]\u001b[49m\u001b[43m)\u001b[49m\n",
      "File \u001b[1;32m~\\anaconda3\\lib\\site-packages\\pandas\\util\\_decorators.py:311\u001b[0m, in \u001b[0;36mdeprecate_nonkeyword_arguments.<locals>.decorate.<locals>.wrapper\u001b[1;34m(*args, **kwargs)\u001b[0m\n\u001b[0;32m    305\u001b[0m \u001b[38;5;28;01mif\u001b[39;00m \u001b[38;5;28mlen\u001b[39m(args) \u001b[38;5;241m>\u001b[39m num_allow_args:\n\u001b[0;32m    306\u001b[0m     warnings\u001b[38;5;241m.\u001b[39mwarn(\n\u001b[0;32m    307\u001b[0m         msg\u001b[38;5;241m.\u001b[39mformat(arguments\u001b[38;5;241m=\u001b[39marguments),\n\u001b[0;32m    308\u001b[0m         \u001b[38;5;167;01mFutureWarning\u001b[39;00m,\n\u001b[0;32m    309\u001b[0m         stacklevel\u001b[38;5;241m=\u001b[39mstacklevel,\n\u001b[0;32m    310\u001b[0m     )\n\u001b[1;32m--> 311\u001b[0m \u001b[38;5;28;01mreturn\u001b[39;00m func(\u001b[38;5;241m*\u001b[39margs, \u001b[38;5;241m*\u001b[39m\u001b[38;5;241m*\u001b[39mkwargs)\n",
      "File \u001b[1;32m~\\anaconda3\\lib\\site-packages\\pandas\\core\\frame.py:4954\u001b[0m, in \u001b[0;36mDataFrame.drop\u001b[1;34m(self, labels, axis, index, columns, level, inplace, errors)\u001b[0m\n\u001b[0;32m   4806\u001b[0m \u001b[38;5;129m@deprecate_nonkeyword_arguments\u001b[39m(version\u001b[38;5;241m=\u001b[39m\u001b[38;5;28;01mNone\u001b[39;00m, allowed_args\u001b[38;5;241m=\u001b[39m[\u001b[38;5;124m\"\u001b[39m\u001b[38;5;124mself\u001b[39m\u001b[38;5;124m\"\u001b[39m, \u001b[38;5;124m\"\u001b[39m\u001b[38;5;124mlabels\u001b[39m\u001b[38;5;124m\"\u001b[39m])\n\u001b[0;32m   4807\u001b[0m \u001b[38;5;28;01mdef\u001b[39;00m \u001b[38;5;21mdrop\u001b[39m(\n\u001b[0;32m   4808\u001b[0m     \u001b[38;5;28mself\u001b[39m,\n\u001b[1;32m   (...)\u001b[0m\n\u001b[0;32m   4815\u001b[0m     errors: \u001b[38;5;28mstr\u001b[39m \u001b[38;5;241m=\u001b[39m \u001b[38;5;124m\"\u001b[39m\u001b[38;5;124mraise\u001b[39m\u001b[38;5;124m\"\u001b[39m,\n\u001b[0;32m   4816\u001b[0m ):\n\u001b[0;32m   4817\u001b[0m     \u001b[38;5;124;03m\"\"\"\u001b[39;00m\n\u001b[0;32m   4818\u001b[0m \u001b[38;5;124;03m    Drop specified labels from rows or columns.\u001b[39;00m\n\u001b[0;32m   4819\u001b[0m \n\u001b[1;32m   (...)\u001b[0m\n\u001b[0;32m   4952\u001b[0m \u001b[38;5;124;03m            weight  1.0     0.8\u001b[39;00m\n\u001b[0;32m   4953\u001b[0m \u001b[38;5;124;03m    \"\"\"\u001b[39;00m\n\u001b[1;32m-> 4954\u001b[0m     \u001b[38;5;28;01mreturn\u001b[39;00m \u001b[38;5;28;43msuper\u001b[39;49m\u001b[43m(\u001b[49m\u001b[43m)\u001b[49m\u001b[38;5;241;43m.\u001b[39;49m\u001b[43mdrop\u001b[49m\u001b[43m(\u001b[49m\n\u001b[0;32m   4955\u001b[0m \u001b[43m        \u001b[49m\u001b[43mlabels\u001b[49m\u001b[38;5;241;43m=\u001b[39;49m\u001b[43mlabels\u001b[49m\u001b[43m,\u001b[49m\n\u001b[0;32m   4956\u001b[0m \u001b[43m        \u001b[49m\u001b[43maxis\u001b[49m\u001b[38;5;241;43m=\u001b[39;49m\u001b[43maxis\u001b[49m\u001b[43m,\u001b[49m\n\u001b[0;32m   4957\u001b[0m \u001b[43m        \u001b[49m\u001b[43mindex\u001b[49m\u001b[38;5;241;43m=\u001b[39;49m\u001b[43mindex\u001b[49m\u001b[43m,\u001b[49m\n\u001b[0;32m   4958\u001b[0m \u001b[43m        \u001b[49m\u001b[43mcolumns\u001b[49m\u001b[38;5;241;43m=\u001b[39;49m\u001b[43mcolumns\u001b[49m\u001b[43m,\u001b[49m\n\u001b[0;32m   4959\u001b[0m \u001b[43m        \u001b[49m\u001b[43mlevel\u001b[49m\u001b[38;5;241;43m=\u001b[39;49m\u001b[43mlevel\u001b[49m\u001b[43m,\u001b[49m\n\u001b[0;32m   4960\u001b[0m \u001b[43m        \u001b[49m\u001b[43minplace\u001b[49m\u001b[38;5;241;43m=\u001b[39;49m\u001b[43minplace\u001b[49m\u001b[43m,\u001b[49m\n\u001b[0;32m   4961\u001b[0m \u001b[43m        \u001b[49m\u001b[43merrors\u001b[49m\u001b[38;5;241;43m=\u001b[39;49m\u001b[43merrors\u001b[49m\u001b[43m,\u001b[49m\n\u001b[0;32m   4962\u001b[0m \u001b[43m    \u001b[49m\u001b[43m)\u001b[49m\n",
      "File \u001b[1;32m~\\anaconda3\\lib\\site-packages\\pandas\\core\\generic.py:4267\u001b[0m, in \u001b[0;36mNDFrame.drop\u001b[1;34m(self, labels, axis, index, columns, level, inplace, errors)\u001b[0m\n\u001b[0;32m   4265\u001b[0m \u001b[38;5;28;01mfor\u001b[39;00m axis, labels \u001b[38;5;129;01min\u001b[39;00m axes\u001b[38;5;241m.\u001b[39mitems():\n\u001b[0;32m   4266\u001b[0m     \u001b[38;5;28;01mif\u001b[39;00m labels \u001b[38;5;129;01mis\u001b[39;00m \u001b[38;5;129;01mnot\u001b[39;00m \u001b[38;5;28;01mNone\u001b[39;00m:\n\u001b[1;32m-> 4267\u001b[0m         obj \u001b[38;5;241m=\u001b[39m \u001b[43mobj\u001b[49m\u001b[38;5;241;43m.\u001b[39;49m\u001b[43m_drop_axis\u001b[49m\u001b[43m(\u001b[49m\u001b[43mlabels\u001b[49m\u001b[43m,\u001b[49m\u001b[43m \u001b[49m\u001b[43maxis\u001b[49m\u001b[43m,\u001b[49m\u001b[43m \u001b[49m\u001b[43mlevel\u001b[49m\u001b[38;5;241;43m=\u001b[39;49m\u001b[43mlevel\u001b[49m\u001b[43m,\u001b[49m\u001b[43m \u001b[49m\u001b[43merrors\u001b[49m\u001b[38;5;241;43m=\u001b[39;49m\u001b[43merrors\u001b[49m\u001b[43m)\u001b[49m\n\u001b[0;32m   4269\u001b[0m \u001b[38;5;28;01mif\u001b[39;00m inplace:\n\u001b[0;32m   4270\u001b[0m     \u001b[38;5;28mself\u001b[39m\u001b[38;5;241m.\u001b[39m_update_inplace(obj)\n",
      "File \u001b[1;32m~\\anaconda3\\lib\\site-packages\\pandas\\core\\generic.py:4311\u001b[0m, in \u001b[0;36mNDFrame._drop_axis\u001b[1;34m(self, labels, axis, level, errors, consolidate, only_slice)\u001b[0m\n\u001b[0;32m   4309\u001b[0m         new_axis \u001b[38;5;241m=\u001b[39m axis\u001b[38;5;241m.\u001b[39mdrop(labels, level\u001b[38;5;241m=\u001b[39mlevel, errors\u001b[38;5;241m=\u001b[39merrors)\n\u001b[0;32m   4310\u001b[0m     \u001b[38;5;28;01melse\u001b[39;00m:\n\u001b[1;32m-> 4311\u001b[0m         new_axis \u001b[38;5;241m=\u001b[39m \u001b[43maxis\u001b[49m\u001b[38;5;241;43m.\u001b[39;49m\u001b[43mdrop\u001b[49m\u001b[43m(\u001b[49m\u001b[43mlabels\u001b[49m\u001b[43m,\u001b[49m\u001b[43m \u001b[49m\u001b[43merrors\u001b[49m\u001b[38;5;241;43m=\u001b[39;49m\u001b[43merrors\u001b[49m\u001b[43m)\u001b[49m\n\u001b[0;32m   4312\u001b[0m     indexer \u001b[38;5;241m=\u001b[39m axis\u001b[38;5;241m.\u001b[39mget_indexer(new_axis)\n\u001b[0;32m   4314\u001b[0m \u001b[38;5;66;03m# Case for non-unique axis\u001b[39;00m\n\u001b[0;32m   4315\u001b[0m \u001b[38;5;28;01melse\u001b[39;00m:\n",
      "File \u001b[1;32m~\\anaconda3\\lib\\site-packages\\pandas\\core\\indexes\\base.py:6644\u001b[0m, in \u001b[0;36mIndex.drop\u001b[1;34m(self, labels, errors)\u001b[0m\n\u001b[0;32m   6642\u001b[0m \u001b[38;5;28;01mif\u001b[39;00m mask\u001b[38;5;241m.\u001b[39many():\n\u001b[0;32m   6643\u001b[0m     \u001b[38;5;28;01mif\u001b[39;00m errors \u001b[38;5;241m!=\u001b[39m \u001b[38;5;124m\"\u001b[39m\u001b[38;5;124mignore\u001b[39m\u001b[38;5;124m\"\u001b[39m:\n\u001b[1;32m-> 6644\u001b[0m         \u001b[38;5;28;01mraise\u001b[39;00m \u001b[38;5;167;01mKeyError\u001b[39;00m(\u001b[38;5;124mf\u001b[39m\u001b[38;5;124m\"\u001b[39m\u001b[38;5;132;01m{\u001b[39;00m\u001b[38;5;28mlist\u001b[39m(labels[mask])\u001b[38;5;132;01m}\u001b[39;00m\u001b[38;5;124m not found in axis\u001b[39m\u001b[38;5;124m\"\u001b[39m)\n\u001b[0;32m   6645\u001b[0m     indexer \u001b[38;5;241m=\u001b[39m indexer[\u001b[38;5;241m~\u001b[39mmask]\n\u001b[0;32m   6646\u001b[0m \u001b[38;5;28;01mreturn\u001b[39;00m \u001b[38;5;28mself\u001b[39m\u001b[38;5;241m.\u001b[39mdelete(indexer)\n",
      "\u001b[1;31mKeyError\u001b[0m: \"['Lattitude', 'Longtitude'] not found in axis\""
     ]
    }
   ],
   "source": [
    "df = df.drop(columns=[\"Lattitude\", \"Longtitude\"])"
   ]
  },
  {
   "cell_type": "markdown",
   "id": "4c0cc1b7-fbbb-4dd4-8b1a-7b8c5e52a8f4",
   "metadata": {},
   "source": [
    "**Fill in the missing values with a little missing values with 0 or unknown**"
   ]
  },
  {
   "cell_type": "code",
   "execution_count": 68,
   "id": "7d88ae69-d3b6-4854-a671-92a20f71c8e2",
   "metadata": {},
   "outputs": [],
   "source": [
    "df[\"Distance\"] = df[\"Distance\"].fillna(0)\n",
    "df[\"Postcode\"] = df[\"Postcode\"].fillna(0)\n",
    "df[\"CouncilArea\"] = df[\"CouncilArea\"].fillna(\"unknown\")\n",
    "df[\"Regionname\"] = df[\"Regionname\"].fillna(\"unknown\")\n",
    "df[\"Propertycount\"] = df[\"Propertycount\"].fillna(0)"
   ]
  },
  {
   "cell_type": "code",
   "execution_count": 69,
   "id": "86d85546-3a50-41cb-b39e-444955d0eafa",
   "metadata": {},
   "outputs": [
    {
     "data": {
      "text/plain": [
       "Rooms            0\n",
       "Type             0\n",
       "Price            0\n",
       "Method           0\n",
       "Distance         0\n",
       "Postcode         0\n",
       "Bedroom2         0\n",
       "Bathroom         0\n",
       "Car              0\n",
       "Landsize         0\n",
       "CouncilArea      0\n",
       "Regionname       0\n",
       "Propertycount    0\n",
       "dtype: int64"
      ]
     },
     "execution_count": 69,
     "metadata": {},
     "output_type": "execute_result"
    }
   ],
   "source": [
    "df.isna().sum()"
   ]
  },
  {
   "cell_type": "markdown",
   "id": "19987db4-62a7-4fb8-bc05-69e8132c58ec",
   "metadata": {},
   "source": [
    "### OUTLIER IDENTIFICATION"
   ]
  },
  {
   "cell_type": "markdown",
   "id": "e8777711-5e6f-4ef4-bb96-2e28b26cb7f5",
   "metadata": {},
   "source": [
    "#### IDENTIFICATION IN VISUAL WITH BOX PLOT"
   ]
  },
  {
   "cell_type": "code",
   "execution_count": 70,
   "id": "8d7c6664-e290-4e61-9be1-63b44dd1e3be",
   "metadata": {},
   "outputs": [
    {
     "data": {
      "image/png": "[encoded data removed]",
      "text/plain": [
       "<Figure size 720x360 with 1 Axes>"
      ]
     },
     "metadata": {
      "needs_background": "light"
     },
     "output_type": "display_data"
    },
    {
     "data": {
      "image/png": "[encoded data removed]",
      "text/plain": [
       "<Figure size 720x360 with 1 Axes>"
      ]
     },
     "metadata": {
      "needs_background": "light"
     },
     "output_type": "display_data"
    },
    {
     "data": {
      "image/png": "[encoded data removed]",
      "text/plain": [
       "<Figure size 720x360 with 1 Axes>"
      ]
     },
     "metadata": {
      "needs_background": "light"
     },
     "output_type": "display_data"
    },
    {
     "data": {
      "image/png": "[encoded data removed]",
      "text/plain": [
       "<Figure size 720x360 with 1 Axes>"
      ]
     },
     "metadata": {
      "needs_background": "light"
     },
     "output_type": "display_data"
    },
    {
     "data": {
      "image/png": "[encoded data removed]",
      "text/plain": [
       "<Figure size 720x360 with 1 Axes>"
      ]
     },
     "metadata": {
      "needs_background": "light"
     },
     "output_type": "display_data"
    },
    {
     "data": {
      "image/png": "[encoded data removed]",
      "text/plain": [
       "<Figure size 720x360 with 1 Axes>"
      ]
     },
     "metadata": {
      "needs_background": "light"
     },
     "output_type": "display_data"
    },
    {
     "data": {
      "image/png": "[encoded data removed]",
      "text/plain": [
       "<Figure size 720x360 with 1 Axes>"
      ]
     },
     "metadata": {
      "needs_background": "light"
     },
     "output_type": "display_data"
    },
    {
     "data": {
      "image/png": "[encoded data removed]",
      "text/plain": [
       "<Figure size 720x360 with 1 Axes>"
      ]
     },
     "metadata": {
      "needs_background": "light"
     },
     "output_type": "display_data"
    },
    {
     "data": {
      "image/png": "[encoded data removed]",
      "text/plain": [
       "<Figure size 720x360 with 1 Axes>"
      ]
     },
     "metadata": {
      "needs_background": "light"
     },
     "output_type": "display_data"
    }
   ],
   "source": [
    "for i in df.columns[df.dtypes != object]:\n",
    "    plt.figure(figsize=(10,5))\n",
    "    sns.boxplot(data=df,x=i)\n",
    "    plt.title(f\"Box Plot of {i}\")\n",
    "    plt.show()"
   ]
  },
  {
   "cell_type": "markdown",
   "id": "2fc5d033-696d-40a0-a329-110f3343c9c8",
   "metadata": {},
   "source": [
    "#### DETECTING OUTLIER WITH IQR"
   ]
  },
  {
   "cell_type": "code",
   "execution_count": 71,
   "id": "064ac77b-b019-4568-a9a1-9758f616e47a",
   "metadata": {},
   "outputs": [],
   "source": [
    "def find_outlier(data):\n",
    "    Q1 = np.quantile(data, .25)\n",
    "    Q3 = np.quantile(data, .75)\n",
    "    \n",
    "    IQR = Q3-Q1\n",
    "    min_IQR = Q1-1.5*IQR\n",
    "    max_IQR = Q3+1.5*IQR\n",
    "    \n",
    "    low_out =[]\n",
    "    upper_out = []\n",
    "    \n",
    "    for i in data:\n",
    "        if(i<min_IQR):\n",
    "            low_out.append(i)\n",
    "        if (i > max_IQR):\n",
    "            upper_out.append(i)\n",
    "    return low_out, upper_out"
   ]
  },
  {
   "cell_type": "markdown",
   "id": "be981ce1-96ec-48ab-b5fb-0e4e43750fdf",
   "metadata": {},
   "source": [
    "#### 1. ROOMS"
   ]
  },
  {
   "cell_type": "code",
   "execution_count": 72,
   "id": "541d7389-88ce-4c72-8b6e-37fe01e09047",
   "metadata": {},
   "outputs": [],
   "source": [
    "lower_out = find_outlier(df[\"Rooms\"])[0]\n",
    "upper_out = find_outlier(df[\"Rooms\"])[1]"
   ]
  },
  {
   "cell_type": "code",
   "execution_count": 73,
   "id": "52ee634e-d804-4bd1-9ecd-23ee2e80db2f",
   "metadata": {},
   "outputs": [
    {
     "name": "stdout",
     "output_type": "stream",
     "text": [
      "Jumlah data : 34857\n",
      "Jumlah outlier : 33\n",
      "Presentase outlier : 0.09 %\n"
     ]
    }
   ],
   "source": [
    "print(\"Jumlah data :\", len(df))\n",
    "print(\"Jumlah outlier :\", len(lower_out)+len(upper_out))\n",
    "print(\"Presentase outlier :\", round((len(lower_out)+len(upper_out))/len(df)*100, 2), \"%\")"
   ]
  },
  {
   "cell_type": "code",
   "execution_count": 74,
   "id": "fba6c98f-db40-4d22-90ea-c1faeacf7c95",
   "metadata": {},
   "outputs": [],
   "source": [
    "df = df[df[\"Rooms\"] < min(upper_out)]"
   ]
  },
  {
   "cell_type": "code",
   "execution_count": 75,
   "id": "3b4f0b1e-1b19-4da4-9ace-8ee38faffd35",
   "metadata": {},
   "outputs": [
    {
     "data": {
      "image/png": "[encoded data removed]",
      "text/plain": [
       "<Figure size 720x432 with 1 Axes>"
      ]
     },
     "metadata": {
      "needs_background": "light"
     },
     "output_type": "display_data"
    }
   ],
   "source": [
    "plt.figure(figsize=(10,6))\n",
    "sns.boxplot(data=df[\"Rooms\"], orient=\"h\")\n",
    "plt.show()"
   ]
  },
  {
   "cell_type": "markdown",
   "id": "876022f4-e314-4bda-83ad-516f5c625309",
   "metadata": {},
   "source": [
    "#### 2. PRICE"
   ]
  },
  {
   "cell_type": "code",
   "execution_count": 76,
   "id": "f69a099f-86dc-448f-a212-a27acfbd3898",
   "metadata": {},
   "outputs": [],
   "source": [
    "lower_out = find_outlier(df[\"Price\"])[0]\n",
    "upper_out = find_outlier(df[\"Price\"])[1]"
   ]
  },
  {
   "cell_type": "code",
   "execution_count": 77,
   "id": "dd429005-6768-45a0-949b-888fd5c55e17",
   "metadata": {},
   "outputs": [
    {
     "name": "stdout",
     "output_type": "stream",
     "text": [
      "Jumlah data : 34824\n",
      "Jumlah outlier : 1780\n",
      "Presentase outlier : 5.11 %\n"
     ]
    }
   ],
   "source": [
    "print(\"Jumlah data :\", len(df))\n",
    "print(\"Jumlah outlier :\", len(lower_out)+len(upper_out))\n",
    "print(\"Presentase outlier :\", round((len(lower_out)+len(upper_out))/len(df)*100, 2), \"%\")"
   ]
  },
  {
   "cell_type": "code",
   "execution_count": 78,
   "id": "513dd439-1076-4360-9b8a-6a589169c7ed",
   "metadata": {},
   "outputs": [],
   "source": [
    "df = df[df[\"Price\"] < min(upper_out)]"
   ]
  },
  {
   "cell_type": "code",
   "execution_count": 79,
   "id": "928080bd-f92d-484c-815d-59a788ad3576",
   "metadata": {},
   "outputs": [
    {
     "data": {
      "image/png": "[encoded data removed]",
      "text/plain": [
       "<Figure size 720x432 with 1 Axes>"
      ]
     },
     "metadata": {
      "needs_background": "light"
     },
     "output_type": "display_data"
    }
   ],
   "source": [
    "plt.figure(figsize=(10,6))\n",
    "sns.boxplot(data=df[\"Price\"], orient=\"h\")\n",
    "plt.show()"
   ]
  },
  {
   "cell_type": "markdown",
   "id": "5e1e0115-9c06-478a-9ae2-9905531093f8",
   "metadata": {},
   "source": [
    "#### 3. DISTANCE"
   ]
  },
  {
   "cell_type": "code",
   "execution_count": 80,
   "id": "8e5078b1-84b8-42bf-a4df-1793c94f4d1f",
   "metadata": {},
   "outputs": [],
   "source": [
    "lower_out = find_outlier(df[\"Distance\"])[0]\n",
    "upper_out = find_outlier(df[\"Distance\"])[1]"
   ]
  },
  {
   "cell_type": "code",
   "execution_count": 81,
   "id": "18b8921c-02fe-4d6a-871f-95b15cf4e95b",
   "metadata": {},
   "outputs": [
    {
     "name": "stdout",
     "output_type": "stream",
     "text": [
      "Jumlah data : 33044\n",
      "Jumlah outlier : 1269\n",
      "Presentase outlier : 3.84 %\n"
     ]
    }
   ],
   "source": [
    "print(\"Jumlah data :\", len(df))\n",
    "print(\"Jumlah outlier :\", len(lower_out)+len(upper_out))\n",
    "print(\"Presentase outlier :\", round((len(lower_out)+len(upper_out))/len(df)*100, 2), \"%\")"
   ]
  },
  {
   "cell_type": "code",
   "execution_count": 82,
   "id": "14b12083-f51a-4d24-a570-7d58fd34acea",
   "metadata": {},
   "outputs": [],
   "source": [
    "df = df[df[\"Distance\"] < min(upper_out)]"
   ]
  },
  {
   "cell_type": "code",
   "execution_count": 83,
   "id": "ac876082-1375-45d0-9c4e-809e315edaa4",
   "metadata": {},
   "outputs": [
    {
     "data": {
      "image/png": "[encoded data removed]",
      "text/plain": [
       "<Figure size 720x432 with 1 Axes>"
      ]
     },
     "metadata": {
      "needs_background": "light"
     },
     "output_type": "display_data"
    }
   ],
   "source": [
    "plt.figure(figsize=(10,6))\n",
    "sns.boxplot(data=df[\"Distance\"], orient=\"h\")\n",
    "plt.show()"
   ]
  },
  {
   "cell_type": "code",
   "execution_count": 84,
   "id": "2685ac48-7847-4003-bbfd-464c65969f1f",
   "metadata": {},
   "outputs": [],
   "source": [
    "lower_out = find_outlier(df[\"Distance\"])[0]\n",
    "upper_out = find_outlier(df[\"Distance\"])[1]"
   ]
  },
  {
   "cell_type": "code",
   "execution_count": 85,
   "id": "56de6f70-2603-4537-b14c-ab2292817369",
   "metadata": {},
   "outputs": [
    {
     "name": "stdout",
     "output_type": "stream",
     "text": [
      "Jumlah data : 31775\n",
      "Jumlah outlier : 195\n",
      "Presentase outlier : 0.61 %\n"
     ]
    }
   ],
   "source": [
    "print(\"Jumlah data :\", len(df))\n",
    "print(\"Jumlah outlier :\", len(lower_out)+len(upper_out))\n",
    "print(\"Presentase outlier :\", round((len(lower_out)+len(upper_out))/len(df)*100, 2), \"%\")"
   ]
  },
  {
   "cell_type": "code",
   "execution_count": 86,
   "id": "cbe61568-b3ef-4dc6-982c-67792482b8b6",
   "metadata": {},
   "outputs": [],
   "source": [
    "df = df[df[\"Distance\"] < min(upper_out)]"
   ]
  },
  {
   "cell_type": "code",
   "execution_count": 87,
   "id": "2faa8b08-041e-4f5c-a306-b92d56410743",
   "metadata": {},
   "outputs": [
    {
     "data": {
      "image/png": "[encoded data removed]",
      "text/plain": [
       "<Figure size 720x432 with 1 Axes>"
      ]
     },
     "metadata": {
      "needs_background": "light"
     },
     "output_type": "display_data"
    }
   ],
   "source": [
    "plt.figure(figsize=(10,6))\n",
    "sns.boxplot(data=df[\"Distance\"], orient=\"h\")\n",
    "plt.show()"
   ]
  },
  {
   "cell_type": "code",
   "execution_count": 88,
   "id": "9bd32164-bafb-4258-86ef-8a47e5a1bcad",
   "metadata": {},
   "outputs": [],
   "source": [
    "lower_out = find_outlier(df[\"Distance\"])[0]\n",
    "upper_out = find_outlier(df[\"Distance\"])[1]"
   ]
  },
  {
   "cell_type": "code",
   "execution_count": 89,
   "id": "2294c40b-69aa-40e5-adbf-90f434e8168b",
   "metadata": {},
   "outputs": [
    {
     "name": "stdout",
     "output_type": "stream",
     "text": [
      "Jumlah data : 31580\n",
      "Jumlah outlier : 44\n",
      "Presentase outlier : 0.14 %\n"
     ]
    }
   ],
   "source": [
    "print(\"Jumlah data :\", len(df))\n",
    "print(\"Jumlah outlier :\", len(lower_out)+len(upper_out))\n",
    "print(\"Presentase outlier :\", round((len(lower_out)+len(upper_out))/len(df)*100, 2), \"%\")"
   ]
  },
  {
   "cell_type": "code",
   "execution_count": 90,
   "id": "44d61217-56d4-4507-afb6-009930778bd8",
   "metadata": {},
   "outputs": [],
   "source": [
    "df = df[df[\"Distance\"] < min(upper_out)]"
   ]
  },
  {
   "cell_type": "code",
   "execution_count": 91,
   "id": "54a6fd86-da34-4393-a845-2f1d52bf6fc2",
   "metadata": {},
   "outputs": [
    {
     "data": {
      "image/png": "[encoded data removed]",
      "text/plain": [
       "<Figure size 720x432 with 1 Axes>"
      ]
     },
     "metadata": {
      "needs_background": "light"
     },
     "output_type": "display_data"
    }
   ],
   "source": [
    "plt.figure(figsize=(10,6))\n",
    "sns.boxplot(data=df[\"Distance\"], orient=\"h\")\n",
    "plt.show()"
   ]
  },
  {
   "cell_type": "markdown",
   "id": "5c2f3c54-3d55-4733-a7ee-f958644c1be0",
   "metadata": {},
   "source": [
    "#### 4. POSTCODE"
   ]
  },
  {
   "cell_type": "code",
   "execution_count": 92,
   "id": "44471ab1-2780-406b-8f6c-bbe131925b36",
   "metadata": {},
   "outputs": [],
   "source": [
    "lower_out = find_outlier(df[\"Postcode\"])[0]\n",
    "upper_out = find_outlier(df[\"Postcode\"])[1]"
   ]
  },
  {
   "cell_type": "code",
   "execution_count": 93,
   "id": "4606b69c-feb8-48c7-817f-1e02340ee118",
   "metadata": {},
   "outputs": [
    {
     "name": "stdout",
     "output_type": "stream",
     "text": [
      "Jumlah data : 31536\n",
      "Jumlah outlier : 129\n",
      "Presentase outlier : 0.41 %\n"
     ]
    }
   ],
   "source": [
    "print(\"Jumlah data :\", len(df))\n",
    "print(\"Jumlah outlier :\", len(lower_out)+len(upper_out))\n",
    "print(\"Presentase outlier :\", round((len(lower_out)+len(upper_out))/len(df)*100, 2), \"%\")"
   ]
  },
  {
   "cell_type": "code",
   "execution_count": 94,
   "id": "3e15d1da-39a2-467f-93b6-fead08847e6a",
   "metadata": {},
   "outputs": [],
   "source": [
    "df = df[(df[\"Postcode\"] < min(upper_out)) & (df[\"Postcode\"] > min(lower_out))]"
   ]
  },
  {
   "cell_type": "code",
   "execution_count": 95,
   "id": "283fa7e2-2f58-4b06-be8a-067925e34b6a",
   "metadata": {},
   "outputs": [
    {
     "data": {
      "image/png": "[encoded data removed]",
      "text/plain": [
       "<Figure size 720x432 with 1 Axes>"
      ]
     },
     "metadata": {
      "needs_background": "light"
     },
     "output_type": "display_data"
    }
   ],
   "source": [
    "plt.figure(figsize=(10,6))\n",
    "sns.boxplot(data=df[\"Postcode\"], orient=\"h\")\n",
    "plt.show()"
   ]
  },
  {
   "cell_type": "markdown",
   "id": "dfa111a4-3c05-45dc-90af-bea8e6757510",
   "metadata": {},
   "source": [
    "#### 5. BEDROOM"
   ]
  },
  {
   "cell_type": "code",
   "execution_count": 96,
   "id": "2f9981b3-51ba-48f2-a062-a08ce2828957",
   "metadata": {},
   "outputs": [],
   "source": [
    "lower_out = find_outlier(df[\"Bedroom2\"])[0]\n",
    "upper_out = find_outlier(df[\"Bedroom2\"])[1]"
   ]
  },
  {
   "cell_type": "code",
   "execution_count": 97,
   "id": "509b4c6c-9b06-4fa4-aa55-5c2fc737c2b6",
   "metadata": {},
   "outputs": [
    {
     "name": "stdout",
     "output_type": "stream",
     "text": [
      "Jumlah data : 31407\n",
      "Jumlah outlier : 1428\n",
      "Presentase outlier : 4.55 %\n"
     ]
    }
   ],
   "source": [
    "print(\"Jumlah data :\", len(df))\n",
    "print(\"Jumlah outlier :\", len(lower_out)+len(upper_out))\n",
    "print(\"Presentase outlier :\", round((len(lower_out)+len(upper_out))/len(df)*100, 2), \"%\")"
   ]
  },
  {
   "cell_type": "code",
   "execution_count": 98,
   "id": "091d4303-9857-4694-a01e-3f0b8f2937ac",
   "metadata": {},
   "outputs": [],
   "source": [
    "df = df[df[\"Bedroom2\"] < min(upper_out)]"
   ]
  },
  {
   "cell_type": "code",
   "execution_count": 99,
   "id": "a5d5ad26-3774-4208-8312-a0da26e83cb9",
   "metadata": {},
   "outputs": [
    {
     "data": {
      "image/png": "[encoded data removed]",
      "text/plain": [
       "<Figure size 720x432 with 1 Axes>"
      ]
     },
     "metadata": {
      "needs_background": "light"
     },
     "output_type": "display_data"
    }
   ],
   "source": [
    "plt.figure(figsize=(10,6))\n",
    "sns.boxplot(data=df[\"Bedroom2\"], orient=\"h\")\n",
    "plt.show()"
   ]
  },
  {
   "cell_type": "code",
   "execution_count": 100,
   "id": "0829c3f1-3936-4be3-884c-07136de4d565",
   "metadata": {},
   "outputs": [],
   "source": [
    "lower_out = find_outlier(df[\"Bedroom2\"])[0]\n",
    "upper_out = find_outlier(df[\"Bedroom2\"])[1]"
   ]
  },
  {
   "cell_type": "code",
   "execution_count": 101,
   "id": "58048b97-342e-4a44-be0e-d54758b50748",
   "metadata": {},
   "outputs": [
    {
     "name": "stdout",
     "output_type": "stream",
     "text": [
      "Jumlah data : 29995\n",
      "Jumlah outlier : 16\n",
      "Presentase outlier : 0.05 %\n"
     ]
    }
   ],
   "source": [
    "print(\"Jumlah data :\", len(df))\n",
    "print(\"Jumlah outlier :\", len(lower_out)+len(upper_out))\n",
    "print(\"Presentase outlier :\", round((len(lower_out)+len(upper_out))/len(df)*100, 2), \"%\")"
   ]
  },
  {
   "cell_type": "code",
   "execution_count": 102,
   "id": "4e25ab08-18ae-4907-ae20-bf23d3c1488f",
   "metadata": {},
   "outputs": [],
   "source": [
    "df = df[df[\"Bedroom2\"] > min(lower_out)]"
   ]
  },
  {
   "cell_type": "code",
   "execution_count": 103,
   "id": "98210032-6abb-4ae9-9fb4-0a598b41a5d0",
   "metadata": {},
   "outputs": [
    {
     "data": {
      "image/png": "[encoded data removed]",
      "text/plain": [
       "<Figure size 720x432 with 1 Axes>"
      ]
     },
     "metadata": {
      "needs_background": "light"
     },
     "output_type": "display_data"
    }
   ],
   "source": [
    "plt.figure(figsize=(10,6))\n",
    "sns.boxplot(data=df[\"Bedroom2\"], orient=\"h\")\n",
    "plt.show()"
   ]
  },
  {
   "cell_type": "markdown",
   "id": "bfb0743f-3ef4-4670-a58f-5857f0d4affc",
   "metadata": {},
   "source": [
    "#### 6. BATHROOM"
   ]
  },
  {
   "cell_type": "code",
   "execution_count": 104,
   "id": "7eea23b9-5a8e-47c8-b6a1-92956a88e58f",
   "metadata": {},
   "outputs": [],
   "source": [
    "lower_out = find_outlier(df[\"Bathroom\"])[0]\n",
    "upper_out = find_outlier(df[\"Bathroom\"])[1]"
   ]
  },
  {
   "cell_type": "code",
   "execution_count": 105,
   "id": "996ecb27-9f72-412f-b0ab-8ad71304cdad",
   "metadata": {},
   "outputs": [
    {
     "name": "stdout",
     "output_type": "stream",
     "text": [
      "Jumlah data : 29979\n",
      "Jumlah outlier : 6252\n",
      "Presentase outlier : 20.85 %\n"
     ]
    }
   ],
   "source": [
    "print(\"Jumlah data :\", len(df))\n",
    "print(\"Jumlah outlier :\", len(lower_out)+len(upper_out))\n",
    "print(\"Presentase outlier :\", round((len(lower_out)+len(upper_out))/len(df)*100, 2), \"%\")"
   ]
  },
  {
   "cell_type": "code",
   "execution_count": 106,
   "id": "88319689-b2a3-44de-ba27-a93f3e2e1436",
   "metadata": {},
   "outputs": [
    {
     "data": {
      "image/png": "[encoded data removed]",
      "text/plain": [
       "<Figure size 720x432 with 1 Axes>"
      ]
     },
     "metadata": {
      "needs_background": "light"
     },
     "output_type": "display_data"
    }
   ],
   "source": [
    "plt.figure(figsize=(10,6))\n",
    "sns.boxplot(data=df[\"Bathroom\"], orient=\"h\")\n",
    "plt.show()"
   ]
  },
  {
   "cell_type": "code",
   "execution_count": 107,
   "id": "f6410b00-e021-4fa9-b5ac-edbd0955ccd5",
   "metadata": {},
   "outputs": [
    {
     "name": "stdout",
     "output_type": "stream",
     "text": [
      "Upper Limit : 3.5\n"
     ]
    }
   ],
   "source": [
    "iqr = df[\"Bathroom\"].quantile(.75) - df[\"Bathroom\"].quantile(.25)\n",
    "up_limit = df[\"Bathroom\"].quantile(.75)+1.5*iqr\n",
    "print(\"Upper Limit :\", up_limit)"
   ]
  },
  {
   "cell_type": "code",
   "execution_count": 108,
   "id": "445a1846-8f3f-49c8-8b4a-992eb2c643b8",
   "metadata": {},
   "outputs": [
    {
     "data": {
      "text/plain": [
       "3.0"
      ]
     },
     "execution_count": 108,
     "metadata": {},
     "output_type": "execute_result"
    }
   ],
   "source": [
    "df[\"Bathroom\"].quantile(.79)"
   ]
  },
  {
   "cell_type": "code",
   "execution_count": 109,
   "id": "6e7cf190-4725-4be5-9c4f-2a59ca451aa1",
   "metadata": {},
   "outputs": [],
   "source": [
    "df1 = df.copy()\n",
    "df1[\"Bathroom_fin\"] = stats.mstats.winsorize(df[\"Bathroom\"], limits=(0, .21))"
   ]
  },
  {
   "cell_type": "code",
   "execution_count": 110,
   "id": "9dde30a1-2aed-41d3-95f4-4f9f991cd390",
   "metadata": {},
   "outputs": [
    {
     "data": {
      "image/png": "[encoded data removed]",
      "text/plain": [
       "<Figure size 720x432 with 1 Axes>"
      ]
     },
     "metadata": {
      "needs_background": "light"
     },
     "output_type": "display_data"
    }
   ],
   "source": [
    "plt.figure(figsize=(10,6))\n",
    "sns.boxplot(data=df1[[\"Bathroom\", \"Bathroom_fin\"]], orient=\"h\")\n",
    "plt.show()"
   ]
  },
  {
   "cell_type": "code",
   "execution_count": 111,
   "id": "ac670bfb-4d01-4581-8c4c-80d11e2dbfa1",
   "metadata": {},
   "outputs": [],
   "source": [
    "df1 = df"
   ]
  },
  {
   "cell_type": "markdown",
   "id": "6000f3be-e500-4eaa-ae75-641c627c1771",
   "metadata": {},
   "source": [
    "#### 7. CAR"
   ]
  },
  {
   "cell_type": "code",
   "execution_count": 112,
   "id": "09bbc87d-2c86-4c15-99cf-225bc39e67bc",
   "metadata": {},
   "outputs": [],
   "source": [
    "lower_out = find_outlier(df[\"Car\"])[0]\n",
    "upper_out = find_outlier(df[\"Car\"])[1]"
   ]
  },
  {
   "cell_type": "code",
   "execution_count": 113,
   "id": "cac43ff7-26c3-4ad9-9d79-2994c8c1cf4c",
   "metadata": {},
   "outputs": [
    {
     "name": "stdout",
     "output_type": "stream",
     "text": [
      "Jumlah data : 29979\n",
      "Jumlah outlier : 6305\n",
      "Presentase outlier : 21.03 %\n"
     ]
    }
   ],
   "source": [
    "print(\"Jumlah data :\", len(df))\n",
    "print(\"Jumlah outlier :\", len(lower_out)+len(upper_out))\n",
    "print(\"Presentase outlier :\", round((len(lower_out)+len(upper_out))/len(df)*100, 2), \"%\")"
   ]
  },
  {
   "cell_type": "code",
   "execution_count": 114,
   "id": "1eef25ea-9a10-488e-a220-5d6535aeccd8",
   "metadata": {},
   "outputs": [
    {
     "name": "stdout",
     "output_type": "stream",
     "text": [
      "Upper Limit : 6.0\n"
     ]
    }
   ],
   "source": [
    "iqr = df[\"Car\"].quantile(.75) - df[\"Car\"].quantile(.25)\n",
    "up_limit = df[\"Car\"].quantile(.75)+1.5*iqr\n",
    "print(\"Upper Limit :\", up_limit)"
   ]
  },
  {
   "cell_type": "code",
   "execution_count": 115,
   "id": "e4319b15-7193-45dd-8c3e-f1fcbba1cba0",
   "metadata": {},
   "outputs": [
    {
     "data": {
      "text/plain": [
       "4.0"
      ]
     },
     "execution_count": 115,
     "metadata": {},
     "output_type": "execute_result"
    }
   ],
   "source": [
    "df[\"Car\"].quantile(.78)"
   ]
  },
  {
   "cell_type": "code",
   "execution_count": 116,
   "id": "1697ac88-6234-4ab6-9fca-a500cd50521d",
   "metadata": {},
   "outputs": [],
   "source": [
    "df1 = df.copy()\n",
    "df1[\"Car_fin\"] = stats.mstats.winsorize(df[\"Car\"], limits=(0, .22))"
   ]
  },
  {
   "cell_type": "code",
   "execution_count": 117,
   "id": "58863f9b-d88d-4b64-bab8-17e71353e029",
   "metadata": {},
   "outputs": [
    {
     "data": {
      "image/png": "[encoded data removed]",
      "text/plain": [
       "<Figure size 720x432 with 1 Axes>"
      ]
     },
     "metadata": {
      "needs_background": "light"
     },
     "output_type": "display_data"
    }
   ],
   "source": [
    "plt.figure(figsize=(10,6))\n",
    "sns.boxplot(data=df1[[\"Car\", \"Car_fin\"]], orient=\"h\")\n",
    "plt.show()"
   ]
  },
  {
   "cell_type": "code",
   "execution_count": 118,
   "id": "66d51133-b912-4cbc-922a-2b9ebd1d681d",
   "metadata": {},
   "outputs": [],
   "source": [
    "df1 = df"
   ]
  },
  {
   "cell_type": "markdown",
   "id": "5549e8a0-8c9b-4f76-ac99-25c6b8fc945d",
   "metadata": {},
   "source": [
    "#### 8. LANDSIZE"
   ]
  },
  {
   "cell_type": "code",
   "execution_count": 119,
   "id": "3de858fe-cb72-47ad-b439-76f480d0b056",
   "metadata": {},
   "outputs": [],
   "source": [
    "lower_out = find_outlier(df[\"Landsize\"])[0]\n",
    "upper_out = find_outlier(df[\"Landsize\"])[1]"
   ]
  },
  {
   "cell_type": "code",
   "execution_count": 120,
   "id": "1758e51e-0597-43a9-aed7-3c6a401b30b6",
   "metadata": {},
   "outputs": [
    {
     "name": "stdout",
     "output_type": "stream",
     "text": [
      "Jumlah data : 29979\n",
      "Jumlah outlier : 559\n",
      "Presentase outlier : 1.86 %\n"
     ]
    }
   ],
   "source": [
    "print(\"Jumlah data :\", len(df))\n",
    "print(\"Jumlah outlier :\", len(lower_out)+len(upper_out))\n",
    "print(\"Presentase outlier :\", round((len(lower_out)+len(upper_out))/len(df)*100, 2), \"%\")"
   ]
  },
  {
   "cell_type": "code",
   "execution_count": 121,
   "id": "ceb3f7fa-2776-42f0-bfae-2644fc39baf3",
   "metadata": {},
   "outputs": [],
   "source": [
    "df = df[df[\"Landsize\"] < min(upper_out)]"
   ]
  },
  {
   "cell_type": "code",
   "execution_count": 122,
   "id": "682f4bd4-47aa-409c-844f-a7af7e2105a8",
   "metadata": {},
   "outputs": [
    {
     "data": {
      "image/png": "[encoded data removed]",
      "text/plain": [
       "<Figure size 720x432 with 1 Axes>"
      ]
     },
     "metadata": {
      "needs_background": "light"
     },
     "output_type": "display_data"
    }
   ],
   "source": [
    "plt.figure(figsize=(10,6))\n",
    "sns.boxplot(data=df[\"Landsize\"], orient=\"h\")\n",
    "plt.show()"
   ]
  },
  {
   "cell_type": "code",
   "execution_count": 123,
   "id": "18358a99-0d25-491a-8425-40b4a5e22e80",
   "metadata": {},
   "outputs": [],
   "source": [
    "lower_out = find_outlier(df[\"Landsize\"])[0]\n",
    "upper_out = find_outlier(df[\"Landsize\"])[1]"
   ]
  },
  {
   "cell_type": "code",
   "execution_count": 124,
   "id": "3311144b-53fe-4de1-9799-651658bef2b8",
   "metadata": {},
   "outputs": [
    {
     "name": "stdout",
     "output_type": "stream",
     "text": [
      "Jumlah data : 29420\n",
      "Jumlah outlier : 11\n",
      "Presentase outlier : 0.04 %\n"
     ]
    }
   ],
   "source": [
    "print(\"Jumlah data :\", len(df))\n",
    "print(\"Jumlah outlier :\", len(lower_out)+len(upper_out))\n",
    "print(\"Presentase outlier :\", round((len(lower_out)+len(upper_out))/len(df)*100, 2), \"%\")"
   ]
  },
  {
   "cell_type": "code",
   "execution_count": 125,
   "id": "da543414-211b-4831-8dd7-c9b1c34cf210",
   "metadata": {},
   "outputs": [],
   "source": [
    "df = df[df[\"Landsize\"] < min(upper_out)]"
   ]
  },
  {
   "cell_type": "code",
   "execution_count": 126,
   "id": "ff6c7c57-b805-4a38-a0b9-717367955d64",
   "metadata": {},
   "outputs": [
    {
     "data": {
      "image/png": "[encoded data removed]",
      "text/plain": [
       "<Figure size 720x432 with 1 Axes>"
      ]
     },
     "metadata": {
      "needs_background": "light"
     },
     "output_type": "display_data"
    }
   ],
   "source": [
    "plt.figure(figsize=(10,6))\n",
    "sns.boxplot(data=df[\"Landsize\"], orient=\"h\")\n",
    "plt.show()"
   ]
  },
  {
   "cell_type": "markdown",
   "id": "24343f5b-22cd-4692-9c99-620365ae704c",
   "metadata": {},
   "source": [
    "#### 9. PROPERTYCOUNT"
   ]
  },
  {
   "cell_type": "code",
   "execution_count": 127,
   "id": "21a6126c-68af-4a9a-9ea3-0d2ec1b4ca20",
   "metadata": {},
   "outputs": [],
   "source": [
    "lower_out = find_outlier(df[\"Propertycount\"])[0]\n",
    "upper_out = find_outlier(df[\"Propertycount\"])[1]"
   ]
  },
  {
   "cell_type": "code",
   "execution_count": 128,
   "id": "8cbb511b-7185-4c06-b3d8-8866daf836b4",
   "metadata": {},
   "outputs": [
    {
     "name": "stdout",
     "output_type": "stream",
     "text": [
      "Jumlah data : 29409\n",
      "Jumlah outlier : 819\n",
      "Presentase outlier : 2.78 %\n"
     ]
    }
   ],
   "source": [
    "print(\"Jumlah data :\", len(df))\n",
    "print(\"Jumlah outlier :\", len(lower_out)+len(upper_out))\n",
    "print(\"Presentase outlier :\", round((len(lower_out)+len(upper_out))/len(df)*100, 2), \"%\")"
   ]
  },
  {
   "cell_type": "code",
   "execution_count": 129,
   "id": "4b1e90bb-4bcf-423b-9abe-bd6b3df24e21",
   "metadata": {},
   "outputs": [],
   "source": [
    "df = df[df[\"Propertycount\"] < min(upper_out)]"
   ]
  },
  {
   "cell_type": "code",
   "execution_count": 130,
   "id": "b369bbc5-20c1-4514-acf0-3e2ff3031f48",
   "metadata": {},
   "outputs": [
    {
     "data": {
      "image/png": "[encoded data removed]",
      "text/plain": [
       "<Figure size 720x432 with 1 Axes>"
      ]
     },
     "metadata": {
      "needs_background": "light"
     },
     "output_type": "display_data"
    }
   ],
   "source": [
    "plt.figure(figsize=(10,6))\n",
    "sns.boxplot(data=df[\"Propertycount\"], orient=\"h\")\n",
    "plt.show()"
   ]
  },
  {
   "cell_type": "markdown",
   "id": "1437e711-5ea1-4e1a-baec-827c68ce6c5c",
   "metadata": {},
   "source": [
    "### OVERVIEW ALL"
   ]
  },
  {
   "cell_type": "code",
   "execution_count": 116,
   "id": "19fa6dff-a414-4f8c-abc8-11c24ff9aea1",
   "metadata": {},
   "outputs": [
    {
     "data": {
      "text/html": [
       "<div>\n",
       "<style scoped>\n",
       "    .dataframe tbody tr th:only-of-type {\n",
       "        vertical-align: middle;\n",
       "    }\n",
       "\n",
       "    .dataframe tbody tr th {\n",
       "        vertical-align: top;\n",
       "    }\n",
       "\n",
       "    .dataframe thead th {\n",
       "        text-align: right;\n",
       "    }\n",
       "</style>\n",
       "<table border=\"1\" class=\"dataframe\">\n",
       "  <thead>\n",
       "    <tr style=\"text-align: right;\">\n",
       "      <th></th>\n",
       "      <th>column</th>\n",
       "      <th>null values</th>\n",
       "      <th>unique number</th>\n",
       "      <th>values</th>\n",
       "    </tr>\n",
       "  </thead>\n",
       "  <tbody>\n",
       "    <tr>\n",
       "      <th>0</th>\n",
       "      <td>Suburb</td>\n",
       "      <td>0</td>\n",
       "      <td>267</td>\n",
       "      <td>[Abbotsford, Airport West, Albert Park, Alphin...</td>\n",
       "    </tr>\n",
       "    <tr>\n",
       "      <th>1</th>\n",
       "      <td>Address</td>\n",
       "      <td>0</td>\n",
       "      <td>28822</td>\n",
       "      <td>[85 Turner St, 25 Bloomburg St, 5 Charles St, ...</td>\n",
       "    </tr>\n",
       "    <tr>\n",
       "      <th>2</th>\n",
       "      <td>Rooms</td>\n",
       "      <td>0</td>\n",
       "      <td>6</td>\n",
       "      <td>[2, 3, 4, 1, 5, 6]</td>\n",
       "    </tr>\n",
       "    <tr>\n",
       "      <th>3</th>\n",
       "      <td>Type</td>\n",
       "      <td>0</td>\n",
       "      <td>3</td>\n",
       "      <td>[h, u, t]</td>\n",
       "    </tr>\n",
       "    <tr>\n",
       "      <th>4</th>\n",
       "      <td>Price</td>\n",
       "      <td>0</td>\n",
       "      <td>2286</td>\n",
       "      <td>[1480000.0, 1035000.0, 1465000.0, 850000.0, 16...</td>\n",
       "    </tr>\n",
       "    <tr>\n",
       "      <th>5</th>\n",
       "      <td>Method</td>\n",
       "      <td>0</td>\n",
       "      <td>9</td>\n",
       "      <td>[S, SP, PI, VB, SA, SS, SN, PN, W]</td>\n",
       "    </tr>\n",
       "    <tr>\n",
       "      <th>6</th>\n",
       "      <td>SellerG</td>\n",
       "      <td>0</td>\n",
       "      <td>340</td>\n",
       "      <td>[Biggin, Nelson, Jellis, Greg, LITTLE, Collins...</td>\n",
       "    </tr>\n",
       "    <tr>\n",
       "      <th>7</th>\n",
       "      <td>Date</td>\n",
       "      <td>0</td>\n",
       "      <td>78</td>\n",
       "      <td>[3/12/2016, 4/02/2016, 4/03/2017, 4/06/2016, 7...</td>\n",
       "    </tr>\n",
       "    <tr>\n",
       "      <th>8</th>\n",
       "      <td>Distance</td>\n",
       "      <td>0</td>\n",
       "      <td>165</td>\n",
       "      <td>[2.5, 13.5, 3.3, 6.4, 13.8, 11.1, 6.3, 5.9, 11...</td>\n",
       "    </tr>\n",
       "    <tr>\n",
       "      <th>9</th>\n",
       "      <td>Postcode</td>\n",
       "      <td>0</td>\n",
       "      <td>155</td>\n",
       "      <td>[3067.0, 3042.0, 3206.0, 3078.0, 3018.0, 3025....</td>\n",
       "    </tr>\n",
       "    <tr>\n",
       "      <th>10</th>\n",
       "      <td>Bedroom2</td>\n",
       "      <td>0</td>\n",
       "      <td>4</td>\n",
       "      <td>[2.0, 3.0, 4.0, 1.0]</td>\n",
       "    </tr>\n",
       "    <tr>\n",
       "      <th>11</th>\n",
       "      <td>Bathroom</td>\n",
       "      <td>0</td>\n",
       "      <td>7</td>\n",
       "      <td>[1.0, 2.0, 3.0, 0.0, 5.0, 4.0, 8.0]</td>\n",
       "    </tr>\n",
       "    <tr>\n",
       "      <th>12</th>\n",
       "      <td>Car</td>\n",
       "      <td>0</td>\n",
       "      <td>13</td>\n",
       "      <td>[1.0, 0.0, 2.0, 6.0, 5.0, 3.0, 4.0, 8.0, 7.0, ...</td>\n",
       "    </tr>\n",
       "    <tr>\n",
       "      <th>13</th>\n",
       "      <td>Landsize</td>\n",
       "      <td>0</td>\n",
       "      <td>1087</td>\n",
       "      <td>[202.0, 156.0, 134.0, 94.0, 120.0, 181.0, 245....</td>\n",
       "    </tr>\n",
       "    <tr>\n",
       "      <th>14</th>\n",
       "      <td>CouncilArea</td>\n",
       "      <td>0</td>\n",
       "      <td>27</td>\n",
       "      <td>[Yarra City Council, Moonee Valley City Counci...</td>\n",
       "    </tr>\n",
       "    <tr>\n",
       "      <th>15</th>\n",
       "      <td>Regionname</td>\n",
       "      <td>0</td>\n",
       "      <td>8</td>\n",
       "      <td>[Northern Metropolitan, Western Metropolitan, ...</td>\n",
       "    </tr>\n",
       "    <tr>\n",
       "      <th>16</th>\n",
       "      <td>Propertycount</td>\n",
       "      <td>0</td>\n",
       "      <td>262</td>\n",
       "      <td>[4019.0, 3464.0, 3280.0, 2211.0, 5301.0, 5132....</td>\n",
       "    </tr>\n",
       "  </tbody>\n",
       "</table>\n",
       "</div>"
      ],
      "text/plain": [
       "           column  null values  unique number  \\\n",
       "0          Suburb            0            267   \n",
       "1         Address            0          28822   \n",
       "2           Rooms            0              6   \n",
       "3            Type            0              3   \n",
       "4           Price            0           2286   \n",
       "5          Method            0              9   \n",
       "6         SellerG            0            340   \n",
       "7            Date            0             78   \n",
       "8        Distance            0            165   \n",
       "9        Postcode            0            155   \n",
       "10       Bedroom2            0              4   \n",
       "11       Bathroom            0              7   \n",
       "12            Car            0             13   \n",
       "13       Landsize            0           1087   \n",
       "14    CouncilArea            0             27   \n",
       "15     Regionname            0              8   \n",
       "16  Propertycount            0            262   \n",
       "\n",
       "                                               values  \n",
       "0   [Abbotsford, Airport West, Albert Park, Alphin...  \n",
       "1   [85 Turner St, 25 Bloomburg St, 5 Charles St, ...  \n",
       "2                                  [2, 3, 4, 1, 5, 6]  \n",
       "3                                           [h, u, t]  \n",
       "4   [1480000.0, 1035000.0, 1465000.0, 850000.0, 16...  \n",
       "5                  [S, SP, PI, VB, SA, SS, SN, PN, W]  \n",
       "6   [Biggin, Nelson, Jellis, Greg, LITTLE, Collins...  \n",
       "7   [3/12/2016, 4/02/2016, 4/03/2017, 4/06/2016, 7...  \n",
       "8   [2.5, 13.5, 3.3, 6.4, 13.8, 11.1, 6.3, 5.9, 11...  \n",
       "9   [3067.0, 3042.0, 3206.0, 3078.0, 3018.0, 3025....  \n",
       "10                               [2.0, 3.0, 4.0, 1.0]  \n",
       "11                [1.0, 2.0, 3.0, 0.0, 5.0, 4.0, 8.0]  \n",
       "12  [1.0, 0.0, 2.0, 6.0, 5.0, 3.0, 4.0, 8.0, 7.0, ...  \n",
       "13  [202.0, 156.0, 134.0, 94.0, 120.0, 181.0, 245....  \n",
       "14  [Yarra City Council, Moonee Valley City Counci...  \n",
       "15  [Northern Metropolitan, Western Metropolitan, ...  \n",
       "16  [4019.0, 3464.0, 3280.0, 2211.0, 5301.0, 5132....  "
      ]
     },
     "execution_count": 116,
     "metadata": {},
     "output_type": "execute_result"
    }
   ],
   "source": [
    "df1 = []\n",
    "for i in df.columns:\n",
    "    df1.append([i, df[i].isna().sum(), df[i].nunique(), df[i].drop_duplicates().values])\n",
    "\n",
    "df2 = pd.DataFrame(df1, columns=[\"column\", \"null values\", \"unique number\", \"values\"])\n",
    "df2"
   ]
  },
  {
   "cell_type": "code",
   "execution_count": 117,
   "id": "a86e2d3e-c502-40e1-b1b8-cd3bb708868b",
   "metadata": {},
   "outputs": [
    {
     "name": "stdout",
     "output_type": "stream",
     "text": [
      "<class 'pandas.core.frame.DataFrame'>\n",
      "RangeIndex: 17 entries, 0 to 16\n",
      "Data columns (total 4 columns):\n",
      " #   Column         Non-Null Count  Dtype \n",
      "---  ------         --------------  ----- \n",
      " 0   column         17 non-null     object\n",
      " 1   null values    17 non-null     int64 \n",
      " 2   unique number  17 non-null     int64 \n",
      " 3   values         17 non-null     object\n",
      "dtypes: int64(2), object(2)\n",
      "memory usage: 672.0+ bytes\n"
     ]
    }
   ],
   "source": [
    "df2.info()"
   ]
  },
  {
   "cell_type": "code",
   "execution_count": 131,
   "id": "b18006ce-50a5-4800-b160-a9a74f8adf3e",
   "metadata": {},
   "outputs": [
    {
     "data": {
      "text/html": [
       "<div>\n",
       "<style scoped>\n",
       "    .dataframe tbody tr th:only-of-type {\n",
       "        vertical-align: middle;\n",
       "    }\n",
       "\n",
       "    .dataframe tbody tr th {\n",
       "        vertical-align: top;\n",
       "    }\n",
       "\n",
       "    .dataframe thead th {\n",
       "        text-align: right;\n",
       "    }\n",
       "</style>\n",
       "<table border=\"1\" class=\"dataframe\">\n",
       "  <thead>\n",
       "    <tr style=\"text-align: right;\">\n",
       "      <th></th>\n",
       "      <th>count</th>\n",
       "      <th>mean</th>\n",
       "      <th>std</th>\n",
       "      <th>min</th>\n",
       "      <th>25%</th>\n",
       "      <th>50%</th>\n",
       "      <th>75%</th>\n",
       "      <th>max</th>\n",
       "    </tr>\n",
       "  </thead>\n",
       "  <tbody>\n",
       "    <tr>\n",
       "      <th>Rooms</th>\n",
       "      <td>28590.0</td>\n",
       "      <td>2.864813</td>\n",
       "      <td>0.819899</td>\n",
       "      <td>1.0</td>\n",
       "      <td>2.0</td>\n",
       "      <td>3.0</td>\n",
       "      <td>3.0</td>\n",
       "      <td>6.0</td>\n",
       "    </tr>\n",
       "    <tr>\n",
       "      <th>Price</th>\n",
       "      <td>28590.0</td>\n",
       "      <td>940385.159916</td>\n",
       "      <td>368522.863182</td>\n",
       "      <td>85000.0</td>\n",
       "      <td>655000.0</td>\n",
       "      <td>920000.0</td>\n",
       "      <td>1210000.0</td>\n",
       "      <td>2035000.0</td>\n",
       "    </tr>\n",
       "    <tr>\n",
       "      <th>Distance</th>\n",
       "      <td>28590.0</td>\n",
       "      <td>10.224127</td>\n",
       "      <td>5.188696</td>\n",
       "      <td>0.0</td>\n",
       "      <td>6.2</td>\n",
       "      <td>9.7</td>\n",
       "      <td>13.8</td>\n",
       "      <td>25.0</td>\n",
       "    </tr>\n",
       "    <tr>\n",
       "      <th>Postcode</th>\n",
       "      <td>28590.0</td>\n",
       "      <td>3098.652851</td>\n",
       "      <td>59.869970</td>\n",
       "      <td>3000.0</td>\n",
       "      <td>3044.0</td>\n",
       "      <td>3087.0</td>\n",
       "      <td>3148.0</td>\n",
       "      <td>3207.0</td>\n",
       "    </tr>\n",
       "    <tr>\n",
       "      <th>Bedroom2</th>\n",
       "      <td>28590.0</td>\n",
       "      <td>2.850192</td>\n",
       "      <td>0.811039</td>\n",
       "      <td>1.0</td>\n",
       "      <td>2.0</td>\n",
       "      <td>3.0</td>\n",
       "      <td>3.0</td>\n",
       "      <td>4.0</td>\n",
       "    </tr>\n",
       "    <tr>\n",
       "      <th>Bathroom</th>\n",
       "      <td>28590.0</td>\n",
       "      <td>2.879363</td>\n",
       "      <td>2.672716</td>\n",
       "      <td>0.0</td>\n",
       "      <td>1.0</td>\n",
       "      <td>2.0</td>\n",
       "      <td>2.0</td>\n",
       "      <td>8.0</td>\n",
       "    </tr>\n",
       "    <tr>\n",
       "      <th>Car</th>\n",
       "      <td>28590.0</td>\n",
       "      <td>3.058587</td>\n",
       "      <td>2.707136</td>\n",
       "      <td>0.0</td>\n",
       "      <td>1.0</td>\n",
       "      <td>2.0</td>\n",
       "      <td>3.0</td>\n",
       "      <td>26.0</td>\n",
       "    </tr>\n",
       "    <tr>\n",
       "      <th>Landsize</th>\n",
       "      <td>28590.0</td>\n",
       "      <td>385.697167</td>\n",
       "      <td>233.837811</td>\n",
       "      <td>0.0</td>\n",
       "      <td>232.5</td>\n",
       "      <td>309.0</td>\n",
       "      <td>598.0</td>\n",
       "      <td>1146.0</td>\n",
       "    </tr>\n",
       "    <tr>\n",
       "      <th>Propertycount</th>\n",
       "      <td>28590.0</td>\n",
       "      <td>7195.575761</td>\n",
       "      <td>3862.945368</td>\n",
       "      <td>0.0</td>\n",
       "      <td>4258.0</td>\n",
       "      <td>6543.0</td>\n",
       "      <td>10175.0</td>\n",
       "      <td>17496.0</td>\n",
       "    </tr>\n",
       "  </tbody>\n",
       "</table>\n",
       "</div>"
      ],
      "text/plain": [
       "                 count           mean            std      min       25%  \\\n",
       "Rooms          28590.0       2.864813       0.819899      1.0       2.0   \n",
       "Price          28590.0  940385.159916  368522.863182  85000.0  655000.0   \n",
       "Distance       28590.0      10.224127       5.188696      0.0       6.2   \n",
       "Postcode       28590.0    3098.652851      59.869970   3000.0    3044.0   \n",
       "Bedroom2       28590.0       2.850192       0.811039      1.0       2.0   \n",
       "Bathroom       28590.0       2.879363       2.672716      0.0       1.0   \n",
       "Car            28590.0       3.058587       2.707136      0.0       1.0   \n",
       "Landsize       28590.0     385.697167     233.837811      0.0     232.5   \n",
       "Propertycount  28590.0    7195.575761    3862.945368      0.0    4258.0   \n",
       "\n",
       "                    50%        75%        max  \n",
       "Rooms               3.0        3.0        6.0  \n",
       "Price          920000.0  1210000.0  2035000.0  \n",
       "Distance            9.7       13.8       25.0  \n",
       "Postcode         3087.0     3148.0     3207.0  \n",
       "Bedroom2            3.0        3.0        4.0  \n",
       "Bathroom            2.0        2.0        8.0  \n",
       "Car                 2.0        3.0       26.0  \n",
       "Landsize          309.0      598.0     1146.0  \n",
       "Propertycount    6543.0    10175.0    17496.0  "
      ]
     },
     "execution_count": 131,
     "metadata": {},
     "output_type": "execute_result"
    }
   ],
   "source": [
    "df.describe().T"
   ]
  },
  {
   "cell_type": "markdown",
   "id": "bb3015b2-1312-4f2e-b03b-91c7ea9e6a33",
   "metadata": {
    "tags": []
   },
   "source": [
    "# Feature Engineering"
   ]
  },
  {
   "cell_type": "code",
   "execution_count": 132,
   "id": "d0228ff0-9a6a-47d8-897e-09256b98380a",
   "metadata": {},
   "outputs": [
    {
     "name": "stdout",
     "output_type": "stream",
     "text": [
      "<class 'pandas.core.frame.DataFrame'>\n",
      "Int64Index: 28590 entries, 1 to 34829\n",
      "Data columns (total 13 columns):\n",
      " #   Column         Non-Null Count  Dtype  \n",
      "---  ------         --------------  -----  \n",
      " 0   Rooms          28590 non-null  int64  \n",
      " 1   Type           28590 non-null  object \n",
      " 2   Price          28590 non-null  float64\n",
      " 3   Method         28590 non-null  object \n",
      " 4   Distance       28590 non-null  float64\n",
      " 5   Postcode       28590 non-null  float64\n",
      " 6   Bedroom2       28590 non-null  float64\n",
      " 7   Bathroom       28590 non-null  float64\n",
      " 8   Car            28590 non-null  float64\n",
      " 9   Landsize       28590 non-null  float64\n",
      " 10  CouncilArea    28590 non-null  object \n",
      " 11  Regionname     28590 non-null  object \n",
      " 12  Propertycount  28590 non-null  float64\n",
      "dtypes: float64(8), int64(1), object(4)\n",
      "memory usage: 4.1+ MB\n"
     ]
    }
   ],
   "source": [
    "df.info()"
   ]
  },
  {
   "cell_type": "code",
   "execution_count": 133,
   "id": "9b815c57-be1e-4ff9-8c1b-589e380d3fb8",
   "metadata": {},
   "outputs": [],
   "source": [
    "df_cut =df.copy()"
   ]
  },
  {
   "cell_type": "code",
   "execution_count": 134,
   "id": "ab8ec6d8-c706-4488-ae36-0cbc22fab573",
   "metadata": {},
   "outputs": [
    {
     "data": {
      "text/html": [
       "<div>\n",
       "<style scoped>\n",
       "    .dataframe tbody tr th:only-of-type {\n",
       "        vertical-align: middle;\n",
       "    }\n",
       "\n",
       "    .dataframe tbody tr th {\n",
       "        vertical-align: top;\n",
       "    }\n",
       "\n",
       "    .dataframe thead th {\n",
       "        text-align: right;\n",
       "    }\n",
       "</style>\n",
       "<table border=\"1\" class=\"dataframe\">\n",
       "  <thead>\n",
       "    <tr style=\"text-align: right;\">\n",
       "      <th></th>\n",
       "      <th>count</th>\n",
       "      <th>mean</th>\n",
       "      <th>std</th>\n",
       "      <th>min</th>\n",
       "      <th>25%</th>\n",
       "      <th>50%</th>\n",
       "      <th>75%</th>\n",
       "      <th>max</th>\n",
       "    </tr>\n",
       "  </thead>\n",
       "  <tbody>\n",
       "    <tr>\n",
       "      <th>Rooms</th>\n",
       "      <td>28590.0</td>\n",
       "      <td>2.864813</td>\n",
       "      <td>0.819899</td>\n",
       "      <td>1.0</td>\n",
       "      <td>2.0</td>\n",
       "      <td>3.0</td>\n",
       "      <td>3.0</td>\n",
       "      <td>6.0</td>\n",
       "    </tr>\n",
       "    <tr>\n",
       "      <th>Price</th>\n",
       "      <td>28590.0</td>\n",
       "      <td>940385.159916</td>\n",
       "      <td>368522.863182</td>\n",
       "      <td>85000.0</td>\n",
       "      <td>655000.0</td>\n",
       "      <td>920000.0</td>\n",
       "      <td>1210000.0</td>\n",
       "      <td>2035000.0</td>\n",
       "    </tr>\n",
       "    <tr>\n",
       "      <th>Distance</th>\n",
       "      <td>28590.0</td>\n",
       "      <td>10.224127</td>\n",
       "      <td>5.188696</td>\n",
       "      <td>0.0</td>\n",
       "      <td>6.2</td>\n",
       "      <td>9.7</td>\n",
       "      <td>13.8</td>\n",
       "      <td>25.0</td>\n",
       "    </tr>\n",
       "    <tr>\n",
       "      <th>Postcode</th>\n",
       "      <td>28590.0</td>\n",
       "      <td>3098.652851</td>\n",
       "      <td>59.869970</td>\n",
       "      <td>3000.0</td>\n",
       "      <td>3044.0</td>\n",
       "      <td>3087.0</td>\n",
       "      <td>3148.0</td>\n",
       "      <td>3207.0</td>\n",
       "    </tr>\n",
       "    <tr>\n",
       "      <th>Bedroom2</th>\n",
       "      <td>28590.0</td>\n",
       "      <td>2.850192</td>\n",
       "      <td>0.811039</td>\n",
       "      <td>1.0</td>\n",
       "      <td>2.0</td>\n",
       "      <td>3.0</td>\n",
       "      <td>3.0</td>\n",
       "      <td>4.0</td>\n",
       "    </tr>\n",
       "    <tr>\n",
       "      <th>Bathroom</th>\n",
       "      <td>28590.0</td>\n",
       "      <td>2.879363</td>\n",
       "      <td>2.672716</td>\n",
       "      <td>0.0</td>\n",
       "      <td>1.0</td>\n",
       "      <td>2.0</td>\n",
       "      <td>2.0</td>\n",
       "      <td>8.0</td>\n",
       "    </tr>\n",
       "    <tr>\n",
       "      <th>Car</th>\n",
       "      <td>28590.0</td>\n",
       "      <td>3.058587</td>\n",
       "      <td>2.707136</td>\n",
       "      <td>0.0</td>\n",
       "      <td>1.0</td>\n",
       "      <td>2.0</td>\n",
       "      <td>3.0</td>\n",
       "      <td>26.0</td>\n",
       "    </tr>\n",
       "    <tr>\n",
       "      <th>Landsize</th>\n",
       "      <td>28590.0</td>\n",
       "      <td>385.697167</td>\n",
       "      <td>233.837811</td>\n",
       "      <td>0.0</td>\n",
       "      <td>232.5</td>\n",
       "      <td>309.0</td>\n",
       "      <td>598.0</td>\n",
       "      <td>1146.0</td>\n",
       "    </tr>\n",
       "    <tr>\n",
       "      <th>Propertycount</th>\n",
       "      <td>28590.0</td>\n",
       "      <td>7195.575761</td>\n",
       "      <td>3862.945368</td>\n",
       "      <td>0.0</td>\n",
       "      <td>4258.0</td>\n",
       "      <td>6543.0</td>\n",
       "      <td>10175.0</td>\n",
       "      <td>17496.0</td>\n",
       "    </tr>\n",
       "  </tbody>\n",
       "</table>\n",
       "</div>"
      ],
      "text/plain": [
       "                 count           mean            std      min       25%  \\\n",
       "Rooms          28590.0       2.864813       0.819899      1.0       2.0   \n",
       "Price          28590.0  940385.159916  368522.863182  85000.0  655000.0   \n",
       "Distance       28590.0      10.224127       5.188696      0.0       6.2   \n",
       "Postcode       28590.0    3098.652851      59.869970   3000.0    3044.0   \n",
       "Bedroom2       28590.0       2.850192       0.811039      1.0       2.0   \n",
       "Bathroom       28590.0       2.879363       2.672716      0.0       1.0   \n",
       "Car            28590.0       3.058587       2.707136      0.0       1.0   \n",
       "Landsize       28590.0     385.697167     233.837811      0.0     232.5   \n",
       "Propertycount  28590.0    7195.575761    3862.945368      0.0    4258.0   \n",
       "\n",
       "                    50%        75%        max  \n",
       "Rooms               3.0        3.0        6.0  \n",
       "Price          920000.0  1210000.0  2035000.0  \n",
       "Distance            9.7       13.8       25.0  \n",
       "Postcode         3087.0     3148.0     3207.0  \n",
       "Bedroom2            3.0        3.0        4.0  \n",
       "Bathroom            2.0        2.0        8.0  \n",
       "Car                 2.0        3.0       26.0  \n",
       "Landsize          309.0      598.0     1146.0  \n",
       "Propertycount    6543.0    10175.0    17496.0  "
      ]
     },
     "execution_count": 134,
     "metadata": {},
     "output_type": "execute_result"
    }
   ],
   "source": [
    "# cek data terlebih dahulu untuk mengetahui threshold\n",
    "df_cut.describe().T"
   ]
  },
  {
   "cell_type": "markdown",
   "id": "822a6456-7ec0-4641-8d69-9877c8c66f2d",
   "metadata": {
    "tags": []
   },
   "source": [
    "## Price Binning"
   ]
  },
  {
   "cell_type": "code",
   "execution_count": 153,
   "id": "1d9bde9e-d36e-4615-83e3-62c4218919c9",
   "metadata": {},
   "outputs": [],
   "source": [
    "# contoh feature binning dengan pandas\n",
    "# buat labels\n",
    "cut_labels = [\"0\", \"1\", \"2\", \" 3\"]\n",
    "\n",
    "# buat bin edges\n",
    "cut_bins = [0, 500000, 1000000, 1500000, 2500000]"
   ]
  },
  {
   "cell_type": "code",
   "execution_count": 136,
   "id": "8c7cca8d-2bd8-4bbb-b16a-217a6439b1af",
   "metadata": {},
   "outputs": [],
   "source": [
    "df_cut['cut_price'] = pd.cut(df_cut['Price'], bins=cut_bins, labels = cut_labels)"
   ]
  },
  {
   "cell_type": "code",
   "execution_count": 137,
   "id": "709406c9-650d-4819-8af7-5eecf4473259",
   "metadata": {},
   "outputs": [
    {
     "data": {
      "text/html": [
       "<div>\n",
       "<style scoped>\n",
       "    .dataframe tbody tr th:only-of-type {\n",
       "        vertical-align: middle;\n",
       "    }\n",
       "\n",
       "    .dataframe tbody tr th {\n",
       "        vertical-align: top;\n",
       "    }\n",
       "\n",
       "    .dataframe thead th {\n",
       "        text-align: right;\n",
       "    }\n",
       "</style>\n",
       "<table border=\"1\" class=\"dataframe\">\n",
       "  <thead>\n",
       "    <tr style=\"text-align: right;\">\n",
       "      <th></th>\n",
       "      <th>Rooms</th>\n",
       "      <th>Type</th>\n",
       "      <th>Price</th>\n",
       "      <th>Method</th>\n",
       "      <th>Distance</th>\n",
       "      <th>Postcode</th>\n",
       "      <th>Bedroom2</th>\n",
       "      <th>Bathroom</th>\n",
       "      <th>Car</th>\n",
       "      <th>Landsize</th>\n",
       "      <th>CouncilArea</th>\n",
       "      <th>Regionname</th>\n",
       "      <th>Propertycount</th>\n",
       "      <th>cut_price</th>\n",
       "    </tr>\n",
       "  </thead>\n",
       "  <tbody>\n",
       "    <tr>\n",
       "      <th>1</th>\n",
       "      <td>2</td>\n",
       "      <td>h</td>\n",
       "      <td>1480000.0</td>\n",
       "      <td>S</td>\n",
       "      <td>2.5</td>\n",
       "      <td>3067.0</td>\n",
       "      <td>2.0</td>\n",
       "      <td>1.0</td>\n",
       "      <td>1.0</td>\n",
       "      <td>202.0</td>\n",
       "      <td>Yarra City Council</td>\n",
       "      <td>Northern Metropolitan</td>\n",
       "      <td>4019.0</td>\n",
       "      <td>1m - 1.5m</td>\n",
       "    </tr>\n",
       "    <tr>\n",
       "      <th>2</th>\n",
       "      <td>2</td>\n",
       "      <td>h</td>\n",
       "      <td>1035000.0</td>\n",
       "      <td>S</td>\n",
       "      <td>2.5</td>\n",
       "      <td>3067.0</td>\n",
       "      <td>2.0</td>\n",
       "      <td>1.0</td>\n",
       "      <td>0.0</td>\n",
       "      <td>156.0</td>\n",
       "      <td>Yarra City Council</td>\n",
       "      <td>Northern Metropolitan</td>\n",
       "      <td>4019.0</td>\n",
       "      <td>1m - 1.5m</td>\n",
       "    </tr>\n",
       "    <tr>\n",
       "      <th>4</th>\n",
       "      <td>3</td>\n",
       "      <td>h</td>\n",
       "      <td>1465000.0</td>\n",
       "      <td>SP</td>\n",
       "      <td>2.5</td>\n",
       "      <td>3067.0</td>\n",
       "      <td>3.0</td>\n",
       "      <td>2.0</td>\n",
       "      <td>0.0</td>\n",
       "      <td>134.0</td>\n",
       "      <td>Yarra City Council</td>\n",
       "      <td>Northern Metropolitan</td>\n",
       "      <td>4019.0</td>\n",
       "      <td>1m - 1.5m</td>\n",
       "    </tr>\n",
       "    <tr>\n",
       "      <th>5</th>\n",
       "      <td>3</td>\n",
       "      <td>h</td>\n",
       "      <td>850000.0</td>\n",
       "      <td>PI</td>\n",
       "      <td>2.5</td>\n",
       "      <td>3067.0</td>\n",
       "      <td>3.0</td>\n",
       "      <td>2.0</td>\n",
       "      <td>1.0</td>\n",
       "      <td>94.0</td>\n",
       "      <td>Yarra City Council</td>\n",
       "      <td>Northern Metropolitan</td>\n",
       "      <td>4019.0</td>\n",
       "      <td>500k-1m</td>\n",
       "    </tr>\n",
       "    <tr>\n",
       "      <th>6</th>\n",
       "      <td>4</td>\n",
       "      <td>h</td>\n",
       "      <td>1600000.0</td>\n",
       "      <td>VB</td>\n",
       "      <td>2.5</td>\n",
       "      <td>3067.0</td>\n",
       "      <td>3.0</td>\n",
       "      <td>1.0</td>\n",
       "      <td>2.0</td>\n",
       "      <td>120.0</td>\n",
       "      <td>Yarra City Council</td>\n",
       "      <td>Northern Metropolitan</td>\n",
       "      <td>4019.0</td>\n",
       "      <td>more than 1.5 m</td>\n",
       "    </tr>\n",
       "  </tbody>\n",
       "</table>\n",
       "</div>"
      ],
      "text/plain": [
       "   Rooms Type      Price Method  Distance  Postcode  Bedroom2  Bathroom  Car  \\\n",
       "1      2    h  1480000.0      S       2.5    3067.0       2.0       1.0  1.0   \n",
       "2      2    h  1035000.0      S       2.5    3067.0       2.0       1.0  0.0   \n",
       "4      3    h  1465000.0     SP       2.5    3067.0       3.0       2.0  0.0   \n",
       "5      3    h   850000.0     PI       2.5    3067.0       3.0       2.0  1.0   \n",
       "6      4    h  1600000.0     VB       2.5    3067.0       3.0       1.0  2.0   \n",
       "\n",
       "   Landsize         CouncilArea             Regionname  Propertycount  \\\n",
       "1     202.0  Yarra City Council  Northern Metropolitan         4019.0   \n",
       "2     156.0  Yarra City Council  Northern Metropolitan         4019.0   \n",
       "4     134.0  Yarra City Council  Northern Metropolitan         4019.0   \n",
       "5      94.0  Yarra City Council  Northern Metropolitan         4019.0   \n",
       "6     120.0  Yarra City Council  Northern Metropolitan         4019.0   \n",
       "\n",
       "          cut_price  \n",
       "1         1m - 1.5m  \n",
       "2         1m - 1.5m  \n",
       "4         1m - 1.5m  \n",
       "5           500k-1m  \n",
       "6   more than 1.5 m  "
      ]
     },
     "execution_count": 137,
     "metadata": {},
     "output_type": "execute_result"
    }
   ],
   "source": [
    "df_cut.head()"
   ]
  },
  {
   "cell_type": "markdown",
   "id": "5e7c5533-a84f-44f1-9822-3b93be59ff91",
   "metadata": {
    "jp-MarkdownHeadingCollapsed": true,
    "tags": []
   },
   "source": [
    "### Landsize  Binning"
   ]
  },
  {
   "cell_type": "code",
   "execution_count": 131,
   "id": "22e361d6-2324-41bf-b7ce-e64b36c0fbf2",
   "metadata": {},
   "outputs": [],
   "source": [
    "# contoh feature binning dengan pandas\n",
    "# buat labels\n",
    "cut_labels1 = [\"Small\", \"Medium\", \"Spacious\", \"Very spacious\"]\n",
    "\n",
    "# buat bin edges\n",
    "cut_bins1 = [0,232.5,309,598,1146]"
   ]
  },
  {
   "cell_type": "code",
   "execution_count": 198,
   "id": "d6315df8-e2cf-4172-8452-ee2582339360",
   "metadata": {},
   "outputs": [],
   "source": [
    "df_cut['cut_landsize'] = pd.cut(df_cut['Landsize'], bins=cut_bins1, labels = cut_labels1)"
   ]
  },
  {
   "cell_type": "markdown",
   "id": "121fca85-a6f7-4380-9dc5-42e9bbf882f8",
   "metadata": {
    "tags": []
   },
   "source": [
    "## Propertycount  Binning"
   ]
  },
  {
   "cell_type": "code",
   "execution_count": 138,
   "id": "6d4b5832-5064-449f-9de3-df955af51ecc",
   "metadata": {},
   "outputs": [],
   "source": [
    "# buat labels\n",
    "cut_labels2 = [0,1,2,3]\n",
    "# 0 = sedikit\n",
    "# 1 = mediocre\n",
    "# 2 = many\n",
    "# 3 = many many\n",
    "\n",
    "# buat bin edges\n",
    "cut_bins2 = [0, 5000, 7500, 10000, 25000]\n"
   ]
  },
  {
   "cell_type": "code",
   "execution_count": 139,
   "id": "d6888c6d-30f9-4769-a5b8-17ac1127f0e2",
   "metadata": {},
   "outputs": [],
   "source": [
    "df_cut['cut_propertycount'] = pd.cut(df_cut['Propertycount'], bins=cut_bins2, labels = cut_labels2)"
   ]
  },
  {
   "cell_type": "code",
   "execution_count": null,
   "id": "a985d1c6-8083-4cd3-a1de-0a87bcae32b8",
   "metadata": {},
   "outputs": [],
   "source": [
    "# DIstance"
   ]
  },
  {
   "cell_type": "code",
   "execution_count": 140,
   "id": "4e05bc33-c690-40c1-b860-09146fe12e2e",
   "metadata": {},
   "outputs": [],
   "source": [
    "# buat labels\n",
    "cut_labels3 = [0,1,2]\n",
    "# 0 = less than 10 km\n",
    "# 1 = 10-20 km\n",
    "# 2 = 20-30 km\n",
    "\n",
    "# buat bin edges\n",
    "cut_bins3 = [0, 10, 20, 30]"
   ]
  },
  {
   "cell_type": "code",
   "execution_count": 141,
   "id": "adb80455-a2dc-4d57-83a5-c44cecf09ced",
   "metadata": {},
   "outputs": [],
   "source": [
    "df_cut['cut_distance'] = pd.cut(df_cut['Distance'], bins=cut_bins2, labels = cut_labels2)"
   ]
  },
  {
   "cell_type": "markdown",
   "id": "03d20550-8fb3-4c7c-b97c-fb5280f92ac8",
   "metadata": {
    "tags": []
   },
   "source": [
    "# Scaling "
   ]
  },
  {
   "cell_type": "code",
   "execution_count": 142,
   "id": "358ed1aa-08ea-45c5-9cd3-55f2cd2c72ae",
   "metadata": {},
   "outputs": [],
   "source": [
    "from sklearn.preprocessing import StandardScaler, MinMaxScaler, RobustScaler"
   ]
  },
  {
   "cell_type": "code",
   "execution_count": 143,
   "id": "a94040a1-9322-4e12-93d5-8aa9e208e224",
   "metadata": {},
   "outputs": [],
   "source": [
    "# copy dataframe\n",
    "df_scl = df.copy()\n",
    "\n",
    "# feature yang dapat di scaling\n",
    "df_scl = df_scl[[\"Price\", \"Landsize\"]]"
   ]
  },
  {
   "cell_type": "code",
   "execution_count": 144,
   "id": "7bb9ad85-77b4-4184-8670-3b7ef759586f",
   "metadata": {},
   "outputs": [],
   "source": [
    "# import library untuk encoder\n",
    "from sklearn.preprocessing import LabelEncoder, OrdinalEncoder"
   ]
  },
  {
   "cell_type": "code",
   "execution_count": 145,
   "id": "3ab845e6-1882-4034-9a9a-a2fdaa817951",
   "metadata": {},
   "outputs": [],
   "source": [
    "# copy dataframe\n",
    "df_scl = df.copy()\n",
    "\n",
    "# feature yang dapat di scaling\n",
    "df_scl = df_scl[[\"Price\", \"Landsize\"]]"
   ]
  },
  {
   "cell_type": "code",
   "execution_count": 146,
   "id": "178cc986-ac97-4d5c-9dcb-4c8a28949b79",
   "metadata": {},
   "outputs": [
    {
     "data": {
      "text/html": [
       "<div>\n",
       "<style scoped>\n",
       "    .dataframe tbody tr th:only-of-type {\n",
       "        vertical-align: middle;\n",
       "    }\n",
       "\n",
       "    .dataframe tbody tr th {\n",
       "        vertical-align: top;\n",
       "    }\n",
       "\n",
       "    .dataframe thead th {\n",
       "        text-align: right;\n",
       "    }\n",
       "</style>\n",
       "<table border=\"1\" class=\"dataframe\">\n",
       "  <thead>\n",
       "    <tr style=\"text-align: right;\">\n",
       "      <th></th>\n",
       "      <th>Price</th>\n",
       "      <th>Landsize</th>\n",
       "    </tr>\n",
       "  </thead>\n",
       "  <tbody>\n",
       "    <tr>\n",
       "      <th>1</th>\n",
       "      <td>1480000.0</td>\n",
       "      <td>202.0</td>\n",
       "    </tr>\n",
       "    <tr>\n",
       "      <th>2</th>\n",
       "      <td>1035000.0</td>\n",
       "      <td>156.0</td>\n",
       "    </tr>\n",
       "    <tr>\n",
       "      <th>4</th>\n",
       "      <td>1465000.0</td>\n",
       "      <td>134.0</td>\n",
       "    </tr>\n",
       "    <tr>\n",
       "      <th>5</th>\n",
       "      <td>850000.0</td>\n",
       "      <td>94.0</td>\n",
       "    </tr>\n",
       "    <tr>\n",
       "      <th>6</th>\n",
       "      <td>1600000.0</td>\n",
       "      <td>120.0</td>\n",
       "    </tr>\n",
       "  </tbody>\n",
       "</table>\n",
       "</div>"
      ],
      "text/plain": [
       "       Price  Landsize\n",
       "1  1480000.0     202.0\n",
       "2  1035000.0     156.0\n",
       "4  1465000.0     134.0\n",
       "5   850000.0      94.0\n",
       "6  1600000.0     120.0"
      ]
     },
     "execution_count": 146,
     "metadata": {},
     "output_type": "execute_result"
    }
   ],
   "source": [
    "# cek hasil\n",
    "df_scl.head()"
   ]
  },
  {
   "cell_type": "code",
   "execution_count": 147,
   "id": "c40efaf3-63c5-4e1f-b4cd-6dfda526e427",
   "metadata": {},
   "outputs": [
    {
     "name": "stdout",
     "output_type": "stream",
     "text": [
      "MinMaxScaler()\n"
     ]
    }
   ],
   "source": [
    "# contoh MinMax scaler\n",
    "scaler = MinMaxScaler()\n",
    "print(scaler)"
   ]
  },
  {
   "cell_type": "code",
   "execution_count": null,
   "id": "0156296e-9a18-44ed-bf12-12b4e14da6ab",
   "metadata": {},
   "outputs": [],
   "source": [
    "### Pricescaling & landsize"
   ]
  },
  {
   "cell_type": "code",
   "execution_count": 148,
   "id": "128a48ea-92b2-4cc2-b433-6eaf1b918a28",
   "metadata": {},
   "outputs": [],
   "source": [
    "df_scl[\"Price_minmax\"] = scaler.fit_transform(df_scl[[\"Price\"]])"
   ]
  },
  {
   "cell_type": "code",
   "execution_count": 149,
   "id": "3143e0f8-b9ce-45d1-899e-d97dfbbe8188",
   "metadata": {},
   "outputs": [],
   "source": [
    "df_scl[\"Landsize_minmax\"] = scaler.fit_transform(df_scl[[\"Landsize\"]])"
   ]
  },
  {
   "cell_type": "code",
   "execution_count": 150,
   "id": "9c86a1c8-a279-4487-9c5d-594e38a570ba",
   "metadata": {},
   "outputs": [
    {
     "data": {
      "text/html": [
       "<div>\n",
       "<style scoped>\n",
       "    .dataframe tbody tr th:only-of-type {\n",
       "        vertical-align: middle;\n",
       "    }\n",
       "\n",
       "    .dataframe tbody tr th {\n",
       "        vertical-align: top;\n",
       "    }\n",
       "\n",
       "    .dataframe thead th {\n",
       "        text-align: right;\n",
       "    }\n",
       "</style>\n",
       "<table border=\"1\" class=\"dataframe\">\n",
       "  <thead>\n",
       "    <tr style=\"text-align: right;\">\n",
       "      <th></th>\n",
       "      <th>Price</th>\n",
       "      <th>Landsize</th>\n",
       "      <th>Price_minmax</th>\n",
       "      <th>Landsize_minmax</th>\n",
       "    </tr>\n",
       "  </thead>\n",
       "  <tbody>\n",
       "    <tr>\n",
       "      <th>1</th>\n",
       "      <td>1480000.0</td>\n",
       "      <td>202.0</td>\n",
       "      <td>0.715385</td>\n",
       "      <td>0.176265</td>\n",
       "    </tr>\n",
       "    <tr>\n",
       "      <th>2</th>\n",
       "      <td>1035000.0</td>\n",
       "      <td>156.0</td>\n",
       "      <td>0.487179</td>\n",
       "      <td>0.136126</td>\n",
       "    </tr>\n",
       "    <tr>\n",
       "      <th>4</th>\n",
       "      <td>1465000.0</td>\n",
       "      <td>134.0</td>\n",
       "      <td>0.707692</td>\n",
       "      <td>0.116928</td>\n",
       "    </tr>\n",
       "    <tr>\n",
       "      <th>5</th>\n",
       "      <td>850000.0</td>\n",
       "      <td>94.0</td>\n",
       "      <td>0.392308</td>\n",
       "      <td>0.082024</td>\n",
       "    </tr>\n",
       "    <tr>\n",
       "      <th>6</th>\n",
       "      <td>1600000.0</td>\n",
       "      <td>120.0</td>\n",
       "      <td>0.776923</td>\n",
       "      <td>0.104712</td>\n",
       "    </tr>\n",
       "  </tbody>\n",
       "</table>\n",
       "</div>"
      ],
      "text/plain": [
       "       Price  Landsize  Price_minmax  Landsize_minmax\n",
       "1  1480000.0     202.0      0.715385         0.176265\n",
       "2  1035000.0     156.0      0.487179         0.136126\n",
       "4  1465000.0     134.0      0.707692         0.116928\n",
       "5   850000.0      94.0      0.392308         0.082024\n",
       "6  1600000.0     120.0      0.776923         0.104712"
      ]
     },
     "execution_count": 150,
     "metadata": {},
     "output_type": "execute_result"
    }
   ],
   "source": [
    "df_scl.head()"
   ]
  },
  {
   "cell_type": "code",
   "execution_count": 151,
   "id": "7e8c220e-edc4-4ae8-8c95-8c24026aeefd",
   "metadata": {},
   "outputs": [],
   "source": [
    "df_cut[\"Price_minmax\"] = scaler.fit_transform(df_cut[[\"Price\"]])\n",
    "df_cut[\"Landsize_minmax\"] = scaler.fit_transform(df_cut[[\"Landsize\"]])"
   ]
  },
  {
   "cell_type": "code",
   "execution_count": 155,
   "id": "eac6084f-75f5-41d8-a4dd-d3d5c5117c23",
   "metadata": {},
   "outputs": [
    {
     "data": {
      "text/html": [
       "<div>\n",
       "<style scoped>\n",
       "    .dataframe tbody tr th:only-of-type {\n",
       "        vertical-align: middle;\n",
       "    }\n",
       "\n",
       "    .dataframe tbody tr th {\n",
       "        vertical-align: top;\n",
       "    }\n",
       "\n",
       "    .dataframe thead th {\n",
       "        text-align: right;\n",
       "    }\n",
       "</style>\n",
       "<table border=\"1\" class=\"dataframe\">\n",
       "  <thead>\n",
       "    <tr style=\"text-align: right;\">\n",
       "      <th></th>\n",
       "      <th>Rooms</th>\n",
       "      <th>Type</th>\n",
       "      <th>Price</th>\n",
       "      <th>Method</th>\n",
       "      <th>Distance</th>\n",
       "      <th>Postcode</th>\n",
       "      <th>Bedroom2</th>\n",
       "      <th>Bathroom</th>\n",
       "      <th>Car</th>\n",
       "      <th>Landsize</th>\n",
       "      <th>CouncilArea</th>\n",
       "      <th>Regionname</th>\n",
       "      <th>Propertycount</th>\n",
       "      <th>cut_price</th>\n",
       "      <th>cut_propertycount</th>\n",
       "      <th>cut_distance</th>\n",
       "      <th>Price_minmax</th>\n",
       "      <th>Landsize_minmax</th>\n",
       "    </tr>\n",
       "  </thead>\n",
       "  <tbody>\n",
       "    <tr>\n",
       "      <th>1</th>\n",
       "      <td>2</td>\n",
       "      <td>h</td>\n",
       "      <td>1480000.0</td>\n",
       "      <td>S</td>\n",
       "      <td>2.5</td>\n",
       "      <td>3067.0</td>\n",
       "      <td>2.0</td>\n",
       "      <td>1.0</td>\n",
       "      <td>1.0</td>\n",
       "      <td>202.0</td>\n",
       "      <td>Yarra City Council</td>\n",
       "      <td>Northern Metropolitan</td>\n",
       "      <td>4019.0</td>\n",
       "      <td>1m - 1.5m</td>\n",
       "      <td>0</td>\n",
       "      <td>0</td>\n",
       "      <td>0.715385</td>\n",
       "      <td>0.176265</td>\n",
       "    </tr>\n",
       "    <tr>\n",
       "      <th>2</th>\n",
       "      <td>2</td>\n",
       "      <td>h</td>\n",
       "      <td>1035000.0</td>\n",
       "      <td>S</td>\n",
       "      <td>2.5</td>\n",
       "      <td>3067.0</td>\n",
       "      <td>2.0</td>\n",
       "      <td>1.0</td>\n",
       "      <td>0.0</td>\n",
       "      <td>156.0</td>\n",
       "      <td>Yarra City Council</td>\n",
       "      <td>Northern Metropolitan</td>\n",
       "      <td>4019.0</td>\n",
       "      <td>1m - 1.5m</td>\n",
       "      <td>0</td>\n",
       "      <td>0</td>\n",
       "      <td>0.487179</td>\n",
       "      <td>0.136126</td>\n",
       "    </tr>\n",
       "    <tr>\n",
       "      <th>4</th>\n",
       "      <td>3</td>\n",
       "      <td>h</td>\n",
       "      <td>1465000.0</td>\n",
       "      <td>SP</td>\n",
       "      <td>2.5</td>\n",
       "      <td>3067.0</td>\n",
       "      <td>3.0</td>\n",
       "      <td>2.0</td>\n",
       "      <td>0.0</td>\n",
       "      <td>134.0</td>\n",
       "      <td>Yarra City Council</td>\n",
       "      <td>Northern Metropolitan</td>\n",
       "      <td>4019.0</td>\n",
       "      <td>1m - 1.5m</td>\n",
       "      <td>0</td>\n",
       "      <td>0</td>\n",
       "      <td>0.707692</td>\n",
       "      <td>0.116928</td>\n",
       "    </tr>\n",
       "    <tr>\n",
       "      <th>5</th>\n",
       "      <td>3</td>\n",
       "      <td>h</td>\n",
       "      <td>850000.0</td>\n",
       "      <td>PI</td>\n",
       "      <td>2.5</td>\n",
       "      <td>3067.0</td>\n",
       "      <td>3.0</td>\n",
       "      <td>2.0</td>\n",
       "      <td>1.0</td>\n",
       "      <td>94.0</td>\n",
       "      <td>Yarra City Council</td>\n",
       "      <td>Northern Metropolitan</td>\n",
       "      <td>4019.0</td>\n",
       "      <td>500k-1m</td>\n",
       "      <td>0</td>\n",
       "      <td>0</td>\n",
       "      <td>0.392308</td>\n",
       "      <td>0.082024</td>\n",
       "    </tr>\n",
       "    <tr>\n",
       "      <th>6</th>\n",
       "      <td>4</td>\n",
       "      <td>h</td>\n",
       "      <td>1600000.0</td>\n",
       "      <td>VB</td>\n",
       "      <td>2.5</td>\n",
       "      <td>3067.0</td>\n",
       "      <td>3.0</td>\n",
       "      <td>1.0</td>\n",
       "      <td>2.0</td>\n",
       "      <td>120.0</td>\n",
       "      <td>Yarra City Council</td>\n",
       "      <td>Northern Metropolitan</td>\n",
       "      <td>4019.0</td>\n",
       "      <td>more than 1.5 m</td>\n",
       "      <td>0</td>\n",
       "      <td>0</td>\n",
       "      <td>0.776923</td>\n",
       "      <td>0.104712</td>\n",
       "    </tr>\n",
       "  </tbody>\n",
       "</table>\n",
       "</div>"
      ],
      "text/plain": [
       "   Rooms Type      Price Method  Distance  Postcode  Bedroom2  Bathroom  Car  \\\n",
       "1      2    h  1480000.0      S       2.5    3067.0       2.0       1.0  1.0   \n",
       "2      2    h  1035000.0      S       2.5    3067.0       2.0       1.0  0.0   \n",
       "4      3    h  1465000.0     SP       2.5    3067.0       3.0       2.0  0.0   \n",
       "5      3    h   850000.0     PI       2.5    3067.0       3.0       2.0  1.0   \n",
       "6      4    h  1600000.0     VB       2.5    3067.0       3.0       1.0  2.0   \n",
       "\n",
       "   Landsize         CouncilArea             Regionname  Propertycount  \\\n",
       "1     202.0  Yarra City Council  Northern Metropolitan         4019.0   \n",
       "2     156.0  Yarra City Council  Northern Metropolitan         4019.0   \n",
       "4     134.0  Yarra City Council  Northern Metropolitan         4019.0   \n",
       "5      94.0  Yarra City Council  Northern Metropolitan         4019.0   \n",
       "6     120.0  Yarra City Council  Northern Metropolitan         4019.0   \n",
       "\n",
       "          cut_price cut_propertycount cut_distance  Price_minmax  \\\n",
       "1         1m - 1.5m                 0            0      0.715385   \n",
       "2         1m - 1.5m                 0            0      0.487179   \n",
       "4         1m - 1.5m                 0            0      0.707692   \n",
       "5           500k-1m                 0            0      0.392308   \n",
       "6   more than 1.5 m                 0            0      0.776923   \n",
       "\n",
       "   Landsize_minmax  \n",
       "1         0.176265  \n",
       "2         0.136126  \n",
       "4         0.116928  \n",
       "5         0.082024  \n",
       "6         0.104712  "
      ]
     },
     "execution_count": 155,
     "metadata": {},
     "output_type": "execute_result"
    }
   ],
   "source": [
    "df_cut.head()"
   ]
  },
  {
   "cell_type": "markdown",
   "id": "d8935a12-6272-4d61-b3e2-945d93b85f08",
   "metadata": {
    "tags": []
   },
   "source": [
    "# Encoding"
   ]
  },
  {
   "cell_type": "code",
   "execution_count": 156,
   "id": "3265d26f-9b7f-4f3e-a330-e49ce69bb51a",
   "metadata": {},
   "outputs": [],
   "source": [
    "from sklearn.preprocessing import StandardScaler, MinMaxScaler, RobustScaler"
   ]
  },
  {
   "cell_type": "code",
   "execution_count": 157,
   "id": "dfa57f8d-8ca9-4179-b67d-be22138917d2",
   "metadata": {},
   "outputs": [],
   "source": [
    "# contoh dengan pandas\n",
    "df_enc = df_cut.copy()"
   ]
  },
  {
   "cell_type": "code",
   "execution_count": 158,
   "id": "1a0e0b41-f860-4948-aaf6-e1876bb09675",
   "metadata": {},
   "outputs": [
    {
     "data": {
      "text/html": [
       "<div>\n",
       "<style scoped>\n",
       "    .dataframe tbody tr th:only-of-type {\n",
       "        vertical-align: middle;\n",
       "    }\n",
       "\n",
       "    .dataframe tbody tr th {\n",
       "        vertical-align: top;\n",
       "    }\n",
       "\n",
       "    .dataframe thead th {\n",
       "        text-align: right;\n",
       "    }\n",
       "</style>\n",
       "<table border=\"1\" class=\"dataframe\">\n",
       "  <thead>\n",
       "    <tr style=\"text-align: right;\">\n",
       "      <th></th>\n",
       "      <th>Rooms</th>\n",
       "      <th>Type</th>\n",
       "      <th>Price</th>\n",
       "      <th>Method</th>\n",
       "      <th>Distance</th>\n",
       "      <th>Postcode</th>\n",
       "      <th>Bedroom2</th>\n",
       "      <th>Bathroom</th>\n",
       "      <th>Car</th>\n",
       "      <th>Landsize</th>\n",
       "      <th>CouncilArea</th>\n",
       "      <th>Regionname</th>\n",
       "      <th>Propertycount</th>\n",
       "      <th>cut_price</th>\n",
       "      <th>cut_propertycount</th>\n",
       "      <th>cut_distance</th>\n",
       "      <th>Price_minmax</th>\n",
       "      <th>Landsize_minmax</th>\n",
       "    </tr>\n",
       "  </thead>\n",
       "  <tbody>\n",
       "    <tr>\n",
       "      <th>1</th>\n",
       "      <td>2</td>\n",
       "      <td>h</td>\n",
       "      <td>1480000.0</td>\n",
       "      <td>S</td>\n",
       "      <td>2.5</td>\n",
       "      <td>3067.0</td>\n",
       "      <td>2.0</td>\n",
       "      <td>1.0</td>\n",
       "      <td>1.0</td>\n",
       "      <td>202.0</td>\n",
       "      <td>Yarra City Council</td>\n",
       "      <td>Northern Metropolitan</td>\n",
       "      <td>4019.0</td>\n",
       "      <td>1m - 1.5m</td>\n",
       "      <td>0</td>\n",
       "      <td>0</td>\n",
       "      <td>0.715385</td>\n",
       "      <td>0.176265</td>\n",
       "    </tr>\n",
       "    <tr>\n",
       "      <th>2</th>\n",
       "      <td>2</td>\n",
       "      <td>h</td>\n",
       "      <td>1035000.0</td>\n",
       "      <td>S</td>\n",
       "      <td>2.5</td>\n",
       "      <td>3067.0</td>\n",
       "      <td>2.0</td>\n",
       "      <td>1.0</td>\n",
       "      <td>0.0</td>\n",
       "      <td>156.0</td>\n",
       "      <td>Yarra City Council</td>\n",
       "      <td>Northern Metropolitan</td>\n",
       "      <td>4019.0</td>\n",
       "      <td>1m - 1.5m</td>\n",
       "      <td>0</td>\n",
       "      <td>0</td>\n",
       "      <td>0.487179</td>\n",
       "      <td>0.136126</td>\n",
       "    </tr>\n",
       "    <tr>\n",
       "      <th>4</th>\n",
       "      <td>3</td>\n",
       "      <td>h</td>\n",
       "      <td>1465000.0</td>\n",
       "      <td>SP</td>\n",
       "      <td>2.5</td>\n",
       "      <td>3067.0</td>\n",
       "      <td>3.0</td>\n",
       "      <td>2.0</td>\n",
       "      <td>0.0</td>\n",
       "      <td>134.0</td>\n",
       "      <td>Yarra City Council</td>\n",
       "      <td>Northern Metropolitan</td>\n",
       "      <td>4019.0</td>\n",
       "      <td>1m - 1.5m</td>\n",
       "      <td>0</td>\n",
       "      <td>0</td>\n",
       "      <td>0.707692</td>\n",
       "      <td>0.116928</td>\n",
       "    </tr>\n",
       "    <tr>\n",
       "      <th>5</th>\n",
       "      <td>3</td>\n",
       "      <td>h</td>\n",
       "      <td>850000.0</td>\n",
       "      <td>PI</td>\n",
       "      <td>2.5</td>\n",
       "      <td>3067.0</td>\n",
       "      <td>3.0</td>\n",
       "      <td>2.0</td>\n",
       "      <td>1.0</td>\n",
       "      <td>94.0</td>\n",
       "      <td>Yarra City Council</td>\n",
       "      <td>Northern Metropolitan</td>\n",
       "      <td>4019.0</td>\n",
       "      <td>500k-1m</td>\n",
       "      <td>0</td>\n",
       "      <td>0</td>\n",
       "      <td>0.392308</td>\n",
       "      <td>0.082024</td>\n",
       "    </tr>\n",
       "    <tr>\n",
       "      <th>6</th>\n",
       "      <td>4</td>\n",
       "      <td>h</td>\n",
       "      <td>1600000.0</td>\n",
       "      <td>VB</td>\n",
       "      <td>2.5</td>\n",
       "      <td>3067.0</td>\n",
       "      <td>3.0</td>\n",
       "      <td>1.0</td>\n",
       "      <td>2.0</td>\n",
       "      <td>120.0</td>\n",
       "      <td>Yarra City Council</td>\n",
       "      <td>Northern Metropolitan</td>\n",
       "      <td>4019.0</td>\n",
       "      <td>more than 1.5 m</td>\n",
       "      <td>0</td>\n",
       "      <td>0</td>\n",
       "      <td>0.776923</td>\n",
       "      <td>0.104712</td>\n",
       "    </tr>\n",
       "  </tbody>\n",
       "</table>\n",
       "</div>"
      ],
      "text/plain": [
       "   Rooms Type      Price Method  Distance  Postcode  Bedroom2  Bathroom  Car  \\\n",
       "1      2    h  1480000.0      S       2.5    3067.0       2.0       1.0  1.0   \n",
       "2      2    h  1035000.0      S       2.5    3067.0       2.0       1.0  0.0   \n",
       "4      3    h  1465000.0     SP       2.5    3067.0       3.0       2.0  0.0   \n",
       "5      3    h   850000.0     PI       2.5    3067.0       3.0       2.0  1.0   \n",
       "6      4    h  1600000.0     VB       2.5    3067.0       3.0       1.0  2.0   \n",
       "\n",
       "   Landsize         CouncilArea             Regionname  Propertycount  \\\n",
       "1     202.0  Yarra City Council  Northern Metropolitan         4019.0   \n",
       "2     156.0  Yarra City Council  Northern Metropolitan         4019.0   \n",
       "4     134.0  Yarra City Council  Northern Metropolitan         4019.0   \n",
       "5      94.0  Yarra City Council  Northern Metropolitan         4019.0   \n",
       "6     120.0  Yarra City Council  Northern Metropolitan         4019.0   \n",
       "\n",
       "          cut_price cut_propertycount cut_distance  Price_minmax  \\\n",
       "1         1m - 1.5m                 0            0      0.715385   \n",
       "2         1m - 1.5m                 0            0      0.487179   \n",
       "4         1m - 1.5m                 0            0      0.707692   \n",
       "5           500k-1m                 0            0      0.392308   \n",
       "6   more than 1.5 m                 0            0      0.776923   \n",
       "\n",
       "   Landsize_minmax  \n",
       "1         0.176265  \n",
       "2         0.136126  \n",
       "4         0.116928  \n",
       "5         0.082024  \n",
       "6         0.104712  "
      ]
     },
     "execution_count": 158,
     "metadata": {},
     "output_type": "execute_result"
    }
   ],
   "source": [
    "df_enc.head()"
   ]
  },
  {
   "cell_type": "code",
   "execution_count": 159,
   "id": "45df9f3f-2c1b-4c3c-8cb3-19ed2d535977",
   "metadata": {},
   "outputs": [],
   "source": [
    "df_enc[\"Type\"] = df_enc[\"Type\"].astype(object)"
   ]
  },
  {
   "cell_type": "code",
   "execution_count": 160,
   "id": "67baad2a-8c55-40a1-b6cf-67c76bbeba88",
   "metadata": {},
   "outputs": [],
   "source": [
    "# contoh dengan ordinal encoder, gunakan fit_transform untuk encode data\n",
    "df_enc[\"Type_enc\"] = OrdinalEncoder().fit_transform(df_enc[[\"Type\"]])"
   ]
  },
  {
   "cell_type": "code",
   "execution_count": 197,
   "id": "6d8b4d30-ef09-446d-9dea-04c8a55698d6",
   "metadata": {},
   "outputs": [
    {
     "data": {
      "text/plain": [
       "Type  Type_enc\n",
       "h     0.0         18652\n",
       "t     1.0          3314\n",
       "u     2.0          6624\n",
       "Name: Price, dtype: int64"
      ]
     },
     "execution_count": 197,
     "metadata": {},
     "output_type": "execute_result"
    }
   ],
   "source": [
    "# cek hasil\n",
    "df_enc.groupby([\"Type\", \"Type_enc\"])[\"Price\"].count()"
   ]
  },
  {
   "cell_type": "code",
   "execution_count": 240,
   "id": "efc30b52-570a-4c12-908f-f2e4f35f00ab",
   "metadata": {},
   "outputs": [],
   "source": [
    "df_merged = pd.concat([df_cut, df_enc['Type_enc']])"
   ]
  },
  {
   "cell_type": "code",
   "execution_count": 245,
   "id": "dc83b0ae-ceef-465f-b8d9-fb50e07060a0",
   "metadata": {},
   "outputs": [
    {
     "data": {
      "text/html": [
       "<div>\n",
       "<style scoped>\n",
       "    .dataframe tbody tr th:only-of-type {\n",
       "        vertical-align: middle;\n",
       "    }\n",
       "\n",
       "    .dataframe tbody tr th {\n",
       "        vertical-align: top;\n",
       "    }\n",
       "\n",
       "    .dataframe thead th {\n",
       "        text-align: right;\n",
       "    }\n",
       "</style>\n",
       "<table border=\"1\" class=\"dataframe\">\n",
       "  <thead>\n",
       "    <tr style=\"text-align: right;\">\n",
       "      <th></th>\n",
       "      <th>Suburb</th>\n",
       "      <th>Address</th>\n",
       "      <th>Rooms</th>\n",
       "      <th>Type</th>\n",
       "      <th>Price</th>\n",
       "      <th>Method</th>\n",
       "      <th>SellerG</th>\n",
       "      <th>Date</th>\n",
       "      <th>Distance</th>\n",
       "      <th>Postcode</th>\n",
       "      <th>...</th>\n",
       "      <th>CouncilArea</th>\n",
       "      <th>Regionname</th>\n",
       "      <th>Propertycount</th>\n",
       "      <th>cut_price</th>\n",
       "      <th>Price_minmax</th>\n",
       "      <th>Landsize_minmax</th>\n",
       "      <th>cut_landsize</th>\n",
       "      <th>cut_propertycount</th>\n",
       "      <th>cut_distance</th>\n",
       "      <th>0</th>\n",
       "    </tr>\n",
       "  </thead>\n",
       "  <tbody>\n",
       "    <tr>\n",
       "      <th>1</th>\n",
       "      <td>Abbotsford</td>\n",
       "      <td>85 Turner St</td>\n",
       "      <td>2.0</td>\n",
       "      <td>h</td>\n",
       "      <td>1480000.0</td>\n",
       "      <td>S</td>\n",
       "      <td>Biggin</td>\n",
       "      <td>3/12/2016</td>\n",
       "      <td>2.5</td>\n",
       "      <td>3067.0</td>\n",
       "      <td>...</td>\n",
       "      <td>Yarra City Council</td>\n",
       "      <td>Northern Metropolitan</td>\n",
       "      <td>4019.0</td>\n",
       "      <td>1m - 1.5m</td>\n",
       "      <td>0.0</td>\n",
       "      <td>0.176265</td>\n",
       "      <td>Very Narrow</td>\n",
       "      <td>0</td>\n",
       "      <td>0</td>\n",
       "      <td>NaN</td>\n",
       "    </tr>\n",
       "    <tr>\n",
       "      <th>2</th>\n",
       "      <td>Abbotsford</td>\n",
       "      <td>25 Bloomburg St</td>\n",
       "      <td>2.0</td>\n",
       "      <td>h</td>\n",
       "      <td>1035000.0</td>\n",
       "      <td>S</td>\n",
       "      <td>Biggin</td>\n",
       "      <td>4/02/2016</td>\n",
       "      <td>2.5</td>\n",
       "      <td>3067.0</td>\n",
       "      <td>...</td>\n",
       "      <td>Yarra City Council</td>\n",
       "      <td>Northern Metropolitan</td>\n",
       "      <td>4019.0</td>\n",
       "      <td>1m - 1.5m</td>\n",
       "      <td>0.0</td>\n",
       "      <td>0.136126</td>\n",
       "      <td>Very Narrow</td>\n",
       "      <td>0</td>\n",
       "      <td>0</td>\n",
       "      <td>NaN</td>\n",
       "    </tr>\n",
       "    <tr>\n",
       "      <th>4</th>\n",
       "      <td>Abbotsford</td>\n",
       "      <td>5 Charles St</td>\n",
       "      <td>3.0</td>\n",
       "      <td>h</td>\n",
       "      <td>1465000.0</td>\n",
       "      <td>SP</td>\n",
       "      <td>Biggin</td>\n",
       "      <td>4/03/2017</td>\n",
       "      <td>2.5</td>\n",
       "      <td>3067.0</td>\n",
       "      <td>...</td>\n",
       "      <td>Yarra City Council</td>\n",
       "      <td>Northern Metropolitan</td>\n",
       "      <td>4019.0</td>\n",
       "      <td>1m - 1.5m</td>\n",
       "      <td>0.0</td>\n",
       "      <td>0.116928</td>\n",
       "      <td>Very Narrow</td>\n",
       "      <td>0</td>\n",
       "      <td>0</td>\n",
       "      <td>NaN</td>\n",
       "    </tr>\n",
       "    <tr>\n",
       "      <th>5</th>\n",
       "      <td>Abbotsford</td>\n",
       "      <td>40 Federation La</td>\n",
       "      <td>3.0</td>\n",
       "      <td>h</td>\n",
       "      <td>850000.0</td>\n",
       "      <td>PI</td>\n",
       "      <td>Biggin</td>\n",
       "      <td>4/03/2017</td>\n",
       "      <td>2.5</td>\n",
       "      <td>3067.0</td>\n",
       "      <td>...</td>\n",
       "      <td>Yarra City Council</td>\n",
       "      <td>Northern Metropolitan</td>\n",
       "      <td>4019.0</td>\n",
       "      <td>500k-1m</td>\n",
       "      <td>0.0</td>\n",
       "      <td>0.082024</td>\n",
       "      <td>Very Narrow</td>\n",
       "      <td>0</td>\n",
       "      <td>0</td>\n",
       "      <td>NaN</td>\n",
       "    </tr>\n",
       "    <tr>\n",
       "      <th>6</th>\n",
       "      <td>Abbotsford</td>\n",
       "      <td>55a Park St</td>\n",
       "      <td>4.0</td>\n",
       "      <td>h</td>\n",
       "      <td>1600000.0</td>\n",
       "      <td>VB</td>\n",
       "      <td>Nelson</td>\n",
       "      <td>4/06/2016</td>\n",
       "      <td>2.5</td>\n",
       "      <td>3067.0</td>\n",
       "      <td>...</td>\n",
       "      <td>Yarra City Council</td>\n",
       "      <td>Northern Metropolitan</td>\n",
       "      <td>4019.0</td>\n",
       "      <td>more than 1.5 m</td>\n",
       "      <td>0.0</td>\n",
       "      <td>0.104712</td>\n",
       "      <td>Very Narrow</td>\n",
       "      <td>0</td>\n",
       "      <td>0</td>\n",
       "      <td>NaN</td>\n",
       "    </tr>\n",
       "    <tr>\n",
       "      <th>...</th>\n",
       "      <td>...</td>\n",
       "      <td>...</td>\n",
       "      <td>...</td>\n",
       "      <td>...</td>\n",
       "      <td>...</td>\n",
       "      <td>...</td>\n",
       "      <td>...</td>\n",
       "      <td>...</td>\n",
       "      <td>...</td>\n",
       "      <td>...</td>\n",
       "      <td>...</td>\n",
       "      <td>...</td>\n",
       "      <td>...</td>\n",
       "      <td>...</td>\n",
       "      <td>...</td>\n",
       "      <td>...</td>\n",
       "      <td>...</td>\n",
       "      <td>...</td>\n",
       "      <td>...</td>\n",
       "      <td>...</td>\n",
       "      <td>...</td>\n",
       "    </tr>\n",
       "    <tr>\n",
       "      <th>34769</th>\n",
       "      <td>NaN</td>\n",
       "      <td>NaN</td>\n",
       "      <td>NaN</td>\n",
       "      <td>NaN</td>\n",
       "      <td>NaN</td>\n",
       "      <td>NaN</td>\n",
       "      <td>NaN</td>\n",
       "      <td>NaN</td>\n",
       "      <td>NaN</td>\n",
       "      <td>NaN</td>\n",
       "      <td>...</td>\n",
       "      <td>NaN</td>\n",
       "      <td>NaN</td>\n",
       "      <td>NaN</td>\n",
       "      <td>NaN</td>\n",
       "      <td>NaN</td>\n",
       "      <td>NaN</td>\n",
       "      <td>NaN</td>\n",
       "      <td>NaN</td>\n",
       "      <td>NaN</td>\n",
       "      <td>2.0</td>\n",
       "    </tr>\n",
       "    <tr>\n",
       "      <th>34779</th>\n",
       "      <td>NaN</td>\n",
       "      <td>NaN</td>\n",
       "      <td>NaN</td>\n",
       "      <td>NaN</td>\n",
       "      <td>NaN</td>\n",
       "      <td>NaN</td>\n",
       "      <td>NaN</td>\n",
       "      <td>NaN</td>\n",
       "      <td>NaN</td>\n",
       "      <td>NaN</td>\n",
       "      <td>...</td>\n",
       "      <td>NaN</td>\n",
       "      <td>NaN</td>\n",
       "      <td>NaN</td>\n",
       "      <td>NaN</td>\n",
       "      <td>NaN</td>\n",
       "      <td>NaN</td>\n",
       "      <td>NaN</td>\n",
       "      <td>NaN</td>\n",
       "      <td>NaN</td>\n",
       "      <td>2.0</td>\n",
       "    </tr>\n",
       "    <tr>\n",
       "      <th>34792</th>\n",
       "      <td>NaN</td>\n",
       "      <td>NaN</td>\n",
       "      <td>NaN</td>\n",
       "      <td>NaN</td>\n",
       "      <td>NaN</td>\n",
       "      <td>NaN</td>\n",
       "      <td>NaN</td>\n",
       "      <td>NaN</td>\n",
       "      <td>NaN</td>\n",
       "      <td>NaN</td>\n",
       "      <td>...</td>\n",
       "      <td>NaN</td>\n",
       "      <td>NaN</td>\n",
       "      <td>NaN</td>\n",
       "      <td>NaN</td>\n",
       "      <td>NaN</td>\n",
       "      <td>NaN</td>\n",
       "      <td>NaN</td>\n",
       "      <td>NaN</td>\n",
       "      <td>NaN</td>\n",
       "      <td>2.0</td>\n",
       "    </tr>\n",
       "    <tr>\n",
       "      <th>34813</th>\n",
       "      <td>NaN</td>\n",
       "      <td>NaN</td>\n",
       "      <td>NaN</td>\n",
       "      <td>NaN</td>\n",
       "      <td>NaN</td>\n",
       "      <td>NaN</td>\n",
       "      <td>NaN</td>\n",
       "      <td>NaN</td>\n",
       "      <td>NaN</td>\n",
       "      <td>NaN</td>\n",
       "      <td>...</td>\n",
       "      <td>NaN</td>\n",
       "      <td>NaN</td>\n",
       "      <td>NaN</td>\n",
       "      <td>NaN</td>\n",
       "      <td>NaN</td>\n",
       "      <td>NaN</td>\n",
       "      <td>NaN</td>\n",
       "      <td>NaN</td>\n",
       "      <td>NaN</td>\n",
       "      <td>1.0</td>\n",
       "    </tr>\n",
       "    <tr>\n",
       "      <th>34829</th>\n",
       "      <td>NaN</td>\n",
       "      <td>NaN</td>\n",
       "      <td>NaN</td>\n",
       "      <td>NaN</td>\n",
       "      <td>NaN</td>\n",
       "      <td>NaN</td>\n",
       "      <td>NaN</td>\n",
       "      <td>NaN</td>\n",
       "      <td>NaN</td>\n",
       "      <td>NaN</td>\n",
       "      <td>...</td>\n",
       "      <td>NaN</td>\n",
       "      <td>NaN</td>\n",
       "      <td>NaN</td>\n",
       "      <td>NaN</td>\n",
       "      <td>NaN</td>\n",
       "      <td>NaN</td>\n",
       "      <td>NaN</td>\n",
       "      <td>NaN</td>\n",
       "      <td>NaN</td>\n",
       "      <td>2.0</td>\n",
       "    </tr>\n",
       "  </tbody>\n",
       "</table>\n",
       "<p>58898 rows × 24 columns</p>\n",
       "</div>"
      ],
      "text/plain": [
       "           Suburb           Address  Rooms Type      Price Method SellerG  \\\n",
       "1      Abbotsford      85 Turner St    2.0    h  1480000.0      S  Biggin   \n",
       "2      Abbotsford   25 Bloomburg St    2.0    h  1035000.0      S  Biggin   \n",
       "4      Abbotsford      5 Charles St    3.0    h  1465000.0     SP  Biggin   \n",
       "5      Abbotsford  40 Federation La    3.0    h   850000.0     PI  Biggin   \n",
       "6      Abbotsford       55a Park St    4.0    h  1600000.0     VB  Nelson   \n",
       "...           ...               ...    ...  ...        ...    ...     ...   \n",
       "34769         NaN               NaN    NaN  NaN        NaN    NaN     NaN   \n",
       "34779         NaN               NaN    NaN  NaN        NaN    NaN     NaN   \n",
       "34792         NaN               NaN    NaN  NaN        NaN    NaN     NaN   \n",
       "34813         NaN               NaN    NaN  NaN        NaN    NaN     NaN   \n",
       "34829         NaN               NaN    NaN  NaN        NaN    NaN     NaN   \n",
       "\n",
       "            Date  Distance  Postcode  ...         CouncilArea  \\\n",
       "1      3/12/2016       2.5    3067.0  ...  Yarra City Council   \n",
       "2      4/02/2016       2.5    3067.0  ...  Yarra City Council   \n",
       "4      4/03/2017       2.5    3067.0  ...  Yarra City Council   \n",
       "5      4/03/2017       2.5    3067.0  ...  Yarra City Council   \n",
       "6      4/06/2016       2.5    3067.0  ...  Yarra City Council   \n",
       "...          ...       ...       ...  ...                 ...   \n",
       "34769        NaN       NaN       NaN  ...                 NaN   \n",
       "34779        NaN       NaN       NaN  ...                 NaN   \n",
       "34792        NaN       NaN       NaN  ...                 NaN   \n",
       "34813        NaN       NaN       NaN  ...                 NaN   \n",
       "34829        NaN       NaN       NaN  ...                 NaN   \n",
       "\n",
       "                  Regionname  Propertycount         cut_price Price_minmax  \\\n",
       "1      Northern Metropolitan         4019.0         1m - 1.5m          0.0   \n",
       "2      Northern Metropolitan         4019.0         1m - 1.5m          0.0   \n",
       "4      Northern Metropolitan         4019.0         1m - 1.5m          0.0   \n",
       "5      Northern Metropolitan         4019.0           500k-1m          0.0   \n",
       "6      Northern Metropolitan         4019.0   more than 1.5 m          0.0   \n",
       "...                      ...            ...               ...          ...   \n",
       "34769                    NaN            NaN               NaN          NaN   \n",
       "34779                    NaN            NaN               NaN          NaN   \n",
       "34792                    NaN            NaN               NaN          NaN   \n",
       "34813                    NaN            NaN               NaN          NaN   \n",
       "34829                    NaN            NaN               NaN          NaN   \n",
       "\n",
       "      Landsize_minmax  cut_landsize cut_propertycount  cut_distance    0  \n",
       "1            0.176265  Very Narrow                  0             0  NaN  \n",
       "2            0.136126  Very Narrow                  0             0  NaN  \n",
       "4            0.116928  Very Narrow                  0             0  NaN  \n",
       "5            0.082024  Very Narrow                  0             0  NaN  \n",
       "6            0.104712  Very Narrow                  0             0  NaN  \n",
       "...               ...           ...               ...           ...  ...  \n",
       "34769             NaN           NaN               NaN           NaN  2.0  \n",
       "34779             NaN           NaN               NaN           NaN  2.0  \n",
       "34792             NaN           NaN               NaN           NaN  2.0  \n",
       "34813             NaN           NaN               NaN           NaN  1.0  \n",
       "34829             NaN           NaN               NaN           NaN  2.0  \n",
       "\n",
       "[58898 rows x 24 columns]"
      ]
     },
     "execution_count": 245,
     "metadata": {},
     "output_type": "execute_result"
    }
   ],
   "source": [
    "df_merged"
   ]
  },
  {
   "cell_type": "code",
   "execution_count": 162,
   "id": "3550543e-206c-4358-b73b-ef6eea65aec8",
   "metadata": {},
   "outputs": [
    {
     "name": "stdout",
     "output_type": "stream",
     "text": [
      "LabelEncoder()\n"
     ]
    }
   ],
   "source": [
    "le = LabelEncoder()\n",
    "print(le)"
   ]
  },
  {
   "cell_type": "code",
   "execution_count": 172,
   "id": "96dd363c-416d-4371-b477-4d41f5a70eba",
   "metadata": {},
   "outputs": [],
   "source": [
    "# contoh label encoding, gunakan fit_transform untuk encode data\n",
    "df_cut[\"Method_enc\"] = le.fit_transform(df_cut[[\"Method\"]])\n",
    "df_cut[\"Regionname_enc\"] = le.fit_transform(df_cut[[\"Regionname\"]])\n",
    "df_cut[\"CouncilArea_enc\"] = le.fit_transform(df_cut [[\"CouncilArea\"]])"
   ]
  },
  {
   "cell_type": "code",
   "execution_count": 173,
   "id": "6400ba0b-123f-4931-909e-8e3eed9d98d0",
   "metadata": {},
   "outputs": [],
   "source": [
    "df_cut[\"Method\"] = df_cut[\"Method\"].astype(object)\n",
    "df_cut[\"Regionname\"] = df_cut[\"Regionname\"].astype(object)\n",
    "df_cut[\"CouncilArea\"] = df_cut[\"CouncilArea\"].astype(object)"
   ]
  },
  {
   "cell_type": "code",
   "execution_count": 174,
   "id": "a0dab388-9476-448d-932a-84b3ed7f730b",
   "metadata": {},
   "outputs": [
    {
     "data": {
      "text/plain": [
       "CouncilArea                     CouncilArea_enc\n",
       "Banyule City Council            0                  1697\n",
       "Bayside City Council            1                  1389\n",
       "Boroondara City Council         2                  2674\n",
       "Brimbank City Council           3                  1507\n",
       "Darebin City Council            4                  1910\n",
       "Glen Eira City Council          5                  1851\n",
       "Greater Dandenong City Council  6                   260\n",
       "Hobsons Bay City Council        7                   875\n",
       "Hume City Council               8                   972\n",
       "Kingston City Council           9                   666\n",
       "Knox City Council               10                  306\n",
       "Manningham City Council         11                  893\n",
       "Maribyrnong City Council        12                 1388\n",
       "Maroondah City Council          13                  427\n",
       "Melbourne City Council          14                 1712\n",
       "Melton City Council             15                  106\n",
       "Monash City Council             16                 1282\n",
       "Moonee Valley City Council      17                 1648\n",
       "Moreland City Council           18                 2025\n",
       "Nillumbik Shire Council         19                   39\n",
       "Port Phillip City Council       20                 1105\n",
       "Stonnington City Council        21                 1169\n",
       "Whitehorse City Council         22                  549\n",
       "Whittlesea City Council         23                  530\n",
       "Wyndham City Council            24                  519\n",
       "Yarra City Council              25                 1089\n",
       "unknown                         26                    2\n",
       "Name: cut_price, dtype: int64"
      ]
     },
     "execution_count": 174,
     "metadata": {},
     "output_type": "execute_result"
    }
   ],
   "source": [
    "df_cut.groupby([\"Method\", \"Method_enc\"])[\"cut_price\"].count()\n",
    "df_cut.groupby([\"Regionname\", \"Regionname_enc\"])[\"cut_price\"].count()\n",
    "df_cut.groupby([\"CouncilArea\", \"CouncilArea_enc\"])[\"cut_price\"].count()"
   ]
  },
  {
   "cell_type": "code",
   "execution_count": 158,
   "id": "863da65d-6c9c-4071-8682-fbb8c45380ad",
   "metadata": {},
   "outputs": [],
   "source": [
    "# contoh dengan ordinal encoder, gunakan fit_transform untuk encode data\n",
    "df_enc[\"cut_price_enc\"] = OrdinalEncoder().fit_transform(df_enc[[\"cut_price\"]])"
   ]
  },
  {
   "cell_type": "code",
   "execution_count": 175,
   "id": "9d054c8b-cbbc-4cb9-a696-4c19ac124523",
   "metadata": {},
   "outputs": [
    {
     "data": {
      "text/html": [
       "<div>\n",
       "<style scoped>\n",
       "    .dataframe tbody tr th:only-of-type {\n",
       "        vertical-align: middle;\n",
       "    }\n",
       "\n",
       "    .dataframe tbody tr th {\n",
       "        vertical-align: top;\n",
       "    }\n",
       "\n",
       "    .dataframe thead th {\n",
       "        text-align: right;\n",
       "    }\n",
       "</style>\n",
       "<table border=\"1\" class=\"dataframe\">\n",
       "  <thead>\n",
       "    <tr style=\"text-align: right;\">\n",
       "      <th></th>\n",
       "      <th>count</th>\n",
       "      <th>mean</th>\n",
       "      <th>std</th>\n",
       "      <th>min</th>\n",
       "      <th>25%</th>\n",
       "      <th>50%</th>\n",
       "      <th>75%</th>\n",
       "      <th>max</th>\n",
       "    </tr>\n",
       "  </thead>\n",
       "  <tbody>\n",
       "    <tr>\n",
       "      <th>Rooms</th>\n",
       "      <td>28590.0</td>\n",
       "      <td>2.864813</td>\n",
       "      <td>0.819899</td>\n",
       "      <td>1.0</td>\n",
       "      <td>2.00000</td>\n",
       "      <td>3.000000</td>\n",
       "      <td>3.000000e+00</td>\n",
       "      <td>6.0</td>\n",
       "    </tr>\n",
       "    <tr>\n",
       "      <th>Price</th>\n",
       "      <td>28590.0</td>\n",
       "      <td>940385.159916</td>\n",
       "      <td>368522.863182</td>\n",
       "      <td>85000.0</td>\n",
       "      <td>655000.00000</td>\n",
       "      <td>920000.000000</td>\n",
       "      <td>1.210000e+06</td>\n",
       "      <td>2035000.0</td>\n",
       "    </tr>\n",
       "    <tr>\n",
       "      <th>Distance</th>\n",
       "      <td>28590.0</td>\n",
       "      <td>10.224127</td>\n",
       "      <td>5.188696</td>\n",
       "      <td>0.0</td>\n",
       "      <td>6.20000</td>\n",
       "      <td>9.700000</td>\n",
       "      <td>1.380000e+01</td>\n",
       "      <td>25.0</td>\n",
       "    </tr>\n",
       "    <tr>\n",
       "      <th>Postcode</th>\n",
       "      <td>28590.0</td>\n",
       "      <td>3098.652851</td>\n",
       "      <td>59.869970</td>\n",
       "      <td>3000.0</td>\n",
       "      <td>3044.00000</td>\n",
       "      <td>3087.000000</td>\n",
       "      <td>3.148000e+03</td>\n",
       "      <td>3207.0</td>\n",
       "    </tr>\n",
       "    <tr>\n",
       "      <th>Bedroom2</th>\n",
       "      <td>28590.0</td>\n",
       "      <td>2.850192</td>\n",
       "      <td>0.811039</td>\n",
       "      <td>1.0</td>\n",
       "      <td>2.00000</td>\n",
       "      <td>3.000000</td>\n",
       "      <td>3.000000e+00</td>\n",
       "      <td>4.0</td>\n",
       "    </tr>\n",
       "    <tr>\n",
       "      <th>Bathroom</th>\n",
       "      <td>28590.0</td>\n",
       "      <td>2.879363</td>\n",
       "      <td>2.672716</td>\n",
       "      <td>0.0</td>\n",
       "      <td>1.00000</td>\n",
       "      <td>2.000000</td>\n",
       "      <td>2.000000e+00</td>\n",
       "      <td>8.0</td>\n",
       "    </tr>\n",
       "    <tr>\n",
       "      <th>Car</th>\n",
       "      <td>28590.0</td>\n",
       "      <td>3.058587</td>\n",
       "      <td>2.707136</td>\n",
       "      <td>0.0</td>\n",
       "      <td>1.00000</td>\n",
       "      <td>2.000000</td>\n",
       "      <td>3.000000e+00</td>\n",
       "      <td>26.0</td>\n",
       "    </tr>\n",
       "    <tr>\n",
       "      <th>Landsize</th>\n",
       "      <td>28590.0</td>\n",
       "      <td>385.697167</td>\n",
       "      <td>233.837811</td>\n",
       "      <td>0.0</td>\n",
       "      <td>232.50000</td>\n",
       "      <td>309.000000</td>\n",
       "      <td>5.980000e+02</td>\n",
       "      <td>1146.0</td>\n",
       "    </tr>\n",
       "    <tr>\n",
       "      <th>Propertycount</th>\n",
       "      <td>28590.0</td>\n",
       "      <td>7195.575761</td>\n",
       "      <td>3862.945368</td>\n",
       "      <td>0.0</td>\n",
       "      <td>4258.00000</td>\n",
       "      <td>6543.000000</td>\n",
       "      <td>1.017500e+04</td>\n",
       "      <td>17496.0</td>\n",
       "    </tr>\n",
       "    <tr>\n",
       "      <th>Price_minmax</th>\n",
       "      <td>28590.0</td>\n",
       "      <td>0.000140</td>\n",
       "      <td>0.011828</td>\n",
       "      <td>0.0</td>\n",
       "      <td>0.00000</td>\n",
       "      <td>0.000000</td>\n",
       "      <td>0.000000e+00</td>\n",
       "      <td>1.0</td>\n",
       "    </tr>\n",
       "    <tr>\n",
       "      <th>Landsize_minmax</th>\n",
       "      <td>28590.0</td>\n",
       "      <td>0.336559</td>\n",
       "      <td>0.204047</td>\n",
       "      <td>0.0</td>\n",
       "      <td>0.20288</td>\n",
       "      <td>0.269634</td>\n",
       "      <td>5.218150e-01</td>\n",
       "      <td>1.0</td>\n",
       "    </tr>\n",
       "    <tr>\n",
       "      <th>Method_enc</th>\n",
       "      <td>28590.0</td>\n",
       "      <td>2.713851</td>\n",
       "      <td>1.964069</td>\n",
       "      <td>0.0</td>\n",
       "      <td>2.00000</td>\n",
       "      <td>2.000000</td>\n",
       "      <td>4.000000e+00</td>\n",
       "      <td>8.0</td>\n",
       "    </tr>\n",
       "    <tr>\n",
       "      <th>Regionname_enc</th>\n",
       "      <td>28590.0</td>\n",
       "      <td>2.818118</td>\n",
       "      <td>1.859847</td>\n",
       "      <td>0.0</td>\n",
       "      <td>1.00000</td>\n",
       "      <td>4.000000</td>\n",
       "      <td>4.000000e+00</td>\n",
       "      <td>6.0</td>\n",
       "    </tr>\n",
       "    <tr>\n",
       "      <th>CouncilArea_enc</th>\n",
       "      <td>28590.0</td>\n",
       "      <td>10.724904</td>\n",
       "      <td>7.737557</td>\n",
       "      <td>0.0</td>\n",
       "      <td>3.00000</td>\n",
       "      <td>11.000000</td>\n",
       "      <td>1.700000e+01</td>\n",
       "      <td>26.0</td>\n",
       "    </tr>\n",
       "  </tbody>\n",
       "</table>\n",
       "</div>"
      ],
      "text/plain": [
       "                   count           mean            std      min           25%  \\\n",
       "Rooms            28590.0       2.864813       0.819899      1.0       2.00000   \n",
       "Price            28590.0  940385.159916  368522.863182  85000.0  655000.00000   \n",
       "Distance         28590.0      10.224127       5.188696      0.0       6.20000   \n",
       "Postcode         28590.0    3098.652851      59.869970   3000.0    3044.00000   \n",
       "Bedroom2         28590.0       2.850192       0.811039      1.0       2.00000   \n",
       "Bathroom         28590.0       2.879363       2.672716      0.0       1.00000   \n",
       "Car              28590.0       3.058587       2.707136      0.0       1.00000   \n",
       "Landsize         28590.0     385.697167     233.837811      0.0     232.50000   \n",
       "Propertycount    28590.0    7195.575761    3862.945368      0.0    4258.00000   \n",
       "Price_minmax     28590.0       0.000140       0.011828      0.0       0.00000   \n",
       "Landsize_minmax  28590.0       0.336559       0.204047      0.0       0.20288   \n",
       "Method_enc       28590.0       2.713851       1.964069      0.0       2.00000   \n",
       "Regionname_enc   28590.0       2.818118       1.859847      0.0       1.00000   \n",
       "CouncilArea_enc  28590.0      10.724904       7.737557      0.0       3.00000   \n",
       "\n",
       "                           50%           75%        max  \n",
       "Rooms                 3.000000  3.000000e+00        6.0  \n",
       "Price            920000.000000  1.210000e+06  2035000.0  \n",
       "Distance              9.700000  1.380000e+01       25.0  \n",
       "Postcode           3087.000000  3.148000e+03     3207.0  \n",
       "Bedroom2              3.000000  3.000000e+00        4.0  \n",
       "Bathroom              2.000000  2.000000e+00        8.0  \n",
       "Car                   2.000000  3.000000e+00       26.0  \n",
       "Landsize            309.000000  5.980000e+02     1146.0  \n",
       "Propertycount      6543.000000  1.017500e+04    17496.0  \n",
       "Price_minmax          0.000000  0.000000e+00        1.0  \n",
       "Landsize_minmax       0.269634  5.218150e-01        1.0  \n",
       "Method_enc            2.000000  4.000000e+00        8.0  \n",
       "Regionname_enc        4.000000  4.000000e+00        6.0  \n",
       "CouncilArea_enc      11.000000  1.700000e+01       26.0  "
      ]
     },
     "execution_count": 175,
     "metadata": {},
     "output_type": "execute_result"
    }
   ],
   "source": [
    "# cek data terlebih dahulu untuk mengetahui threshold\n",
    "df_cut.describe().T"
   ]
  },
  {
   "cell_type": "markdown",
   "id": "8ed03dcb-e10f-4a87-9a63-edc99ba8de0b",
   "metadata": {
    "tags": []
   },
   "source": [
    "# Feature Selection"
   ]
  },
  {
   "cell_type": "code",
   "execution_count": 163,
   "id": "17fd8f7d-36c0-45e1-a4de-ee286d31f0b2",
   "metadata": {},
   "outputs": [],
   "source": [
    "# import library\n",
    "from sklearn.feature_selection import SelectKBest, chi2, f_classif, f_regression\n",
    "from sklearn.ensemble import ExtraTreesClassifier, ExtraTreesRegressor"
   ]
  },
  {
   "cell_type": "code",
   "execution_count": 176,
   "id": "e25dba0f-2036-4186-9031-d3e90b0d2571",
   "metadata": {},
   "outputs": [
    {
     "data": {
      "text/html": [
       "<div>\n",
       "<style scoped>\n",
       "    .dataframe tbody tr th:only-of-type {\n",
       "        vertical-align: middle;\n",
       "    }\n",
       "\n",
       "    .dataframe tbody tr th {\n",
       "        vertical-align: top;\n",
       "    }\n",
       "\n",
       "    .dataframe thead th {\n",
       "        text-align: right;\n",
       "    }\n",
       "</style>\n",
       "<table border=\"1\" class=\"dataframe\">\n",
       "  <thead>\n",
       "    <tr style=\"text-align: right;\">\n",
       "      <th></th>\n",
       "      <th>Rooms</th>\n",
       "      <th>Type</th>\n",
       "      <th>Price</th>\n",
       "      <th>Method</th>\n",
       "      <th>Distance</th>\n",
       "      <th>Postcode</th>\n",
       "      <th>Bedroom2</th>\n",
       "      <th>Bathroom</th>\n",
       "      <th>Car</th>\n",
       "      <th>Landsize</th>\n",
       "      <th>...</th>\n",
       "      <th>Regionname</th>\n",
       "      <th>Propertycount</th>\n",
       "      <th>cut_price</th>\n",
       "      <th>cut_propertycount</th>\n",
       "      <th>cut_distance</th>\n",
       "      <th>Price_minmax</th>\n",
       "      <th>Landsize_minmax</th>\n",
       "      <th>Method_enc</th>\n",
       "      <th>Regionname_enc</th>\n",
       "      <th>CouncilArea_enc</th>\n",
       "    </tr>\n",
       "  </thead>\n",
       "  <tbody>\n",
       "    <tr>\n",
       "      <th>1</th>\n",
       "      <td>2</td>\n",
       "      <td>h</td>\n",
       "      <td>1480000</td>\n",
       "      <td>S</td>\n",
       "      <td>2.5</td>\n",
       "      <td>3067.0</td>\n",
       "      <td>2.0</td>\n",
       "      <td>1.0</td>\n",
       "      <td>1.0</td>\n",
       "      <td>202.0</td>\n",
       "      <td>...</td>\n",
       "      <td>Northern Metropolitan</td>\n",
       "      <td>4019.0</td>\n",
       "      <td>1m - 1.5m</td>\n",
       "      <td>0</td>\n",
       "      <td>0</td>\n",
       "      <td>0</td>\n",
       "      <td>0.176265</td>\n",
       "      <td>2</td>\n",
       "      <td>1</td>\n",
       "      <td>25</td>\n",
       "    </tr>\n",
       "    <tr>\n",
       "      <th>2</th>\n",
       "      <td>2</td>\n",
       "      <td>h</td>\n",
       "      <td>1035000</td>\n",
       "      <td>S</td>\n",
       "      <td>2.5</td>\n",
       "      <td>3067.0</td>\n",
       "      <td>2.0</td>\n",
       "      <td>1.0</td>\n",
       "      <td>0.0</td>\n",
       "      <td>156.0</td>\n",
       "      <td>...</td>\n",
       "      <td>Northern Metropolitan</td>\n",
       "      <td>4019.0</td>\n",
       "      <td>1m - 1.5m</td>\n",
       "      <td>0</td>\n",
       "      <td>0</td>\n",
       "      <td>0</td>\n",
       "      <td>0.136126</td>\n",
       "      <td>2</td>\n",
       "      <td>1</td>\n",
       "      <td>25</td>\n",
       "    </tr>\n",
       "    <tr>\n",
       "      <th>4</th>\n",
       "      <td>3</td>\n",
       "      <td>h</td>\n",
       "      <td>1465000</td>\n",
       "      <td>SP</td>\n",
       "      <td>2.5</td>\n",
       "      <td>3067.0</td>\n",
       "      <td>3.0</td>\n",
       "      <td>2.0</td>\n",
       "      <td>0.0</td>\n",
       "      <td>134.0</td>\n",
       "      <td>...</td>\n",
       "      <td>Northern Metropolitan</td>\n",
       "      <td>4019.0</td>\n",
       "      <td>1m - 1.5m</td>\n",
       "      <td>0</td>\n",
       "      <td>0</td>\n",
       "      <td>0</td>\n",
       "      <td>0.116928</td>\n",
       "      <td>5</td>\n",
       "      <td>1</td>\n",
       "      <td>25</td>\n",
       "    </tr>\n",
       "    <tr>\n",
       "      <th>5</th>\n",
       "      <td>3</td>\n",
       "      <td>h</td>\n",
       "      <td>850000</td>\n",
       "      <td>PI</td>\n",
       "      <td>2.5</td>\n",
       "      <td>3067.0</td>\n",
       "      <td>3.0</td>\n",
       "      <td>2.0</td>\n",
       "      <td>1.0</td>\n",
       "      <td>94.0</td>\n",
       "      <td>...</td>\n",
       "      <td>Northern Metropolitan</td>\n",
       "      <td>4019.0</td>\n",
       "      <td>500k-1m</td>\n",
       "      <td>0</td>\n",
       "      <td>0</td>\n",
       "      <td>0</td>\n",
       "      <td>0.082024</td>\n",
       "      <td>0</td>\n",
       "      <td>1</td>\n",
       "      <td>25</td>\n",
       "    </tr>\n",
       "    <tr>\n",
       "      <th>6</th>\n",
       "      <td>4</td>\n",
       "      <td>h</td>\n",
       "      <td>1600000</td>\n",
       "      <td>VB</td>\n",
       "      <td>2.5</td>\n",
       "      <td>3067.0</td>\n",
       "      <td>3.0</td>\n",
       "      <td>1.0</td>\n",
       "      <td>2.0</td>\n",
       "      <td>120.0</td>\n",
       "      <td>...</td>\n",
       "      <td>Northern Metropolitan</td>\n",
       "      <td>4019.0</td>\n",
       "      <td>more than 1.5 m</td>\n",
       "      <td>0</td>\n",
       "      <td>0</td>\n",
       "      <td>0</td>\n",
       "      <td>0.104712</td>\n",
       "      <td>7</td>\n",
       "      <td>1</td>\n",
       "      <td>25</td>\n",
       "    </tr>\n",
       "  </tbody>\n",
       "</table>\n",
       "<p>5 rows × 21 columns</p>\n",
       "</div>"
      ],
      "text/plain": [
       "   Rooms Type    Price Method  Distance  Postcode  Bedroom2  Bathroom  Car  \\\n",
       "1      2    h  1480000      S       2.5    3067.0       2.0       1.0  1.0   \n",
       "2      2    h  1035000      S       2.5    3067.0       2.0       1.0  0.0   \n",
       "4      3    h  1465000     SP       2.5    3067.0       3.0       2.0  0.0   \n",
       "5      3    h   850000     PI       2.5    3067.0       3.0       2.0  1.0   \n",
       "6      4    h  1600000     VB       2.5    3067.0       3.0       1.0  2.0   \n",
       "\n",
       "   Landsize  ...             Regionname Propertycount         cut_price  \\\n",
       "1     202.0  ...  Northern Metropolitan        4019.0         1m - 1.5m   \n",
       "2     156.0  ...  Northern Metropolitan        4019.0         1m - 1.5m   \n",
       "4     134.0  ...  Northern Metropolitan        4019.0         1m - 1.5m   \n",
       "5      94.0  ...  Northern Metropolitan        4019.0           500k-1m   \n",
       "6     120.0  ...  Northern Metropolitan        4019.0   more than 1.5 m   \n",
       "\n",
       "  cut_propertycount cut_distance Price_minmax  Landsize_minmax  Method_enc  \\\n",
       "1                 0            0            0         0.176265           2   \n",
       "2                 0            0            0         0.136126           2   \n",
       "4                 0            0            0         0.116928           5   \n",
       "5                 0            0            0         0.082024           0   \n",
       "6                 0            0            0         0.104712           7   \n",
       "\n",
       "   Regionname_enc  CouncilArea_enc  \n",
       "1               1               25  \n",
       "2               1               25  \n",
       "4               1               25  \n",
       "5               1               25  \n",
       "6               1               25  \n",
       "\n",
       "[5 rows x 21 columns]"
      ]
     },
     "execution_count": 176,
     "metadata": {},
     "output_type": "execute_result"
    }
   ],
   "source": [
    "df_cut.head()"
   ]
  },
  {
   "cell_type": "code",
   "execution_count": 205,
   "id": "7a9d4279-9c01-4868-b7f4-0619db9716dd",
   "metadata": {},
   "outputs": [
    {
     "name": "stdout",
     "output_type": "stream",
     "text": [
      "<class 'pandas.core.frame.DataFrame'>\n",
      "Int64Index: 28590 entries, 1 to 34829\n",
      "Data columns (total 21 columns):\n",
      " #   Column             Non-Null Count  Dtype   \n",
      "---  ------             --------------  -----   \n",
      " 0   Rooms              28590 non-null  int64   \n",
      " 1   Type               28590 non-null  object  \n",
      " 2   Price              28590 non-null  int64   \n",
      " 3   Method             28590 non-null  object  \n",
      " 4   Distance           28590 non-null  int64   \n",
      " 5   Postcode           28590 non-null  int64   \n",
      " 6   Bedroom2           28590 non-null  int64   \n",
      " 7   Bathroom           28590 non-null  int64   \n",
      " 8   Car                28590 non-null  int64   \n",
      " 9   Landsize           28590 non-null  int64   \n",
      " 10  CouncilArea        28590 non-null  object  \n",
      " 11  Regionname         28590 non-null  object  \n",
      " 12  Propertycount      28590 non-null  float64 \n",
      " 13  cut_price          28590 non-null  category\n",
      " 14  cut_propertycount  28588 non-null  category\n",
      " 15  cut_distance       28515 non-null  category\n",
      " 16  Price_minmax       28590 non-null  int64   \n",
      " 17  Landsize_minmax    28590 non-null  category\n",
      " 18  Method_enc         28590 non-null  int64   \n",
      " 19  Regionname_enc     28590 non-null  int64   \n",
      " 20  CouncilArea_enc    28590 non-null  int64   \n",
      "dtypes: category(4), float64(1), int64(12), object(4)\n",
      "memory usage: 5.1+ MB\n"
     ]
    }
   ],
   "source": [
    "df_cut.info(0)"
   ]
  },
  {
   "cell_type": "code",
   "execution_count": 166,
   "id": "be62c9fa-a428-4dab-a3e4-53c64e3563aa",
   "metadata": {},
   "outputs": [],
   "source": [
    "# split dependent dan independent (target)\n",
    "X = df_cut.drop(columns=[\"Price_minmax\"]) # independent feature, non target\n",
    "y = df_cut[\"Price_minmax\"] #target\n"
   ]
  },
  {
   "cell_type": "code",
   "execution_count": 198,
   "id": "d5059613-8e2a-4051-b32d-1388864d656f",
   "metadata": {},
   "outputs": [],
   "source": [
    "df_cut['Distance'] = df_cut['Distance'].astype('int64')\n",
    "df_cut['Postcode'] = df_cut['Postcode'].astype('int64')\n",
    "df_cut['Bedroom2'] = df_cut['Bedroom2'].astype('int64')\n",
    "df_cut['Car'] = df_cut['Car'].astype('int64')\n",
    "df_cut['Bathroom'] = df_cut['Bathroom'].astype('int64')\n"
   ]
  },
  {
   "cell_type": "code",
   "execution_count": 204,
   "id": "e6dbe892-29a4-4dbb-8f00-a94736f48465",
   "metadata": {},
   "outputs": [],
   "source": [
    "df_cut['Landsize_minmax'] = df_cut['Landsize_minmax'].astype('category')\n",
    "\n"
   ]
  },
  {
   "cell_type": "code",
   "execution_count": null,
   "id": "2d431f2b-a37f-4b99-ad9e-fe6a6e3d5284",
   "metadata": {},
   "outputs": [],
   "source": [
    "df_cut['cut_propertycount'] = df_cut['cut_propertycount'].astype('int64')"
   ]
  },
  {
   "cell_type": "code",
   "execution_count": 194,
   "id": "b8fcac9a-28fc-43a4-b801-92db7738fd1f",
   "metadata": {},
   "outputs": [],
   "source": [
    "df_cut[\"Price_minmax\"] = df_cut[\"Price_minmax\"].astype('int64')\n",
    "df_cut[\"Price\"] = df_cut[\"Price\"].astype('int64')\n",
    "df_cut[\"Method_enc\"] = df_cut[\"Method_enc\"].astype('int64')\n",
    "df_cut[\"Regionname_enc\"] = df_cut[\"Regionname_enc\"].astype('int64')\n",
    "df_cut[\"CouncilArea_enc\"] = df_cut[\"CouncilArea_enc\"].astype('int64')"
   ]
  },
  {
   "cell_type": "code",
   "execution_count": 206,
   "id": "742500ac-405f-4a5c-94e8-d8f12eb5564f",
   "metadata": {},
   "outputs": [
    {
     "data": {
      "image/png": "[encoded data removed]",
      "text/plain": [
       "<Figure size 720x432 with 1 Axes>"
      ]
     },
     "metadata": {
      "needs_background": "light"
     },
     "output_type": "display_data"
    }
   ],
   "source": [
    "# dengan korelasi\n",
    "plt.figure(figsize=(10,6))\n",
    "df_cut.corr(\"spearman\")[\"Price_minmax\"].sort_values(ascending=False).head(11).plot(kind = 'barh')\n",
    "plt.show()"
   ]
  },
  {
   "cell_type": "code",
   "execution_count": 207,
   "id": "e961ba23-f158-4ecb-8f4b-56a5afa17423",
   "metadata": {},
   "outputs": [
    {
     "data": {
      "image/png": "[encoded data removed]",
      "text/plain": [
       "<Figure size 1440x1440 with 2 Axes>"
      ]
     },
     "metadata": {
      "needs_background": "light"
     },
     "output_type": "display_data"
    }
   ],
   "source": [
    "# contoh korelasi dengan heatmap\n",
    "plt.figure(figsize=(20,20))\n",
    "sns.heatmap(df_cut.corr(\"spearman\"), annot=True)\n",
    "plt.show()"
   ]
  },
  {
   "cell_type": "code",
   "execution_count": 202,
   "id": "8cdf6554-27fe-4058-baee-f526db9d8511",
   "metadata": {},
   "outputs": [
    {
     "ename": "ValueError",
     "evalue": "Unable to convert array of bytes/strings into decimal numbers with dtype='numeric'",
     "output_type": "error",
     "traceback": [
      "\u001b[1;31m---------------------------------------------------------------------------\u001b[0m",
      "\u001b[1;31mValueError\u001b[0m                                Traceback (most recent call last)",
      "File \u001b[1;32m~\\anaconda3\\lib\\site-packages\\sklearn\\utils\\validation.py:787\u001b[0m, in \u001b[0;36mcheck_array\u001b[1;34m(array, accept_sparse, accept_large_sparse, dtype, order, copy, force_all_finite, ensure_2d, allow_nd, ensure_min_samples, ensure_min_features, estimator)\u001b[0m\n\u001b[0;32m    786\u001b[0m \u001b[38;5;28;01mtry\u001b[39;00m:\n\u001b[1;32m--> 787\u001b[0m     array \u001b[38;5;241m=\u001b[39m \u001b[43marray\u001b[49m\u001b[38;5;241;43m.\u001b[39;49m\u001b[43mastype\u001b[49m\u001b[43m(\u001b[49m\u001b[43mnp\u001b[49m\u001b[38;5;241;43m.\u001b[39;49m\u001b[43mfloat64\u001b[49m\u001b[43m)\u001b[49m\n\u001b[0;32m    788\u001b[0m \u001b[38;5;28;01mexcept\u001b[39;00m \u001b[38;5;167;01mValueError\u001b[39;00m \u001b[38;5;28;01mas\u001b[39;00m e:\n",
      "\u001b[1;31mValueError\u001b[0m: could not convert string to float: 'h'",
      "\nThe above exception was the direct cause of the following exception:\n",
      "\u001b[1;31mValueError\u001b[0m                                Traceback (most recent call last)",
      "Input \u001b[1;32mIn [202]\u001b[0m, in \u001b[0;36m<cell line: 2>\u001b[1;34m()\u001b[0m\n\u001b[0;32m      1\u001b[0m bestfeatures \u001b[38;5;241m=\u001b[39m SelectKBest(score_func \u001b[38;5;241m=\u001b[39m f_classif, k\u001b[38;5;241m=\u001b[39m\u001b[38;5;241m10\u001b[39m) \u001b[38;5;66;03m# jika regression gunakan f_regression\u001b[39;00m\n\u001b[1;32m----> 2\u001b[0m fit \u001b[38;5;241m=\u001b[39m \u001b[43mbestfeatures\u001b[49m\u001b[38;5;241;43m.\u001b[39;49m\u001b[43mfit\u001b[49m\u001b[43m(\u001b[49m\u001b[43mX\u001b[49m\u001b[43m,\u001b[49m\u001b[43my\u001b[49m\u001b[43m)\u001b[49m\n\u001b[0;32m      3\u001b[0m dfscores \u001b[38;5;241m=\u001b[39m pd\u001b[38;5;241m.\u001b[39mDataFrame(fit\u001b[38;5;241m.\u001b[39mscores)\n\u001b[0;32m      4\u001b[0m dfcolumns \u001b[38;5;241m=\u001b[39m pd\u001b[38;5;241m.\u001b[39mDataFrame(X\u001b[38;5;241m.\u001b[39mcolumns)\n",
      "File \u001b[1;32m~\\anaconda3\\lib\\site-packages\\sklearn\\feature_selection\\_univariate_selection.py:397\u001b[0m, in \u001b[0;36m_BaseFilter.fit\u001b[1;34m(self, X, y)\u001b[0m\n\u001b[0;32m    380\u001b[0m \u001b[38;5;28;01mdef\u001b[39;00m \u001b[38;5;21mfit\u001b[39m(\u001b[38;5;28mself\u001b[39m, X, y):\n\u001b[0;32m    381\u001b[0m     \u001b[38;5;124;03m\"\"\"Run score function on (X, y) and get the appropriate features.\u001b[39;00m\n\u001b[0;32m    382\u001b[0m \n\u001b[0;32m    383\u001b[0m \u001b[38;5;124;03m    Parameters\u001b[39;00m\n\u001b[1;32m   (...)\u001b[0m\n\u001b[0;32m    395\u001b[0m \u001b[38;5;124;03m        Returns the instance itself.\u001b[39;00m\n\u001b[0;32m    396\u001b[0m \u001b[38;5;124;03m    \"\"\"\u001b[39;00m\n\u001b[1;32m--> 397\u001b[0m     X, y \u001b[38;5;241m=\u001b[39m \u001b[38;5;28;43mself\u001b[39;49m\u001b[38;5;241;43m.\u001b[39;49m\u001b[43m_validate_data\u001b[49m\u001b[43m(\u001b[49m\n\u001b[0;32m    398\u001b[0m \u001b[43m        \u001b[49m\u001b[43mX\u001b[49m\u001b[43m,\u001b[49m\u001b[43m \u001b[49m\u001b[43my\u001b[49m\u001b[43m,\u001b[49m\u001b[43m \u001b[49m\u001b[43maccept_sparse\u001b[49m\u001b[38;5;241;43m=\u001b[39;49m\u001b[43m[\u001b[49m\u001b[38;5;124;43m\"\u001b[39;49m\u001b[38;5;124;43mcsr\u001b[39;49m\u001b[38;5;124;43m\"\u001b[39;49m\u001b[43m,\u001b[49m\u001b[43m \u001b[49m\u001b[38;5;124;43m\"\u001b[39;49m\u001b[38;5;124;43mcsc\u001b[39;49m\u001b[38;5;124;43m\"\u001b[39;49m\u001b[43m]\u001b[49m\u001b[43m,\u001b[49m\u001b[43m \u001b[49m\u001b[43mmulti_output\u001b[49m\u001b[38;5;241;43m=\u001b[39;49m\u001b[38;5;28;43;01mTrue\u001b[39;49;00m\n\u001b[0;32m    399\u001b[0m \u001b[43m    \u001b[49m\u001b[43m)\u001b[49m\n\u001b[0;32m    401\u001b[0m     \u001b[38;5;28;01mif\u001b[39;00m \u001b[38;5;129;01mnot\u001b[39;00m callable(\u001b[38;5;28mself\u001b[39m\u001b[38;5;241m.\u001b[39mscore_func):\n\u001b[0;32m    402\u001b[0m         \u001b[38;5;28;01mraise\u001b[39;00m \u001b[38;5;167;01mTypeError\u001b[39;00m(\n\u001b[0;32m    403\u001b[0m             \u001b[38;5;124m\"\u001b[39m\u001b[38;5;124mThe score function should be a callable, \u001b[39m\u001b[38;5;132;01m%s\u001b[39;00m\u001b[38;5;124m (\u001b[39m\u001b[38;5;132;01m%s\u001b[39;00m\u001b[38;5;124m) was passed.\u001b[39m\u001b[38;5;124m\"\u001b[39m\n\u001b[0;32m    404\u001b[0m             \u001b[38;5;241m%\u001b[39m (\u001b[38;5;28mself\u001b[39m\u001b[38;5;241m.\u001b[39mscore_func, \u001b[38;5;28mtype\u001b[39m(\u001b[38;5;28mself\u001b[39m\u001b[38;5;241m.\u001b[39mscore_func))\n\u001b[0;32m    405\u001b[0m         )\n",
      "File \u001b[1;32m~\\anaconda3\\lib\\site-packages\\sklearn\\base.py:581\u001b[0m, in \u001b[0;36mBaseEstimator._validate_data\u001b[1;34m(self, X, y, reset, validate_separately, **check_params)\u001b[0m\n\u001b[0;32m    579\u001b[0m         y \u001b[38;5;241m=\u001b[39m check_array(y, \u001b[38;5;241m*\u001b[39m\u001b[38;5;241m*\u001b[39mcheck_y_params)\n\u001b[0;32m    580\u001b[0m     \u001b[38;5;28;01melse\u001b[39;00m:\n\u001b[1;32m--> 581\u001b[0m         X, y \u001b[38;5;241m=\u001b[39m check_X_y(X, y, \u001b[38;5;241m*\u001b[39m\u001b[38;5;241m*\u001b[39mcheck_params)\n\u001b[0;32m    582\u001b[0m     out \u001b[38;5;241m=\u001b[39m X, y\n\u001b[0;32m    584\u001b[0m \u001b[38;5;28;01mif\u001b[39;00m \u001b[38;5;129;01mnot\u001b[39;00m no_val_X \u001b[38;5;129;01mand\u001b[39;00m check_params\u001b[38;5;241m.\u001b[39mget(\u001b[38;5;124m\"\u001b[39m\u001b[38;5;124mensure_2d\u001b[39m\u001b[38;5;124m\"\u001b[39m, \u001b[38;5;28;01mTrue\u001b[39;00m):\n",
      "File \u001b[1;32m~\\anaconda3\\lib\\site-packages\\sklearn\\utils\\validation.py:964\u001b[0m, in \u001b[0;36mcheck_X_y\u001b[1;34m(X, y, accept_sparse, accept_large_sparse, dtype, order, copy, force_all_finite, ensure_2d, allow_nd, multi_output, ensure_min_samples, ensure_min_features, y_numeric, estimator)\u001b[0m\n\u001b[0;32m    961\u001b[0m \u001b[38;5;28;01mif\u001b[39;00m y \u001b[38;5;129;01mis\u001b[39;00m \u001b[38;5;28;01mNone\u001b[39;00m:\n\u001b[0;32m    962\u001b[0m     \u001b[38;5;28;01mraise\u001b[39;00m \u001b[38;5;167;01mValueError\u001b[39;00m(\u001b[38;5;124m\"\u001b[39m\u001b[38;5;124my cannot be None\u001b[39m\u001b[38;5;124m\"\u001b[39m)\n\u001b[1;32m--> 964\u001b[0m X \u001b[38;5;241m=\u001b[39m \u001b[43mcheck_array\u001b[49m\u001b[43m(\u001b[49m\n\u001b[0;32m    965\u001b[0m \u001b[43m    \u001b[49m\u001b[43mX\u001b[49m\u001b[43m,\u001b[49m\n\u001b[0;32m    966\u001b[0m \u001b[43m    \u001b[49m\u001b[43maccept_sparse\u001b[49m\u001b[38;5;241;43m=\u001b[39;49m\u001b[43maccept_sparse\u001b[49m\u001b[43m,\u001b[49m\n\u001b[0;32m    967\u001b[0m \u001b[43m    \u001b[49m\u001b[43maccept_large_sparse\u001b[49m\u001b[38;5;241;43m=\u001b[39;49m\u001b[43maccept_large_sparse\u001b[49m\u001b[43m,\u001b[49m\n\u001b[0;32m    968\u001b[0m \u001b[43m    \u001b[49m\u001b[43mdtype\u001b[49m\u001b[38;5;241;43m=\u001b[39;49m\u001b[43mdtype\u001b[49m\u001b[43m,\u001b[49m\n\u001b[0;32m    969\u001b[0m \u001b[43m    \u001b[49m\u001b[43morder\u001b[49m\u001b[38;5;241;43m=\u001b[39;49m\u001b[43morder\u001b[49m\u001b[43m,\u001b[49m\n\u001b[0;32m    970\u001b[0m \u001b[43m    \u001b[49m\u001b[43mcopy\u001b[49m\u001b[38;5;241;43m=\u001b[39;49m\u001b[43mcopy\u001b[49m\u001b[43m,\u001b[49m\n\u001b[0;32m    971\u001b[0m \u001b[43m    \u001b[49m\u001b[43mforce_all_finite\u001b[49m\u001b[38;5;241;43m=\u001b[39;49m\u001b[43mforce_all_finite\u001b[49m\u001b[43m,\u001b[49m\n\u001b[0;32m    972\u001b[0m \u001b[43m    \u001b[49m\u001b[43mensure_2d\u001b[49m\u001b[38;5;241;43m=\u001b[39;49m\u001b[43mensure_2d\u001b[49m\u001b[43m,\u001b[49m\n\u001b[0;32m    973\u001b[0m \u001b[43m    \u001b[49m\u001b[43mallow_nd\u001b[49m\u001b[38;5;241;43m=\u001b[39;49m\u001b[43mallow_nd\u001b[49m\u001b[43m,\u001b[49m\n\u001b[0;32m    974\u001b[0m \u001b[43m    \u001b[49m\u001b[43mensure_min_samples\u001b[49m\u001b[38;5;241;43m=\u001b[39;49m\u001b[43mensure_min_samples\u001b[49m\u001b[43m,\u001b[49m\n\u001b[0;32m    975\u001b[0m \u001b[43m    \u001b[49m\u001b[43mensure_min_features\u001b[49m\u001b[38;5;241;43m=\u001b[39;49m\u001b[43mensure_min_features\u001b[49m\u001b[43m,\u001b[49m\n\u001b[0;32m    976\u001b[0m \u001b[43m    \u001b[49m\u001b[43mestimator\u001b[49m\u001b[38;5;241;43m=\u001b[39;49m\u001b[43mestimator\u001b[49m\u001b[43m,\u001b[49m\n\u001b[0;32m    977\u001b[0m \u001b[43m\u001b[49m\u001b[43m)\u001b[49m\n\u001b[0;32m    979\u001b[0m y \u001b[38;5;241m=\u001b[39m _check_y(y, multi_output\u001b[38;5;241m=\u001b[39mmulti_output, y_numeric\u001b[38;5;241m=\u001b[39my_numeric)\n\u001b[0;32m    981\u001b[0m check_consistent_length(X, y)\n",
      "File \u001b[1;32m~\\anaconda3\\lib\\site-packages\\sklearn\\utils\\validation.py:789\u001b[0m, in \u001b[0;36mcheck_array\u001b[1;34m(array, accept_sparse, accept_large_sparse, dtype, order, copy, force_all_finite, ensure_2d, allow_nd, ensure_min_samples, ensure_min_features, estimator)\u001b[0m\n\u001b[0;32m    787\u001b[0m         array \u001b[38;5;241m=\u001b[39m array\u001b[38;5;241m.\u001b[39mastype(np\u001b[38;5;241m.\u001b[39mfloat64)\n\u001b[0;32m    788\u001b[0m     \u001b[38;5;28;01mexcept\u001b[39;00m \u001b[38;5;167;01mValueError\u001b[39;00m \u001b[38;5;28;01mas\u001b[39;00m e:\n\u001b[1;32m--> 789\u001b[0m         \u001b[38;5;28;01mraise\u001b[39;00m \u001b[38;5;167;01mValueError\u001b[39;00m(\n\u001b[0;32m    790\u001b[0m             \u001b[38;5;124m\"\u001b[39m\u001b[38;5;124mUnable to convert array of bytes/strings \u001b[39m\u001b[38;5;124m\"\u001b[39m\n\u001b[0;32m    791\u001b[0m             \u001b[38;5;124m\"\u001b[39m\u001b[38;5;124minto decimal numbers with dtype=\u001b[39m\u001b[38;5;124m'\u001b[39m\u001b[38;5;124mnumeric\u001b[39m\u001b[38;5;124m'\u001b[39m\u001b[38;5;124m\"\u001b[39m\n\u001b[0;32m    792\u001b[0m         ) \u001b[38;5;28;01mfrom\u001b[39;00m \u001b[38;5;21;01me\u001b[39;00m\n\u001b[0;32m    793\u001b[0m \u001b[38;5;28;01mif\u001b[39;00m \u001b[38;5;129;01mnot\u001b[39;00m allow_nd \u001b[38;5;129;01mand\u001b[39;00m array\u001b[38;5;241m.\u001b[39mndim \u001b[38;5;241m>\u001b[39m\u001b[38;5;241m=\u001b[39m \u001b[38;5;241m3\u001b[39m:\n\u001b[0;32m    794\u001b[0m     \u001b[38;5;28;01mraise\u001b[39;00m \u001b[38;5;167;01mValueError\u001b[39;00m(\n\u001b[0;32m    795\u001b[0m         \u001b[38;5;124m\"\u001b[39m\u001b[38;5;124mFound array with dim \u001b[39m\u001b[38;5;132;01m%d\u001b[39;00m\u001b[38;5;124m. \u001b[39m\u001b[38;5;132;01m%s\u001b[39;00m\u001b[38;5;124m expected <= 2.\u001b[39m\u001b[38;5;124m\"\u001b[39m\n\u001b[0;32m    796\u001b[0m         \u001b[38;5;241m%\u001b[39m (array\u001b[38;5;241m.\u001b[39mndim, estimator_name)\n\u001b[0;32m    797\u001b[0m     )\n",
      "\u001b[1;31mValueError\u001b[0m: Unable to convert array of bytes/strings into decimal numbers with dtype='numeric'"
     ]
    }
   ],
   "source": [
    "bestfeatures = SelectKBest(score_func = f_classif, k=10) # jika regression gunakan f_regression\n",
    "fit = bestfeatures.fit(X,y)\n",
    "dfscores = pd.DataFrame(fit.scores)\n",
    "dfcolumns = pd.DataFrame(X.columns)"
   ]
  }
 ],
 "metadata": {
  "kernelspec": {
   "display_name": "Python 3 (ipykernel)",
   "language": "python",
   "name": "python3"
  },
  "language_info": {
   "codemirror_mode": {
    "name": "ipython",
    "version": 3
   },
   "file_extension": ".py",
   "mimetype": "text/x-python",
   "name": "python",
   "nbconvert_exporter": "python",
   "pygments_lexer": "ipython3",
   "version": "3.9.12"
  }
 },
 "nbformat": 4,
 "nbformat_minor": 5
}
